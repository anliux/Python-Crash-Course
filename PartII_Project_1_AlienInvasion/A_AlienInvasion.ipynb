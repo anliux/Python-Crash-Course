{
 "cells": [
  {
   "cell_type": "markdown",
   "metadata": {},
   "source": [
    "# 项目1-外星人入侵"
   ]
  },
  {
   "cell_type": "markdown",
   "metadata": {},
   "source": [
    "## 目录：\n",
    "\n",
    "## 12-武装飞船\n",
    "## 13-外星人\n",
    "## 14-计分"
   ]
  },
  {
   "cell_type": "markdown",
   "metadata": {},
   "source": [
    "# 第十二章-武装飞船"
   ]
  },
  {
   "cell_type": "markdown",
   "metadata": {},
   "source": [
    "## 12.1 规划项目"
   ]
  },
  {
   "cell_type": "markdown",
   "metadata": {},
   "source": [
    "### 第一阶段：创建一艘可左右移动的飞船，按空格时可以开火。\n",
    "### 第二阶段：创建向下落的外星人"
   ]
  },
  {
   "cell_type": "markdown",
   "metadata": {},
   "source": [
    "## 12.2 安装Pygame"
   ]
  },
  {
   "cell_type": "markdown",
   "metadata": {},
   "source": [
    "### 按py3-pip安装进行：cmd窗口--pip--pip install pygame\n",
    "#### （参考GIA项目-day16的内容）\n",
    "#### （这里貌似有什么隐藏的坑？什么版本匹配之类的问题。。我找几篇博文看了一下，最后还是直接install试试）"
   ]
  },
  {
   "cell_type": "markdown",
   "metadata": {},
   "source": [
    "## 12.3 开始游戏项目"
   ]
  },
  {
   "cell_type": "code",
   "execution_count": 3,
   "metadata": {},
   "outputs": [
    {
     "ename": "SystemExit",
     "evalue": "",
     "output_type": "error",
     "traceback": [
      "An exception has occurred, use %tb to see the full traceback.\n",
      "\u001b[1;31mSystemExit\u001b[0m\n"
     ]
    }
   ],
   "source": [
    "# 1-创建Pygame窗口以及相应用户输入\n",
    "\n",
    "# 使用pygame编写的游戏的基本结构如下：\n",
    "# alien_invasion.py\n",
    "\n",
    "# import sys # 玩家退出时，使用模块sys来退出游戏\n",
    "             # 把退出功能放在game_functions.py中之后，主程序不再需要import sys\n",
    "    \n",
    "import pygame # 包含开发游戏所需的功能\n",
    "\n",
    "from settings import Settings # 3-创建设置类后import\n",
    "from ship import Ship # ship.py之后，import进来\n",
    "import game_functions as gf\n",
    "\n",
    "def run_game():\n",
    "    # 初始化游戏并创建一个屏幕对象\n",
    "    pygame.init()\n",
    "        # 初始化背景设置，让pygame能够正常工作\n",
    "        \n",
    "    ai_settings = Settings()\n",
    "        # 3-导入Settings类后，再创建一个Settings实例，并将其存储在变量ai_settings中\n",
    "        \n",
    "    screen = pygame.display.set_mode(\n",
    "        (ai_settings.screen_width, ai_settings.screen_height))\n",
    "        # 3-创建屏幕时，使用ai_settings的属性\n",
    "        # 调用pygame.display.set_mode()来创建一个名为screen的显示窗口。游戏的所有图形元素都将在其中绘制。\n",
    "        # 实参(1200,800)-一个元组，指定游戏窗口的尺寸。\n",
    "    \n",
    "    pygame.display.set_caption('Alien Invasion')\n",
    "    \n",
    "    \n",
    "    # 2-设置背景色\n",
    "    # bg_color = (230, 230, 230) # RGB\n",
    "    \n",
    "    \n",
    "    # 12.4-创建一艘飞船，必须在主循环while前面创建，以免每次循环都创建一艘飞船\n",
    "    ship = Ship(screen)\n",
    "    \n",
    "    \n",
    "    # 开始游戏的主循环\n",
    "    while True:\n",
    "        \n",
    "        gf.check_events(ship)\n",
    "        # 12.6.1后，响应按键，将ship作为实参传递\n",
    "        # 监视键盘和鼠标事件\n",
    "        # for event in pygame.event.get():  # 使用pygame.event.get()访问pygame检测到的事件\n",
    "        #    if event.type == pygame.QUIT: # 玩家单击游戏窗口的关闭按钮时，将检测到pygame.QUIT事件\n",
    "        #        pygame.quit()\n",
    "        #        sys.exit()                # 调用sys.exit()退出游戏\n",
    "        \n",
    "        # 12.6.2-新增：允许不断移动。飞船的位置在检测到键盘事件之后，但在屏幕更新之前\n",
    "        # 这样，玩家输入时，飞船的位置将更新，从而确保使用更新后的位置将飞船绘制到屏幕上。\n",
    "        ship.update()\n",
    "        \n",
    "        gf.update_screen(ai_settings, screen, ship)        \n",
    "        # 2-背景色部分\n",
    "        # screen.fill(ai_settings.bg_color) # screen.fill()只接受一种实参：一种颜色\n",
    "                                          # 3-import之后，使用ai_settings来访问背景色\n",
    "        \n",
    "        # 12.4-飞船：填充背景后，调用ship.blitme()将飞船绘制在屏幕上，确保它出现在北京前面\n",
    "        # ship.blitme()\n",
    "        \n",
    "        # 让最近绘制的屏幕可见\n",
    "        # pygame.display.flip() # 每次执行while时都绘制一个空屏幕，并擦去旧屏幕，使得只有新屏幕可见。\n",
    "        \n",
    "run_game() # 将初始化游戏并开始主循环"
   ]
  },
  {
   "cell_type": "code",
   "execution_count": null,
   "metadata": {},
   "outputs": [],
   "source": [
    "# settings.py\n",
    "# 用于将所有设置存储在一个地方，让代码调用更简单，且在项目增大时修改游戏的外观更容易\n",
    "\n",
    "class Settings():\n",
    "    \"\"\"存储《外星人入侵》的所有设置的类\"\"\"\n",
    "    \n",
    "    def __init__(self):\n",
    "        \"\"\"初始化游戏的设置\"\"\"\n",
    "        # 屏幕设置\n",
    "        self.screen_width = 1200\n",
    "        self.screen_height = 800\n",
    "        self.bg_color = (230, 230, 230)"
   ]
  },
  {
   "cell_type": "markdown",
   "metadata": {},
   "source": [
    "## 12.4 添加飞船图像"
   ]
  },
  {
   "cell_type": "markdown",
   "metadata": {},
   "source": [
    "### 1-加载一副图像，再用pygame方法blit()绘制\n",
    "\n",
    "### 2-选择素材时，注意务必安全\n",
    "\n",
    "### 3-使用位图（.bmp最简单，pygame默认加载位图）\n",
    "\n",
    "### 4-选择图像时注意背景色，尽可能选择背景透明的图像\n",
    "\n",
    "### 最后：在主项目文件夹（alien_invasion）中新建一个文件夹，命名为images，并将文件ship.bmp保存到这个文件夹"
   ]
  },
  {
   "cell_type": "code",
   "execution_count": null,
   "metadata": {},
   "outputs": [],
   "source": [
    "# 1-创建ship类\n",
    "# 创建一个名为ship的模块，其中包含ship类，它负责管理飞船的大部分行为\n",
    "\n",
    "# ship.py\n",
    "\n",
    "import pygame\n",
    "\n",
    "class Ship():\n",
    "    \n",
    "    def __init__(self, screen): # 后一个参数screen指定了要将飞船绘制到什么地方\n",
    "        \"\"\"初始化飞船并设置其初始位置\"\"\"\n",
    "        self.screen = screen\n",
    "        \n",
    "        # 加载飞船图像并获取其外接矩形\n",
    "        self.image = pygame.image.load('images/ship.bmp') # 这个load函数返回一个表示飞船的surface，并存储到self.image中\n",
    "        self.rect = self.image.get_rect() # 使用get_rect()获取响应surface的属性rect\n",
    "                                          # 处理rect对象时，可使用矩形四角和中心的x和y坐标，通过设置这些值来指定矩形的位置\n",
    "            # 居中：center，centerx，centery 与屏幕边缘对齐：top，bottom，left，right 等等\n",
    "        self.screen_rect = screen.get_rect() # 首先将表示屏幕的矩形存储在self.screen_rect中\n",
    "        \n",
    "        # 将每艘新飞船放在屏幕底部中央\n",
    "        self.rect.centerx = self.screen_rect.centerx # 将self.rect.centerx(飞船中心的x坐标)设置为表示屏幕的矩形的属性centerx\n",
    "        self.rect.bottom = self.screen_rect.bottom # 将self.rect.bottom(飞船下边缘的y坐标)设置为表示屏幕的矩形的属性bottom\n",
    "    \n",
    "    def blitme(self):\n",
    "        \"\"\"在指定位置绘制飞船\"\"\"\n",
    "        self.screen.blit(self.image, self.rect)"
   ]
  },
  {
   "cell_type": "code",
   "execution_count": null,
   "metadata": {},
   "outputs": [],
   "source": [
    "# 然后在alien_invasion.py中绘制飞船"
   ]
  },
  {
   "cell_type": "markdown",
   "metadata": {},
   "source": [
    "## 12.5 重构：模块game_functions"
   ]
  },
  {
   "cell_type": "markdown",
   "metadata": {},
   "source": [
    "### 在大型项目中，经常需要在添加新代码前重构既有代码。\n",
    "### 重构旨在简化既有代码的结构，使其更容易扩展。\n",
    "\n",
    "### 可创建一个名为game_functions的新模块，存储大量让游戏运行的函数，避免alien_invasion.py过长。"
   ]
  },
  {
   "cell_type": "code",
   "execution_count": null,
   "metadata": {},
   "outputs": [],
   "source": [
    "# game_functions.py\n",
    "\n",
    "# 导入事件循环要使用的sys和pygame\n",
    "import sys\n",
    "\n",
    "import pygame\n",
    "\n",
    "def check_events():\n",
    "    # 1-check_events()函数：存放管理事件的代码，以简化run_game()并隔离事件管理循环。\n",
    "    \"\"\"响应按键和鼠标事件\"\"\"\n",
    "    for event in pygame.event.get():\n",
    "        if event.type == pygame.QUIT:\n",
    "            pygame.quit() # 别忘了这句\n",
    "            sys.exit()\n",
    "            \n",
    "def update_screen(ai_settings, screen, ship):\n",
    "    # 2-update_screen()函数：存放更新屏幕的代码\n",
    "    \"\"\"更新屏幕上的图像，并切换到新屏幕\"\"\"\n",
    "    # 每次循环都重新绘制屏幕\n",
    "    screen.fill(ai_settings.bg_color)\n",
    "    ship.blitme()\n",
    "    \n",
    "    # 让最近绘制的屏幕可见\n",
    "    pygame.display.flip()"
   ]
  },
  {
   "cell_type": "markdown",
   "metadata": {},
   "source": [
    "## 12.6 驾驶飞船"
   ]
  },
  {
   "cell_type": "code",
   "execution_count": null,
   "metadata": {},
   "outputs": [],
   "source": [
    "# 1-响应按键\n",
    "# 每当用户按键时，都在pygame中注册一个事件，事件通过方法pygame.event.get()获取的\n",
    "# 因此在函数check_events()中，需要指定要检查哪些类型的事件\n",
    "# 每次按键都被注册为一个KEYDOWN事件\n",
    "\n",
    "# game_functions.py\n",
    "# 导入事件循环要使用的sys和pygame\n",
    "import sys\n",
    "\n",
    "import pygame\n",
    "\n",
    "def check_events(ship): # 1-新增：在函数check_events()中包含形参ship\n",
    "    # check_events()函数：存放管理事件的代码，以简化run_game()并隔离事件管理循环。\n",
    "    \"\"\"响应按键和鼠标事件\"\"\"\n",
    "    for event in pygame.event.get():\n",
    "        if event.type == pygame.QUIT:\n",
    "            pygame.quit() # 别忘了这句\n",
    "            sys.exit()\n",
    "        \n",
    "        # 1-响应按键\n",
    "        elif event.type == pygame.KEYDOWN: # 添加elif代码块，以便在pygame检查到KEYDOWN事件时作出相应\n",
    "            if event.key == pygame.K_RIGHT: # 读取属性event.key，以检查按下的是否是右箭头键\n",
    "                # 向右移动飞船\n",
    "                ship.rect.centerx += 1 # 如果按下的是右箭头键，就将ship.rect.centerx的值加1，从而将飞船向右移动\n",
    "            \n",
    "def update_screen(ai_settings, screen, ship):\n",
    "    # update_screen()函数：存放更新屏幕的代码\n",
    "    \"\"\"更新屏幕上的图像，并切换到新屏幕\"\"\"\n",
    "    # 每次循环都重新绘制屏幕\n",
    "    screen.fill(ai_settings.bg_color)\n",
    "    ship.blitme()\n",
    "    \n",
    "    # 让最近绘制的屏幕可见\n",
    "    pygame.display.flip()"
   ]
  },
  {
   "cell_type": "code",
   "execution_count": null,
   "metadata": {},
   "outputs": [],
   "source": [
    "# 2-允许不断移动\n",
    "\n",
    "# 希望飞船不断向右移动，直到玩家松开为止\n",
    "# 让游戏检测pygame.KEYUP事件\n",
    "# 结合使用KEYDOWN和KEYUP事件，以及一个名为moving_right的标志来实现持续移动\n",
    "# 飞船不动时，标志为False，按下右箭头键，标志设置为True，松开时，重新设置为False\n",
    "\n",
    "# 飞船的属性由Ship类控制，因此给这个类添加一个名为moving_right的属性和一个名为update()的方法\n",
    "# update()方法：检查moving_right的状态"
   ]
  },
  {
   "cell_type": "code",
   "execution_count": null,
   "metadata": {},
   "outputs": [],
   "source": [
    "# ship.py\n",
    "\n",
    "import pygame\n",
    "\n",
    "class Ship():\n",
    "    \n",
    "    def __init__(self, screen): # 后一个参数screen指定了要将飞船绘制到什么地方\n",
    "        \"\"\"初始化飞船并设置其初始位置\"\"\"\n",
    "        self.screen = screen\n",
    "        \n",
    "        # 加载飞船图像并获取其外接矩形\n",
    "        self.image = pygame.image.load('images/ship.bmp') # 这个load函数返回一个表示飞船的surface，并存储到self.image中\n",
    "        self.rect = self.image.get_rect() # 使用get_rect()获取响应surface的属性rect\n",
    "                                          # 处理rect对象时，可使用矩形四角和中心的x和y坐标，通过设置这些值来指定矩形的位置\n",
    "            # 居中：center，centerx，centery 与屏幕边缘对齐：top，bottom，left，right 等等\n",
    "        self.screen_rect = screen.get_rect() # 首先将表示屏幕的矩形存储在self.screen_rect中\n",
    "        \n",
    "        # 将每艘新飞船放在屏幕底部中央\n",
    "        self.rect.centerx = self.screen_rect.centerx # 将self.rect.centerx(飞船中心的x坐标)设置为表示屏幕的矩形的属性centerx\n",
    "        self.rect.bottom = self.screen_rect.bottom # 将self.rect.bottom(飞船下边缘的y坐标)设置为表示屏幕的矩形的属性bottom\n",
    "        \n",
    "        # 12.6.2新增：移动标志\n",
    "        self.moving_right = False\n",
    "    \n",
    "    # 12.6.2新增\n",
    "    def update(self):\n",
    "        \"\"\"根据移动标志调整飞船的位置\"\"\"\n",
    "        if self.moving_right:\n",
    "            self.rect.centerx += 1\n",
    "    \n",
    "    def blitme(self):\n",
    "        \"\"\"在指定位置绘制飞船\"\"\"\n",
    "        self.screen.blit(self.image, self.rect)"
   ]
  },
  {
   "cell_type": "code",
   "execution_count": null,
   "metadata": {},
   "outputs": [],
   "source": [
    "# game_functions.py\n",
    "\n",
    "import sys\n",
    "\n",
    "import pygame\n",
    "\n",
    "def check_events(ship): # 1-新增：在函数check_events()中包含形参ship\n",
    "    # check_events()函数：存放管理事件的代码，以简化run_game()并隔离事件管理循环。\n",
    "    \"\"\"响应按键和鼠标事件\"\"\"\n",
    "    for event in pygame.event.get():\n",
    "        if event.type == pygame.QUIT:\n",
    "            pygame.quit() # 别忘了这句\n",
    "            sys.exit()\n",
    "        \n",
    "        # 1-响应按键\n",
    "        elif event.type == pygame.KEYDOWN: # 添加elif代码块，以便在pygame检查到KEYDOWN事件时作出相应\n",
    "            if event.key == pygame.K_RIGHT: # 读取属性event.key，以检查按下的是否是右箭头键\n",
    "                # 12.6.2新增：修改了玩家按下右箭头键时响应的方式--不直接调整飞船的位置，而是将moving_right设置为True\n",
    "                ship.moving_right = True\n",
    "                # 向右移动飞船\n",
    "                # ship.rect.centerx += 1 # 如果按下的是右箭头键，就将ship.rect.centerx的值加1，从而将飞船向右移动\n",
    "        \n",
    "        # 12.6.2新增：添加一个elif代码块，用于响应KEYUP事件\n",
    "        elif event.type == pygame.KEYUP:\n",
    "            if event.key == pygame.K_RIGHT:\n",
    "                ship.moving_right = False\n",
    "            \n",
    "def update_screen(ai_settings, screen, ship):\n",
    "    # update_screen()函数：存放更新屏幕的代码\n",
    "    \"\"\"更新屏幕上的图像，并切换到新屏幕\"\"\"\n",
    "    # 每次循环都重新绘制屏幕\n",
    "    screen.fill(ai_settings.bg_color)\n",
    "    ship.blitme()\n",
    "    \n",
    "    # 让最近绘制的屏幕可见\n",
    "    pygame.display.flip()"
   ]
  },
  {
   "cell_type": "code",
   "execution_count": 2,
   "metadata": {},
   "outputs": [],
   "source": [
    "# 3-左右移动\n",
    "\n",
    "# 再次修改Ship类和函数check_events()\n",
    "# ship类修改方法__init__()和update()\n",
    "# 对game_functions.py做两方面的调整"
   ]
  },
  {
   "cell_type": "code",
   "execution_count": null,
   "metadata": {},
   "outputs": [],
   "source": [
    "# ship.py\n",
    "\n",
    "import pygame\n",
    "\n",
    "class Ship():\n",
    "    \n",
    "    def __init__(self, screen): # 后一个参数screen指定了要将飞船绘制到什么地方\n",
    "        \"\"\"初始化飞船并设置其初始位置\"\"\"\n",
    "        self.screen = screen\n",
    "        \n",
    "        # 加载飞船图像并获取其外接矩形\n",
    "        self.image = pygame.image.load('images/ship.bmp') # 这个load函数返回一个表示飞船的surface，并存储到self.image中\n",
    "        self.rect = self.image.get_rect() # 使用get_rect()获取响应surface的属性rect\n",
    "                                          # 处理rect对象时，可使用矩形四角和中心的x和y坐标，通过设置这些值来指定矩形的位置\n",
    "            # 居中：center，centerx，centery 与屏幕边缘对齐：top，bottom，left，right 等等\n",
    "        self.screen_rect = screen.get_rect() # 首先将表示屏幕的矩形存储在self.screen_rect中\n",
    "        \n",
    "        # 将每艘新飞船放在屏幕底部中央\n",
    "        self.rect.centerx = self.screen_rect.centerx # 将self.rect.centerx(飞船中心的x坐标)设置为表示屏幕的矩形的属性centerx\n",
    "        self.rect.bottom = self.screen_rect.bottom # 将self.rect.bottom(飞船下边缘的y坐标)设置为表示屏幕的矩形的属性bottom\n",
    "        \n",
    "        # 12.6.2新增：移动标志\n",
    "        self.moving_right = False\n",
    "        # 12.6.3新增：左右移动\n",
    "        self.moving_left = False\n",
    "    \n",
    "    # 12.6.2新增\n",
    "    def update(self):\n",
    "        \"\"\"根据移动标志调整飞船的位置\"\"\"\n",
    "        if self.moving_right:\n",
    "            self.rect.centerx += 1\n",
    "        # 12.6.3新增：左右移动\n",
    "        if self.moving_left:\n",
    "            self.rect.centerx -= 1\n",
    "    \n",
    "    def blitme(self):\n",
    "        \"\"\"在指定位置绘制飞船\"\"\"\n",
    "        self.screen.blit(self.image, self.rect)"
   ]
  },
  {
   "cell_type": "code",
   "execution_count": null,
   "metadata": {},
   "outputs": [],
   "source": [
    "# game_functions.py\n",
    "\n",
    "import sys\n",
    "\n",
    "import pygame\n",
    "\n",
    "def check_events(ship): # 1-新增：在函数check_events()中包含形参ship\n",
    "    # check_events()函数：存放管理事件的代码，以简化run_game()并隔离事件管理循环。\n",
    "    \"\"\"响应按键和鼠标事件\"\"\"\n",
    "    for event in pygame.event.get():\n",
    "        if event.type == pygame.QUIT:\n",
    "            pygame.quit() # 别忘了这句\n",
    "            sys.exit()\n",
    "        \n",
    "        # 1-响应按键\n",
    "        elif event.type == pygame.KEYDOWN: # 添加elif代码块，以便在pygame检查到KEYDOWN事件时作出相应\n",
    "            if event.key == pygame.K_RIGHT: # 读取属性event.key，以检查按下的是否是右箭头键\n",
    "                # 12.6.2新增：修改了玩家按下右箭头键时响应的方式--不直接调整飞船的位置，而是将moving_right设置为True\n",
    "                ship.moving_right = True\n",
    "                # 向右移动飞船\n",
    "                # ship.rect.centerx += 1 # 如果按下的是右箭头键，就将ship.rect.centerx的值加1，从而将飞船向右移动\n",
    "            # 12.6.3新增：左右移动\n",
    "            elif event.key == pygame.K_LEFT:\n",
    "                ship.moving_left = True\n",
    "        \n",
    "        # 12.6.2新增：添加一个elif代码块，用于响应KEYUP事件\n",
    "        elif event.type == pygame.KEYUP:\n",
    "            if event.key == pygame.K_RIGHT:\n",
    "                ship.moving_right = False\n",
    "            # 12.6.3新增\n",
    "            elif event.key == pygame.K_LEFT:\n",
    "                ship.moving_left = False\n",
    "            \n",
    "def update_screen(ai_settings, screen, ship):\n",
    "    # update_screen()函数：存放更新屏幕的代码\n",
    "    \"\"\"更新屏幕上的图像，并切换到新屏幕\"\"\"\n",
    "    # 每次循环都重新绘制屏幕\n",
    "    screen.fill(ai_settings.bg_color)\n",
    "    ship.blitme()\n",
    "    \n",
    "    # 让最近绘制的屏幕可见\n",
    "    pygame.display.flip()"
   ]
  },
  {
   "cell_type": "code",
   "execution_count": null,
   "metadata": {},
   "outputs": [],
   "source": [
    "# 4-"
   ]
  },
  {
   "cell_type": "markdown",
   "metadata": {},
   "source": [
    "## 12.7 简单回顾"
   ]
  },
  {
   "cell_type": "markdown",
   "metadata": {},
   "source": [
    "## 12.8 射击"
   ]
  },
  {
   "cell_type": "markdown",
   "metadata": {},
   "source": [
    "# 第十三章-外星人"
   ]
  },
  {
   "cell_type": "markdown",
   "metadata": {},
   "source": [
    "## 13.1 回顾项目"
   ]
  },
  {
   "cell_type": "markdown",
   "metadata": {},
   "source": [
    "## 13.2 创建第一个外星人"
   ]
  },
  {
   "cell_type": "markdown",
   "metadata": {},
   "source": [
    "## 13.3 创建一群外星人"
   ]
  },
  {
   "cell_type": "markdown",
   "metadata": {},
   "source": [
    "## 13.4 让外星人移动"
   ]
  },
  {
   "cell_type": "markdown",
   "metadata": {},
   "source": [
    "## 13.5 射杀外星人"
   ]
  },
  {
   "cell_type": "markdown",
   "metadata": {},
   "source": [
    "## 13.6 结束游戏"
   ]
  },
  {
   "cell_type": "markdown",
   "metadata": {},
   "source": [
    "## 13.7 确定应运行游戏的哪些部分"
   ]
  },
  {
   "cell_type": "markdown",
   "metadata": {},
   "source": [
    "# 第十四章 计分"
   ]
  },
  {
   "cell_type": "markdown",
   "metadata": {},
   "source": [
    "## 14.1 添加Play按钮"
   ]
  },
  {
   "cell_type": "markdown",
   "metadata": {},
   "source": [
    "## 14.2 提高等级"
   ]
  },
  {
   "cell_type": "markdown",
   "metadata": {},
   "source": [
    "## 14.3 计分"
   ]
  },
  {
   "cell_type": "code",
   "execution_count": null,
   "metadata": {},
   "outputs": [],
   "source": []
  }
 ],
 "metadata": {
  "kernelspec": {
   "display_name": "Python 3",
   "language": "python",
   "name": "python3"
  },
  "language_info": {
   "codemirror_mode": {
    "name": "ipython",
    "version": 3
   },
   "file_extension": ".py",
   "mimetype": "text/x-python",
   "name": "python",
   "nbconvert_exporter": "python",
   "pygments_lexer": "ipython3",
   "version": "3.5.6"
  }
 },
 "nbformat": 4,
 "nbformat_minor": 2
}
