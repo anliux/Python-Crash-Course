{
 "cells": [
  {
   "cell_type": "markdown",
   "metadata": {},
   "source": [
    "### （复习整理，在标记部分整理新出现的函数、方法等）"
   ]
  },
  {
   "cell_type": "markdown",
   "metadata": {},
   "source": [
    "## 目录-(I)基础知识\n",
    "\n",
    "* ### 1  起步\n",
    "* ### 2  变量和简单数据类型\n",
    "* ### 3  列表简介\n",
    "* ### 4  操作列表\n",
    "* ### 5  if语句\n",
    "* ### 6  字典\n",
    "* ### 7  用户输入和while循环\n",
    "* ### 8  函数\n",
    "* ### 9  类\n",
    "* ### 10 文件和异常\n",
    "* ### 11 测试代码"
   ]
  },
  {
   "cell_type": "markdown",
   "metadata": {},
   "source": [
    "### 注：本文件以外的其他文件\n",
    "* pizza.py - 8.6 import测试 \n",
    "* car.py - 9.4.1 导入单个类"
   ]
  },
  {
   "cell_type": "markdown",
   "metadata": {},
   "source": [
    "# 第一章 起步"
   ]
  },
  {
   "cell_type": "code",
   "execution_count": 2,
   "metadata": {
    "scrolled": true
   },
   "outputs": [
    {
     "name": "stdout",
     "output_type": "stream",
     "text": [
      "hello python world\n"
     ]
    }
   ],
   "source": [
    "# hello_world.py\n",
    "print('hello python world')"
   ]
  },
  {
   "cell_type": "markdown",
   "metadata": {},
   "source": [
    "# 第二章 变量和简单数据类型"
   ]
  },
  {
   "cell_type": "markdown",
   "metadata": {},
   "source": [
    "## 2.1 变量\n",
    "\n",
    "### python变量名：\n",
    "使用大写无妨，但尽量使用小写，字母数字下划线，数字不能开头，中间不能空格，并且慎用小写字母L和大写字母O(与数字0,1非常相似)\n",
    "\n",
    "### Python约定的文件名：\n",
    "使用小写字母和下划线"
   ]
  },
  {
   "cell_type": "code",
   "execution_count": 5,
   "metadata": {},
   "outputs": [
    {
     "name": "stdout",
     "output_type": "stream",
     "text": [
      "Hello Python World!\n",
      "Hello Python Crash Course World!\n"
     ]
    }
   ],
   "source": [
    "# 变量\n",
    "# hello_world.py\n",
    "\n",
    "message = 'Hello Python World!'\n",
    "print(message)\n",
    "\n",
    "message = 'Hello Python Crash Course World!'\n",
    "print(message)"
   ]
  },
  {
   "cell_type": "markdown",
   "metadata": {},
   "source": [
    "## 2.2 字符串\n",
    "\n",
    "### 单引号双引号均可，灵活使用有助于撇号的使用，单双均可在外"
   ]
  },
  {
   "cell_type": "code",
   "execution_count": 120,
   "metadata": {
    "scrolled": true
   },
   "outputs": [
    {
     "name": "stdout",
     "output_type": "stream",
     "text": [
      "Ada Lovelace\n",
      "ADA LOVELACE\n",
      "ada lovelace\n",
      "ada lovelace\n",
      "Hello,Ada Lovelace!\n",
      "Hello,Ada Lovelace!\n",
      "\tPython\n",
      "Language:\n",
      "Python\n",
      "C\n",
      "JavaScript\n",
      "Language:\n",
      "\tPython\n",
      "\tC\n",
      "\tJavaScript\n",
      " Python\n"
     ]
    }
   ],
   "source": [
    "# 字符串\n",
    "# name.py\n",
    "\n",
    "\n",
    "# 字符串大小写\n",
    "name = 'ADA loVelace'\n",
    "print(name.title()) # title() - 改为首字母大写、其余小写\n",
    "print(name.upper()) # upper() - 改为所有字母大写\n",
    "print(name.lower()) # lower() - 改为所有字母小写，很有用\n",
    "\n",
    "\n",
    "\n",
    "# 字符串合并/拼接\n",
    "first_name = 'ada'\n",
    "last_name = 'lovelace'\n",
    "full_name = first_name + ' ' + last_name #‘’里的是姓和名之间的空格\n",
    "    # +合并字符串：拼接\n",
    "print(full_name) # 简单输出拼接成的全名\n",
    "print('Hello,' + full_name.title() + '!')  # 使用全名并设置为合适的格式，以显示一条格式良好的问候语\n",
    "\n",
    "# 或者使用拼接来创建消息，并把整条消息存储在一个变量中\n",
    "message = 'Hello,' + full_name.title() + '!'\n",
    "print(message)\n",
    "\n",
    "\n",
    "\n",
    "# 字符串添加空白 - 制表符或换行\n",
    "# 制表符：\\t\n",
    "# 换行： \\n\n",
    "print('\\tPython') # 行首制表符\n",
    "print('Language:\\nPython\\nC\\nJavaScript') # 换号（不过可读性可真差。。。）\n",
    "print('Language:\\n\\tPython\\n\\tC\\n\\tJavaScript')  # 同时包含制表符和换行符 - 使用单行字符串生成四行输出\n",
    "\n",
    "\n",
    "\n",
    "# 字符串删除空白\n",
    "# 方法：strip() - 删除空白；rstrip() - 删除右边的空白；lstrip() - 删除左边的空白\n",
    "favorite_language = ' Python '\n",
    "print(favorite_language.rstrip()) # 这种只是暂时删除，下次用到还是有空格。永久删除需要将删除空格后的值存储在变量中"
   ]
  },
  {
   "cell_type": "code",
   "execution_count": 21,
   "metadata": {},
   "outputs": [
    {
     "name": "stdout",
     "output_type": "stream",
     "text": [
      "One of Python's strengths is its diverse community.\n"
     ]
    }
   ],
   "source": [
    "# 字符串\n",
    "# apostrophe.py\n",
    "\n",
    "\n",
    "# 字符串单引号双引号的正确使用\n",
    "message = \"One of Python's strengths is its diverse community.\"\n",
    "print(message)"
   ]
  },
  {
   "cell_type": "markdown",
   "metadata": {},
   "source": [
    "## 2.3 数字"
   ]
  },
  {
   "cell_type": "code",
   "execution_count": 34,
   "metadata": {
    "scrolled": true
   },
   "outputs": [
    {
     "name": "stdout",
     "output_type": "stream",
     "text": [
      "0.3333333333333333\n",
      "9\n",
      "1000000\n",
      "0.2\n",
      "0.30000000000000004\n"
     ]
    }
   ],
   "source": [
    "# 整数：加减乘除，乘方-两个乘号\n",
    "\n",
    "print(1/3) # 注意：python中整数除法与其他语言不同，不是强制砍掉小数部分\n",
    "           # 注意：python2中，整数除法的规则与其他语言一致，直接砍掉小数部分（并不四舍五入之类），故需要至少一个操作数为浮点数\n",
    "\n",
    "print(3 ** 2)\n",
    "print(10 ** 6)\n",
    "\n",
    "# 浮点数：没什么特别的，注意小数位数可能是不确定的\n",
    "print(0.1 + 0.1)\n",
    "print(0.1 + 0.2)"
   ]
  },
  {
   "cell_type": "code",
   "execution_count": 36,
   "metadata": {},
   "outputs": [
    {
     "name": "stdout",
     "output_type": "stream",
     "text": [
      "Happy 23rd Birthday!\n"
     ]
    }
   ],
   "source": [
    "# 使用函数str()避免类型错误\n",
    "# birthday.py\n",
    "\n",
    "age = 23\n",
    "message = 'Happy ' + str(age) + 'rd Birthday!'\n",
    "print(message)"
   ]
  },
  {
   "cell_type": "markdown",
   "metadata": {},
   "source": [
    "## 2.4 注释\n",
    "### 单行：井号开头\n",
    "### 多行：三个单引号或双引号分别在段首尾，为了好看最好另起一行"
   ]
  },
  {
   "cell_type": "code",
   "execution_count": 98,
   "metadata": {},
   "outputs": [
    {
     "name": "stdout",
     "output_type": "stream",
     "text": [
      "Hello Python People!\n"
     ]
    }
   ],
   "source": [
    "# comment.py\n",
    "# 向大家问好\n",
    "\n",
    "'''\n",
    "这里是:\n",
    "多行注释\n",
    "\n",
    "'''\n",
    "print('Hello Python People!')"
   ]
  },
  {
   "cell_type": "markdown",
   "metadata": {},
   "source": [
    "## 2.5 python之禅\n",
    "### 键入 import this 会显示"
   ]
  },
  {
   "cell_type": "code",
   "execution_count": 38,
   "metadata": {
    "scrolled": false
   },
   "outputs": [
    {
     "name": "stdout",
     "output_type": "stream",
     "text": [
      "The Zen of Python, by Tim Peters\n",
      "\n",
      "Beautiful is better than ugly.\n",
      "Explicit is better than implicit.\n",
      "Simple is better than complex.\n",
      "Complex is better than complicated.\n",
      "Flat is better than nested.\n",
      "Sparse is better than dense.\n",
      "Readability counts.\n",
      "Special cases aren't special enough to break the rules.\n",
      "Although practicality beats purity.\n",
      "Errors should never pass silently.\n",
      "Unless explicitly silenced.\n",
      "In the face of ambiguity, refuse the temptation to guess.\n",
      "There should be one-- and preferably only one --obvious way to do it.\n",
      "Although that way may not be obvious at first unless you're Dutch.\n",
      "Now is better than never.\n",
      "Although never is often better than *right* now.\n",
      "If the implementation is hard to explain, it's a bad idea.\n",
      "If the implementation is easy to explain, it may be a good idea.\n",
      "Namespaces are one honking great idea -- let's do more of those!\n"
     ]
    }
   ],
   "source": [
    "import this"
   ]
  },
  {
   "cell_type": "markdown",
   "metadata": {},
   "source": [
    "# 第三章 列表简介"
   ]
  },
  {
   "cell_type": "markdown",
   "metadata": {},
   "source": [
    "## 3.1 认识列表\n",
    "\n",
    "### 用方括号（[ ] ）来表示列表，并用逗号来分隔其中的元素，print时包括方括号、引号、逗号等\n",
    "### 由一系列按特定顺序排列的元素组成; 可以将任何东西加入列表中"
   ]
  },
  {
   "cell_type": "code",
   "execution_count": 48,
   "metadata": {},
   "outputs": [
    {
     "name": "stdout",
     "output_type": "stream",
     "text": [
      "['trek', 'cannondale', 'redline', 'specialized']\n",
      "trek\n",
      "specialized\n",
      "My first bicycles was a Trek.\n"
     ]
    }
   ],
   "source": [
    "# 列表\n",
    "# bicycles.py\n",
    "\n",
    "bicycles = ['trek','cannondale','redline','specialized']\n",
    "print(bicycles)\n",
    "\n",
    "\n",
    "\n",
    "# 访问列表\n",
    "print(bicycles[0]) # 访问该列表的第一个元素\n",
    "                   # 当你请求获取列表元素时，Python只返回该元素，而不包括方括号和引号\n",
    "\n",
    "\n",
    "\n",
    "# 索引：从0开始；[]中负数表示末尾第几个元素\n",
    "print(bicycles[-1])\n",
    "\n",
    "\n",
    "\n",
    "# 使用列表中的各个值\n",
    "# 例如，可以使用拼接创建消息\n",
    "message = 'My first bicycles was a ' + bicycles[0].title() + '.'\n",
    "print(message)"
   ]
  },
  {
   "cell_type": "markdown",
   "metadata": {},
   "source": [
    "## 3.2 修改、添加、删除元素"
   ]
  },
  {
   "cell_type": "code",
   "execution_count": 69,
   "metadata": {},
   "outputs": [
    {
     "name": "stdout",
     "output_type": "stream",
     "text": [
      "原列表motorcycles：\n",
      "['honda', 'yamaha', 'suzuki']\n",
      "\n",
      "修改：\n",
      "['ducati', 'yamaha', 'suzuki']\n",
      "\n",
      "添加1：末尾添加honda\n",
      "['ducati', 'yamaha', 'suzuki', 'honda']\n",
      "\n",
      "新列表motor：\n",
      "['honda', 'yamaha', 'suzuki']\n",
      "\n",
      "添加2：中间插入changhong\n",
      "['ducati', 'yamaha', 'changhong', 'suzuki', 'honda']\n",
      "\n",
      "删除1：del第一个元素ducati\n",
      "['yamaha', 'changhong', 'suzuki', 'honda']\n",
      "\n",
      "The last motorcycle I owned was a Honda.\n",
      "删除2：pop最后一个元素honda\n",
      "['yamaha', 'changhong', 'suzuki']\n",
      "\n",
      "The first motorcycles I owned was a Yamaha.\n",
      "删除3：pop指定位置元素[0]的yamaha\n",
      "['changhong', 'suzuki']\n",
      "\n",
      "删除4：remove删除指定的元素值suzuki\n",
      "['changhong']\n",
      "\n",
      "A Suzuki is too expensive for me.\n"
     ]
    }
   ],
   "source": [
    "# motorcycles.py\n",
    "motorcycles = ['honda','yamaha','suzuki']\n",
    "print('原列表motorcycles：')\n",
    "print(motorcycles)\n",
    "\n",
    "\n",
    "# 修改：\n",
    "# 指定列表名和要修改的元素的索引，再指定该元素的新值\n",
    "motorcycles[0] = 'ducati'\n",
    "print('\\n修改：')\n",
    "print(motorcycles)\n",
    "\n",
    "\n",
    "\n",
    "# 添加：\n",
    "# 使用方法：末尾-append('新元素')；中间-insert（索引,'新元素'）\n",
    "# 1-末尾添加新元素:append()\n",
    "motorcycles.append('honda')\n",
    "print('\\n添加1：末尾添加honda')\n",
    "print(motorcycles)\n",
    "\n",
    "# 使用这个方法可以让动态地创建列表易如反掌，先创建一个空列表，再使用一系列append()。因为通常是程序运行后，才知道要存储哪些数据\n",
    "motor = []\n",
    "motor.append('honda')\n",
    "motor.append('yamaha')\n",
    "motor.append('suzuki')\n",
    "print('\\n新列表motor：')\n",
    "print(motor)\n",
    "\n",
    "# 2-中间插入新元素:insert()\n",
    "motorcycles.insert(2,'changhong')\n",
    "print('\\n添加2：中间插入changhong')\n",
    "print(motorcycles)\n",
    "\n",
    "\n",
    "\n",
    "# 删除：\n",
    "# del语句；pop()方法；remove()方法\n",
    "# del后元素值不可再用，pop和remove之后依然可以用值。是不是语句不可赋值给变量，而方法可以？？\n",
    "\n",
    "# 1-del语句：知道要删除的元素在列表中的位置时使用。删除后无法再访问它。\n",
    "del motorcycles[0]\n",
    "print('\\n删除1：del第一个元素ducati')\n",
    "print(motorcycles)\n",
    "\n",
    "# 2-pop()方法-弹出：弹出后仍然能使用（或访问）该值\n",
    "last_owned = motorcycles.pop()  # 类似于弹栈 - 弹出最后的，即按时间线来说最后购买的那一款摩托车\n",
    "print('\\nThe last motorcycle I owned was a '+last_owned.title()+'.')\n",
    "print('删除2：pop最后一个元素honda')\n",
    "print(motorcycles)\n",
    "\n",
    "# 3-pop(索引)-删除任意位置的元素，在括号中指定要删除的元素的索引即可。\n",
    "first_owned = motorcycles.pop(0)\n",
    "print('\\nThe first motorcycles I owned was a ' + first_owned.title() + '.')\n",
    "print('删除3：pop指定位置元素[0]的yamaha')\n",
    "print(motorcycles)\n",
    "\n",
    "# 4-remove()-只知道要删除元素的值，不知道元素所处的位置时,删除后依然可以用\n",
    "# 方法remove()只删除第一个指定的值。\n",
    "# 如果要删除的值可能在列表中出现多次，就需要使用循环来判断是否删除了所有这样的值。你将在第7章学习如何这样做。\n",
    "too_expensive = 'suzuki' \n",
    "motorcycles.remove(too_expensive)\n",
    "print('\\n删除4：remove删除指定的元素值suzuki')\n",
    "print(motorcycles)\n",
    "print('\\nA '+too_expensive.title()+' is too expensive for me.')\n"
   ]
  },
  {
   "cell_type": "markdown",
   "metadata": {},
   "source": [
    "## 3.3 组织列表\n",
    "\n",
    "### 各种方式的排序"
   ]
  },
  {
   "cell_type": "code",
   "execution_count": 119,
   "metadata": {},
   "outputs": [
    {
     "name": "stdout",
     "output_type": "stream",
     "text": [
      "按字母表顺序排序：\n",
      "['audi', 'bmw', 'subaru', 'toyota']\n",
      "\n",
      "按字母表逆序排序：\n",
      "['toyota', 'subaru', 'bmw', 'audi']\n",
      "\n",
      "Here is the original list:\n",
      "['bmw', 'audi', 'toyota', 'subaru']\n",
      "\n",
      "Here is the sorted list:\n",
      "['audi', 'bmw', 'subaru', 'toyota']\n",
      "\n",
      "Here is the reverse alphabetical list:\n",
      "['toyota', 'subaru', 'bmw', 'audi']\n",
      "\n",
      "Here is the original list again:\n",
      "['bmw', 'audi', 'toyota', 'subaru']\n",
      "\n",
      "倒着打印列表演示：\n",
      "['bmw', 'audi', 'toyota', 'subaru']\n",
      "['subaru', 'toyota', 'audi', 'bmw']\n",
      "\n",
      "输出列表长度：\n",
      "4\n"
     ]
    }
   ],
   "source": [
    "# 1-sort()-永久性；2-sorted()-临时性；\n",
    "# cars.py\n",
    "\n",
    "# sort()-对列表永久性排序（假设所有值都是小写;大小写混合时大写在前）\n",
    "cars = ['bmw','audi','toyota','subaru']\n",
    "print('按字母表顺序排序：')\n",
    "cars.sort()\n",
    "print(cars)\n",
    "\n",
    "# sort(reverse=True)-按字母表逆序排序，永久性\n",
    "print('\\n按字母表逆序排序：')\n",
    "cars.sort(reverse=True)\n",
    "print(cars)\n",
    "\n",
    "\n",
    "\n",
    "# sorted()-对列表进行临时排序\n",
    "cars = ['bmw','audi','toyota','subaru']\n",
    "print('\\nHere is the original list:')\n",
    "print(cars)\n",
    "\n",
    "print('\\nHere is the sorted list:')\n",
    "print(sorted(cars))\n",
    "\n",
    "print('\\nHere is the reverse alphabetical list:')\n",
    "print(sorted(cars,reverse=True)) # 注意这一条：用sorted逆序排序的正确格式\n",
    "\n",
    "print('\\nHere is the original list again:')\n",
    "print(cars)\n",
    "\n",
    "\n",
    "\n",
    "# reverse()-倒着打印列表，永久性修改，但随时可以恢复到原来的排序\n",
    "# 注意：不是按与字母顺序相反的顺序，而是反转列表元素的顺序排列\n",
    "carss = ['bmw','audi','toyota','subaru']\n",
    "print('\\n倒着打印列表演示：')\n",
    "print(carss)\n",
    "\n",
    "carss.reverse()\n",
    "print(carss)\n",
    "\n",
    "\n",
    "\n",
    "# len()-列表长度\n",
    "print('\\n输出列表长度：')\n",
    "print(len(carss))"
   ]
  },
  {
   "cell_type": "markdown",
   "metadata": {},
   "source": [
    "## 3.4 使用列表索引时避免错误\n",
    "\n",
    "### 1 - 索引从0开始\n",
    "### 2 - ‘-1’在任何时候都可以用来指向最后一个元素，除非列表为空才报错\n",
    "### 3 - 发生索引错误却找不到解决方法时，可将列表或其长度打印出来，可以与自己以为的截然不同。"
   ]
  },
  {
   "cell_type": "markdown",
   "metadata": {},
   "source": [
    "# 第四章 操作列表"
   ]
  },
  {
   "cell_type": "markdown",
   "metadata": {},
   "source": [
    "## 4.1 遍历整个列表\n",
    "\n",
    "### for循环遍历\n",
    "\n",
    "#### 刚开始使用循环时请牢记，对列表中的每个元素，都将执行循环指定的步骤，而不管列表包含多少个元素。\n",
    "#### 如果列表包含一百万个元素，Python就重复执行指定的步骤一百万次，且通常速度非常快。"
   ]
  },
  {
   "cell_type": "code",
   "execution_count": 80,
   "metadata": {},
   "outputs": [
    {
     "name": "stdout",
     "output_type": "stream",
     "text": [
      "打印魔术师名单中所有名字：\n",
      "alice\n",
      "david\n",
      "carolina\n",
      "Alice,that was a great trick\n",
      "I can't wait to see your next trick,Alice.\n",
      "\n",
      "David,that was a great trick\n",
      "I can't wait to see your next trick,David.\n",
      "\n",
      "Carolina,that was a great trick\n",
      "I can't wait to see your next trick,Carolina.\n",
      "\n",
      "Thank you, everyone. That was a great magic show!\n"
     ]
    }
   ],
   "source": [
    "# 遍历列表 - 魔术师演示\n",
    "# magicians.py\n",
    "\n",
    "magicians = ['alice','david','carolina']\n",
    "print('打印魔术师名单中所有名字：')\n",
    "for magician in magicians:\n",
    "    print(magician)\n",
    "for magician in magicians:\n",
    "    print(magician.title()+',that was a great trick')\n",
    "    print(\"I can't wait to see your next trick,\"+magician.title()+'.\\n')\n",
    "print('Thank you, everyone. That was a great magic show!')"
   ]
  },
  {
   "cell_type": "markdown",
   "metadata": {},
   "source": [
    "## 4.2 避免缩进错误\n",
    "### Python根据缩进来判断代码行与前一个代码行的关系\n",
    "\n",
    "### 1-忘记缩进\n",
    "### 2-忘记缩进额外的代码行\n",
    "### 3-不必要的缩进\n",
    "### 4-循环后不必要的缩进\n",
    "### 5-遗漏冒号（python有冒号，无分号，用缩进代替大括号，注意别混淆了）"
   ]
  },
  {
   "cell_type": "markdown",
   "metadata": {},
   "source": [
    "## 4.3 创建数值列表"
   ]
  },
  {
   "cell_type": "code",
   "execution_count": 82,
   "metadata": {},
   "outputs": [
    {
     "name": "stdout",
     "output_type": "stream",
     "text": [
      "1\n",
      "2\n",
      "3\n",
      "4\n",
      "[1, 2, 3, 4, 5]\n"
     ]
    }
   ],
   "source": [
    "# number.py\n",
    "\n",
    "# range()函数 - range（a,b）生成从a到b且不包含b的一系列数值\n",
    "for value in range(1,5): #生成1-4\n",
    "    print(value)\n",
    "\n",
    "# 使用range()创建数字列表\n",
    "# list()-将range()结果直接转换为列表\n",
    "numbers = list(range(1,6))\n",
    "print(numbers)"
   ]
  },
  {
   "cell_type": "code",
   "execution_count": 84,
   "metadata": {},
   "outputs": [
    {
     "name": "stdout",
     "output_type": "stream",
     "text": [
      "[2, 4, 6, 8, 10]\n"
     ]
    }
   ],
   "source": [
    "# even_numbers.py\n",
    "# 打印1-10以内的偶数\n",
    "# range()-第三个参数指定步长\n",
    "\n",
    "even_numbers = list(range(2,11,2))\n",
    "print(even_numbers)"
   ]
  },
  {
   "cell_type": "code",
   "execution_count": 91,
   "metadata": {},
   "outputs": [
    {
     "name": "stdout",
     "output_type": "stream",
     "text": [
      "[1, 4, 9, 16, 25, 36, 49, 64, 81, 100]\n",
      "min=0\n",
      "max=9\n",
      "sum=45\n"
     ]
    }
   ],
   "source": [
    "# squares.py\n",
    "# 创建一个列表，包含前10个整数的平方\n",
    "# 万能的range()几乎能够创建任何需要的数字集\n",
    "\n",
    "# 思路：新建空列表（变量名=[]）--遍历（for循环）--每个值取平方（**）--将每个结果添加到列表中（append）\n",
    "squares = []\n",
    "for value in range(1,11):\n",
    "    square = value**2\n",
    "    squares.append(square)\n",
    "    # 以上两句可以合并: squares.append(value**2)\n",
    "\n",
    "print(squares)\n",
    "\n",
    "\n",
    "\n",
    "# 对数字列表执行简单的统计计算:max，min，sum\n",
    "digits = [1,2,3,4,5,6,7,8,9,0]\n",
    "print('min=%d' %min(digits))\n",
    "print('max=%d' %max(digits))\n",
    "print('sum=%d' %sum(digits))"
   ]
  },
  {
   "cell_type": "markdown",
   "metadata": {},
   "source": [
    "### 列表解析 \n",
    "\n",
    "#### 将for 循环和创建新元素的代码合并成一行，并自动附加新元素。\n",
    "#### 初学者不要求会写，但尽量看懂，因为可能在读别人的代码时会遇到"
   ]
  },
  {
   "cell_type": "code",
   "execution_count": 99,
   "metadata": {},
   "outputs": [
    {
     "name": "stdout",
     "output_type": "stream",
     "text": [
      "[1, 4, 9, 16, 25, 36, 49, 64, 81, 100]\n"
     ]
    }
   ],
   "source": [
    "# 使用列表解析创建前面的平方数列表\n",
    "\n",
    "\"\"\"\n",
    "语法:\n",
    "\n",
    "首先指定一个描述性的列表名，如squares ；\n",
    "\n",
    "然后，指定一个左方括号，并定义一个表达式，用于生成你要存储到列表中的值。\n",
    "在这个示例中，表达式为value**2 ，它计算平方值。\n",
    "\n",
    "接下来，编写一个for 循环，用于给表达式提供值，再加上右方括号。\n",
    "在这个示例中，for 循环为for value in range(1,11) ，它将值1~10提供给表达式value**2 。\n",
    "\n",
    "请注意，这里的for 语句末尾没有冒号。\n",
    "\n",
    "\"\"\"\n",
    "# 以上这段注释如放在print语句之后，运行时会out注释里的内容，放在print前面之后就不会错误了\n",
    "\n",
    "squares = [value**2 for value in range(1,11)]\n",
    "print(squares)"
   ]
  },
  {
   "cell_type": "markdown",
   "metadata": {},
   "source": [
    "## 4.4 使用列表的一部分"
   ]
  },
  {
   "cell_type": "code",
   "execution_count": 103,
   "metadata": {
    "scrolled": true
   },
   "outputs": [
    {
     "name": "stdout",
     "output_type": "stream",
     "text": [
      "['charles', 'martina', 'michael']\n",
      "['charles', 'martina', 'michael']\n",
      "['michael', 'florence', 'eli']\n",
      "['michael', 'florence', 'eli']\n",
      "\n",
      "Here are the first three players on my team:\n",
      "Charles\n",
      "Martina\n",
      "Michael\n"
     ]
    }
   ],
   "source": [
    "# players.py\n",
    "# 对运动员名单列表切片\n",
    "\n",
    "players = ['charles','martina','michael','florence','eli']\n",
    "\n",
    "# 冒号连接想要取得的第一个和最后一个索引的后一个索引\n",
    "print(players[0:3]) # 第一个到第三个\n",
    "print(players[:3])  # 没有指定第一个索引时从列表开头开始\n",
    "print(players[2:])  # 没有指定最后一个索引时一直执行到列表末尾\n",
    "print(players[-3:]) # 从倒数第三位开始执行到列表末尾\n",
    "\n",
    "\n",
    "\n",
    "# 遍历切片：for循环+[:]切片\n",
    "print('\\nHere are the first three players on my team:')\n",
    "for player in players[:3]:\n",
    "    print(player.title())"
   ]
  },
  {
   "cell_type": "code",
   "execution_count": 109,
   "metadata": {},
   "outputs": [
    {
     "name": "stdout",
     "output_type": "stream",
     "text": [
      "My favortie foods are:\n",
      "['pizza', 'falafel', 'carrot cake', 'ice cream']\n",
      "\n",
      "My friend's favorite foods are:\n",
      "['pizza', 'falafel', 'carrot cake', 'cannoli']\n"
     ]
    }
   ],
   "source": [
    "# foods.py\n",
    "# 复制列表：把切片赋值给新的变量,而不是直接把变量赋给（相当于关联而不是把副本存储到新变量中）\n",
    "\n",
    "# friend_foods = my_foods 这样的话只是新变量关联到包含my_foods中的列表，如果原变量变化，新变量也跟着变化\n",
    "\n",
    "# 我喜欢的食物，我朋友也喜欢\n",
    "my_foods = ['pizza','falafel','carrot cake']\n",
    "friend_foods = my_foods[:]\n",
    "\n",
    "my_foods.append('ice cream')\n",
    "friend_foods.append('cannoli')\n",
    "\n",
    "print('My favortie foods are:')\n",
    "print(my_foods)\n",
    "\n",
    "print(\"\\nMy friend's favorite foods are:\")\n",
    "print(friend_foods)\n"
   ]
  },
  {
   "cell_type": "markdown",
   "metadata": {},
   "source": [
    "## 4.5 元组\n",
    "\n",
    "### 列表 - 适合存储可能变化的数据集，使用方括号标识\n",
    "### 元组 - 不可变的列表称为元组，使用圆括号标识\n",
    "\n",
    "### 相比列表，元组是更简单的数据结构。如需要存储的一组值在程序的整个生命周期内都不变，可使用元组"
   ]
  },
  {
   "cell_type": "code",
   "execution_count": 114,
   "metadata": {},
   "outputs": [
    {
     "name": "stdout",
     "output_type": "stream",
     "text": [
      "200\n",
      "50\n",
      "\n",
      "Original dimensions:\n",
      "200\n",
      "50\n",
      "\n",
      "Modified dimensions:\n",
      "400\n",
      "100\n"
     ]
    }
   ],
   "source": [
    "# dimensions.py\n",
    "# 定义一个大小不变的矩形，将其长度和宽度存储在一个元组中，从而确保它们是不能修改\n",
    "\n",
    "dimensions = (200,50)\n",
    "print(dimensions[0])\n",
    "print(dimensions[1])\n",
    "\n",
    "# 尝试修改元组的元素值\n",
    "# dimensions[0]=300\n",
    "# TypeError: 'tuple' object does not support item assignment 修改元组的操作是被禁止的\n",
    "\n",
    "\n",
    "\n",
    "# 遍历元组中的所有值\n",
    "print('\\nOriginal dimensions:')\n",
    "for dimension in dimensions:\n",
    "    print(dimension)\n",
    "    \n",
    "    \n",
    "    \n",
    "# 修改元组的变量\n",
    "# 虽然不能修改元组的元素，但是可以给存储元组的变量赋值，即可以重新定义整个元组。给元组变量赋值是合法的。\n",
    "dimensions = (400,100)\n",
    "print('\\nModified dimensions:')\n",
    "for dimension in dimensions:\n",
    "    print(dimension)"
   ]
  },
  {
   "cell_type": "markdown",
   "metadata": {},
   "source": [
    "## 4.6 设置代码格式"
   ]
  },
  {
   "cell_type": "markdown",
   "metadata": {},
   "source": [
    "### 格式设置指南：Python改进提案 （Python Enhancement Proposal，PEP）\n",
    "\n",
    "### 缩进：4个空格为一级缩进\n",
    "\n",
    "### 行长：建议每行不超过80字符\n",
    "\n",
    "### 空行：python解释器不关心但影响可读性，尽量合理\n",
    "\n",
    "### 其他"
   ]
  },
  {
   "cell_type": "markdown",
   "metadata": {},
   "source": [
    "# 第五章 if语句"
   ]
  },
  {
   "cell_type": "markdown",
   "metadata": {},
   "source": [
    "## 5.1 一个简单示例"
   ]
  },
  {
   "cell_type": "code",
   "execution_count": 115,
   "metadata": {},
   "outputs": [
    {
     "name": "stdout",
     "output_type": "stream",
     "text": [
      "Audi\n",
      "BMW\n",
      "Subaru\n",
      "Toyota\n"
     ]
    }
   ],
   "source": [
    "# cars.py\n",
    "cars = ['audi','bmw','subaru','toyota']\n",
    "\n",
    "for car in cars:\n",
    "    if car == 'bmw':\n",
    "        print(car.upper())\n",
    "    else:\n",
    "        print(car.title())"
   ]
  },
  {
   "cell_type": "markdown",
   "metadata": {},
   "source": [
    "## 5.2 条件测试(布尔表达式)\n",
    "\n",
    "### 每条if 语句的核心都是一个值为True 或False 的表达式，这种表达式被称为条件测试"
   ]
  },
  {
   "cell_type": "code",
   "execution_count": 124,
   "metadata": {},
   "outputs": [
    {
     "name": "stdout",
     "output_type": "stream",
     "text": [
      "True\n",
      "False\n",
      "True\n"
     ]
    }
   ],
   "source": [
    "# 1-检查是否相等\n",
    "# 先赋值，后判断是否为某个值\n",
    "car = 'Audi'\n",
    "print(car == 'Audi')\n",
    "\n",
    "\n",
    "\n",
    "# 2-检查是否相等时不考虑大小写\n",
    "print(car == 'audi')\n",
    "\n",
    "# 如果大小写很重要，这种行为有其优点。如果大小写不重要，只想检查变量的值，可将变量值转换为小写再比较\n",
    "# lower()不会修改存储在变量car中的值，因此这样比较时不会影响原来的变量\n",
    "# 例子：网站注册用户名时，确保无论大小写都是独一无二的才可以通过\n",
    "print(car.lower() == 'audi')"
   ]
  },
  {
   "cell_type": "code",
   "execution_count": 125,
   "metadata": {},
   "outputs": [
    {
     "name": "stdout",
     "output_type": "stream",
     "text": [
      "Hold the anchovies!\n"
     ]
    }
   ],
   "source": [
    "# toppings.py\n",
    "# 把要求的披萨配料存储在一个变量中，顾客要求的配料是否是意式小银鱼（anchovies）\n",
    "\n",
    "# 3-检查是否不相等\n",
    "requested_topping = 'mushrooms'\n",
    "if requested_topping != 'anchovies':\n",
    "    print('Hold the anchovies!')"
   ]
  },
  {
   "cell_type": "code",
   "execution_count": 134,
   "metadata": {},
   "outputs": [
    {
     "name": "stdout",
     "output_type": "stream",
     "text": [
      "True\n",
      "That is not the correct answer. Please try again!\n",
      "False\n",
      "False\n",
      "False\n",
      "True\n",
      "False\n"
     ]
    }
   ],
   "source": [
    "# 4-比较数字\n",
    "# 检查一个人是否是18岁：\n",
    "age = 18\n",
    "print(age == 18)\n",
    "\n",
    "# magic_number.py\n",
    "# 检查两个数字是否不等\n",
    "answer = 17\n",
    "if answer != 42:\n",
    "    print('That is not the correct answer. Please try again!')\n",
    "\n",
    "    \n",
    "    \n",
    "# 在if 语句中可使用各种数学比较，这让你能够直接检查关心的条件\n",
    "# 条件语句中可包含各种数学比较，如> >= < <=\n",
    "print(age == 19)\n",
    "print(age > 21)\n",
    "print(age <= 13)\n",
    "\n",
    "\n",
    "\n",
    "# 5-检查多个条件：and 或者 or组合多个条件\n",
    "\n",
    "\n",
    "\n",
    "# 6-检查特定值是否包含在列表中: 'x' in list_name - True or False\n",
    "requested_toppings = ['mushroom','onions','pineapple']\n",
    "a = 'mushroom' in requested_toppings\n",
    "print(a)\n",
    "b = 'pepperoni' in requested_toppings\n",
    "print(b)"
   ]
  },
  {
   "cell_type": "code",
   "execution_count": 137,
   "metadata": {},
   "outputs": [
    {
     "name": "stdout",
     "output_type": "stream",
     "text": [
      "Marie,you can post a response if you wish.\n"
     ]
    }
   ],
   "source": [
    "# banned_user.py\n",
    "# 7-检查特定值是否不包含在列表中：关键字 not in - 不包含时返回True\n",
    "# 例如：如果有一个列表，其中包含被禁止在论坛发言的用户\n",
    "banned_users = ['andrew','carolina','david']\n",
    "user = 'marie'\n",
    "\n",
    "if user not in banned_users:\n",
    "    print(user.title()+',you can post a response if you wish.')\n",
    "# 如果user在禁言名单，什么都不显示\n",
    "\n",
    "\n",
    "\n",
    "# 8-布尔表达式：条件测试的别名（反倒是我没听过条件测试哈哈）\n",
    "# 布尔值通常用于记录条件，如游戏是否正在运行，或用户是否可以编辑网站的特定内容\n",
    "game_active = True\n",
    "can_edit = False"
   ]
  },
  {
   "cell_type": "markdown",
   "metadata": {},
   "source": [
    "## 5.3 if语句"
   ]
  },
  {
   "cell_type": "code",
   "execution_count": 142,
   "metadata": {},
   "outputs": [
    {
     "name": "stdout",
     "output_type": "stream",
     "text": [
      "You are old enough to vote!\n",
      "Have you registered to vote yet?\n"
     ]
    }
   ],
   "source": [
    "# voting.py\n",
    "# if-else结构非常适用于执行两种操作之一的情形\n",
    "\n",
    "age = 19\n",
    "if age >= 18:\n",
    "    print('You are old enough to vote!')\n",
    "    print('Have you registered to vote yet?')\n",
    "else:\n",
    "    print('Sorry, you are too young to vote.')\n",
    "    print('Please register to vote as soon as you turn 18!')"
   ]
  },
  {
   "cell_type": "code",
   "execution_count": 146,
   "metadata": {},
   "outputs": [
    {
     "name": "stdout",
     "output_type": "stream",
     "text": [
      "Your admission cost is $5.\n"
     ]
    }
   ],
   "source": [
    "# amusement_park.py\n",
    "# if-elif-else结构适用于两个以上情形\n",
    "# 可根据需要使用任意数量的elif代码块，例如给老年人打折，可再添加一个条件测试\n",
    "\n",
    "age = 12\n",
    "if age < 4:\n",
    "    price = 0\n",
    "elif age< 18:\n",
    "    price = 5\n",
    "elif age < 65:\n",
    "    price = 10\n",
    "else: # 或者elif age >= 65 \n",
    "      # 省略else代码块，用elif来处理特定的情形更清晰\n",
    "      # else：一条包罗万象的语句，可能会引入无效甚至恶意的数据。如果知道最终要测试的条件，应考虑使用elif代替else\n",
    "    price =10\n",
    "print('Your admission cost is $'+str(price)+'.') # 前面遇到过这种typeError，这里把整数类型转换成str"
   ]
  },
  {
   "cell_type": "code",
   "execution_count": 1,
   "metadata": {},
   "outputs": [
    {
     "name": "stdout",
     "output_type": "stream",
     "text": [
      "Adding mushrooms.\n",
      "Adding extra cheese.\n"
     ]
    }
   ],
   "source": [
    "# toppings.py\n",
    "# 测试多个条件\n",
    "\n",
    "# 披萨店示例：如果顾客点了两种配料，就需要确保在其披萨中包含这些配料\n",
    "requested_toppings = ['mushrooms','extra cheese']\n",
    "\n",
    "if 'mushrooms' in requested_toppings:\n",
    "    print('Adding mushrooms.')\n",
    "if 'pepperoni' in requested_toppings:\n",
    "    print('Adding pepperoni.')\n",
    "if 'extra cheese' in requested_toppings:\n",
    "    print('Adding extra cheese.')\n",
    "\n",
    "# 这一条可能是要说明一个非常浅显的道理，就是如果用if-else，当符合前一个条件时，后面的统统不执行了，某些情形不适用。\n",
    "\n",
    "# 只想执行一个代码块，就使用if-elif-else结构；\n",
    "# 如果要运行多个代码块，就使用一系列独立的if语句"
   ]
  },
  {
   "cell_type": "markdown",
   "metadata": {},
   "source": [
    "\n",
    "## 5.4 使用if语句处理列表"
   ]
  },
  {
   "cell_type": "code",
   "execution_count": 4,
   "metadata": {},
   "outputs": [
    {
     "name": "stdout",
     "output_type": "stream",
     "text": [
      "Adding mushrooms.\n",
      "Sorry, we are out of green peppers right now.\n",
      "Adding extra cheese.\n",
      "\n",
      "Finished making your pizza!\n",
      "\n",
      "Are you sure you want a plain pizza?\n",
      "\n",
      "\n",
      "Adding mushrooms.\n",
      "Sorry, we dont have french fries.\n",
      "Adding extra cheese.\n",
      "\n",
      "Finished making your pizza!\n"
     ]
    }
   ],
   "source": [
    "# toppings.py\n",
    "# 披萨店示例 - 制作披萨时，用户的点单系统，每添加一种配料都打印一条消息。\n",
    "# 创建一个列表，在其中包含顾客点的配料，并使用一个循环来指出添加到披萨中的配料。\n",
    "\n",
    "\n",
    "# 检查特殊元素\n",
    "# 如果青椒用完了，就显示一条消息，指出不能点青椒的原因。\n",
    "requested_toppings = ['mushrooms','green peppers','extra cheese']\n",
    "\n",
    "for requested_topping in requested_toppings:\n",
    "    if requested_topping == 'green peppers':\n",
    "        print('Sorry, we are out of green peppers right now.')\n",
    "    else:\n",
    "        print('Adding '+requested_topping+'.')\n",
    "\n",
    "print('\\nFinished making your pizza!')\n",
    "\n",
    "\n",
    "\n",
    "# 确定列表不是空的\n",
    "# Python将在列表至少包含一个元素时返回True\n",
    "requested_toppings = []\n",
    "\n",
    "if requested_toppings: # 列表为空，返回Flase，执行else的内容\n",
    "    for requested_toppings in requested_toppings:\n",
    "        print('\\nAdding '+requested_topping+'.')\n",
    "    print('\\nFinished making your pizza!')\n",
    "else:\n",
    "    print('\\nAre you sure you want a plain pizza?')\n",
    "    print('\\n')\n",
    "\n",
    "    \n",
    "    \n",
    "# 使用多个列表\n",
    "# 第一个列表包含比萨店供应的配料，第二个包含顾客点的配料。\n",
    "# 对requested_toppings中的每个元素，都检查它是否是比萨店供应的配料，再决定是否在比萨中添加它。\n",
    "available_toppings = ['mushrooms','olives','green peppers','pepperoni','pineapple','extra cheese']\n",
    "requested_toppings = ['mushrooms','french fries','extra cheese']\n",
    "for requested_topping in requested_toppings:\n",
    "    if requested_topping in available_toppings:\n",
    "        print('Adding ' + requested_topping + '.')\n",
    "    else:\n",
    "        print('Sorry, we dont have ' + requested_topping + '.')\n",
    "\n",
    "print('\\nFinished making your pizza!')"
   ]
  },
  {
   "cell_type": "markdown",
   "metadata": {},
   "source": [
    "## 5.5 设置if语句的格式\n",
    "\n",
    "### 在诸如== 、>= 和<= 等比较运算符两边各添加一个空格，例如，if age < 4: 要比if age<4: 好。"
   ]
  },
  {
   "cell_type": "markdown",
   "metadata": {},
   "source": [
    "# 第六章 字典"
   ]
  },
  {
   "cell_type": "markdown",
   "metadata": {},
   "source": [
    "### 字典可存储的信息几乎不受限制。理解字典后，就能够更准确地为各种真实物体建模\n",
    "\n",
    "### 可以创建一个表示人的字典，然后在其中存储各种信息：姓名、年龄、地址、职业以及要描述的任何方面。\n",
    "\n",
    "### 还能够存储任意两种相关的信息，如一系列单词及其含义，一系列人名及其喜欢的数字，以及一系列山脉及其海拔等。"
   ]
  },
  {
   "cell_type": "markdown",
   "metadata": {},
   "source": [
    "## 6.1 一个简单的字典"
   ]
  },
  {
   "cell_type": "code",
   "execution_count": 5,
   "metadata": {},
   "outputs": [
    {
     "name": "stdout",
     "output_type": "stream",
     "text": [
      "green\n",
      "5\n"
     ]
    }
   ],
   "source": [
    "# alien.py\n",
    "# 创建一个用于游戏的字典，存储关于特定外星人的信息，颜色、点数等。\n",
    "\n",
    "alien_0 = {'color':'green', 'points':5}\n",
    "\n",
    "print(alien_0['color'])\n",
    "print(alien_0['points'])"
   ]
  },
  {
   "cell_type": "markdown",
   "metadata": {},
   "source": [
    "## 6.2 使用字典\n",
    "\n",
    "### 字典：一系列‘键-值对’，放在花括号里{}，每个键都与一个值相关联，可以使用键来访问与之相关联的值。\n",
    "### 键-值：两个相关联的值，指定键时，返回与之相关联的值；键和值冒号分隔，键-值对之间逗号分隔。\n",
    "### 值：可将python中任何对象用作字典中的值，比如数字、字符串、列表、字典等。"
   ]
  },
  {
   "cell_type": "code",
   "execution_count": 12,
   "metadata": {},
   "outputs": [
    {
     "name": "stdout",
     "output_type": "stream",
     "text": [
      "green\n",
      "You just earned 5 points!\n",
      "\n",
      "Alien_0:\n",
      "{'points': 5, 'color': 'green'}\n",
      "\n",
      "New alien_0:\n",
      "{'y_position': 25, 'points': 5, 'x_position': 0, 'color': 'green'}\n"
     ]
    }
   ],
   "source": [
    "# 在字典中，想存储多少个键-值对都可以。\n",
    "# 最简单的字典只有一个键-值对\n",
    "\n",
    "alien_0 = {'color':'green'}\n",
    "\n",
    "\n",
    "\n",
    "# 1-访问字典中的值\n",
    "# 依次指定字典名和放在方括号内的键\n",
    "print(alien_0['color'])\n",
    "\n",
    "# 字典可包含任意数量的键-值对。\n",
    "# 比如每当射杀外星人时，显示玩家应获得多少个点：\n",
    "alien_0 = {'color':'green', 'points':5}\n",
    "new_points = alien_0['points']\n",
    "print('You just earned ' + str(new_points) + ' points!')\n",
    "\n",
    "\n",
    "\n",
    "# 2-添加键-值对（排列与添加顺序无关，字典是无序的）\n",
    "# 依次指定字典吗、用方括号括起来的键和相关联的值  字典名称[键]=值\n",
    "# 由于屏幕坐标系的原点通常为左上角，因此要将该外星人放在屏幕左边缘，可将 x 坐标设置为0；\n",
    "# 要将该外星人放在离屏幕顶部25像素的地方，可将 y 坐标设置为25\n",
    "print(\"\\nAlien_0:\")\n",
    "print(alien_0)\n",
    "\n",
    "alien_0['x_position']=0\n",
    "alien_0['y_position']=25\n",
    "print('\\nNew alien_0:')\n",
    "print(alien_0)"
   ]
  },
  {
   "cell_type": "code",
   "execution_count": 19,
   "metadata": {},
   "outputs": [
    {
     "name": "stdout",
     "output_type": "stream",
     "text": [
      "{'points': 5, 'color': 'green'}\n",
      "The alien is green.\n",
      "\n",
      "The alien is now yellow.\n",
      "\n",
      "Original x-positon: 0\n",
      "\n",
      "New x-position: 2\n",
      "\n",
      "The alien now is:\n",
      "{'points': 5, 'color': 'green'}\n",
      "\n",
      "The alien after delete:\n",
      "{'color': 'green'}\n"
     ]
    }
   ],
   "source": [
    "# alien.py\n",
    "# 3-先创建空字典后添加信息\n",
    "# 使用字典来存储用户提供的数据或在编写能自动生成大量键—值对的代码时，通常都需要先定义一个空字典\n",
    "\n",
    "# 先使用一对空的花括号定义一个字典，再分行添加各个键-值对。\n",
    "alien_0 = {}\n",
    "alien_0['color'] = 'green'\n",
    "alien_0['points'] = 5\n",
    "print(alien_0)\n",
    "\n",
    "\n",
    "\n",
    "# 4-修改字典中的值\n",
    "# 随着游戏进行，需要将一个外星人由绿色变为黄色\n",
    "print('The alien is ' + alien_0['color']+'.')\n",
    "alien_0['color']='yellow'\n",
    "print('\\nThe alien is now ' + alien_0['color']+'.')\n",
    "\n",
    "# 对一个能够以不同速度移动的外星人的位置进行跟踪\n",
    "alien_0={'x_position':0, 'y_position':25, 'speed':'medium'}\n",
    "print('\\nOriginal x-positon: ' + str(alien_0['x_position']))\n",
    "\n",
    "# 向右移动外星人，根据外星人当前速度决定将其移动多远\n",
    "if alien_0['speed'] == 'slow':\n",
    "    x_increment = 1 # increment-增量\n",
    "elif alien_0['speed'] == 'medium':\n",
    "    x_increment = 2\n",
    "else:\n",
    "    # 这个外星人速度一定很快\n",
    "    x_increment = 3\n",
    "\n",
    "# 新位置等于老位置加上增量\n",
    "alien_0['x_position'] = alien_0['x_position'] + x_increment\n",
    "print('\\nNew x-position: ' + str(alien_0['x_position']))\n",
    "\n",
    "# 将速度中等的外星人变成速度很快的外星人\n",
    "alien_0['speed'] = 'fast'\n",
    "\n",
    "\n",
    "\n",
    "# 5-删除键-值对\n",
    "# del语句将不需要的信息彻底删除，必须指定字典名称和要删除的键\n",
    "alien_0 = {'color':'green', 'points':5}\n",
    "print('\\nThe alien now is:')\n",
    "print(alien_0)\n",
    "del alien_0['points']\n",
    "print('\\nThe alien after delete:')\n",
    "print(alien_0)"
   ]
  },
  {
   "cell_type": "code",
   "execution_count": 31,
   "metadata": {},
   "outputs": [
    {
     "name": "stdout",
     "output_type": "stream",
     "text": [
      "Sarah's favorite language is C.\n"
     ]
    }
   ],
   "source": [
    "# favorite_languages.py\n",
    "\n",
    "# 6-由类似对象组成的字典\n",
    "# 假设要调查很多人，询问他们最喜欢的编程语言\n",
    "\n",
    "# 同时演示了如何将过长的一行语句拆分，以及自己选择恰当的拆分位置，如print，+放在末尾；字典，逗号放在末尾\n",
    "favorite_languages = {\n",
    "    'jen':'python', # 4个空格\n",
    "    'sarah':'c',\n",
    "    'edward':'ruby',\n",
    "    'phil':'python',\n",
    "    }\n",
    "\n",
    "print(\"Sarah's favorite language is \" + \n",
    "     favorite_languages['sarah'].title() +\n",
    "      '.')"
   ]
  },
  {
   "cell_type": "markdown",
   "metadata": {},
   "source": [
    "## 6.3 遍历字典\n",
    "\n",
    "### 遍历：for循环\n",
    "\n",
    "### 1-items()方法：所有键-值对\n",
    "### 2-keys()方法：所有键（可省略，加上使代码可读性更好）\n",
    "### 3-values()方法：所有值；set()函数：剔除重复元素"
   ]
  },
  {
   "cell_type": "code",
   "execution_count": 34,
   "metadata": {},
   "outputs": [
    {
     "name": "stdout",
     "output_type": "stream",
     "text": [
      "\n",
      "Key: last\n",
      "Value: fermi\n",
      "\n",
      "Key: first\n",
      "Value: enrico\n",
      "\n",
      "Key: username\n",
      "Value: efermi\n",
      "\n",
      "item()方法返回值：\n",
      "dict_items([('last', 'fermi'), ('first', 'enrico'), ('username', 'efermi')])\n",
      "\n",
      "\n",
      "Phil's favorite language is Python.\n",
      "Jen's favorite language is Python.\n",
      "Sarah's favorite language is C.\n",
      "Edward's favorite language is Ruby.\n",
      "Phil related to Python.\n",
      "Jen related to Python.\n",
      "Sarah related to C.\n",
      "Edward related to Ruby.\n"
     ]
    }
   ],
   "source": [
    "# user.py\n",
    "\n",
    "# 1-遍历所有的键-值对：\n",
    "# items()方法 + for循环\n",
    "# 要获悉该用户字典中的所有信息 - 使用一个for循环来遍历这个字典\n",
    "user_0 = {\n",
    "    'username':'efermi',\n",
    "    'first':'enrico',\n",
    "    'last':'fermi'\n",
    "}\n",
    "\n",
    "for key, value in user_0.items():\n",
    "    # items()方法：以列表形式返回可遍历的(键, 值) 元组数组。（并非直接的列表，若要返回列表值还需调用list函数）\n",
    "    print('\\nKey: ' + key)\n",
    "    print('Value: ' + value)\n",
    "    # 键-值对的返回顺序与存储顺序不同。python不关心存储顺序，只跟踪键和值之间的关联关系。\n",
    "\n",
    "print('\\nitem()方法返回值：')\n",
    "print(user_0.items())\n",
    "print('\\n')\n",
    "\n",
    "\n",
    "# favorite_languages.py\n",
    "favorite_language = {\n",
    "    'jen':'python', # 4个空格\n",
    "    'sarah':'c',\n",
    "    'edward':'ruby',\n",
    "    'phil':'python',\n",
    "    }\n",
    "\n",
    "for name, language in favorite_languages.items():\n",
    "    print(name.title() + \"'s favorite language is \" + \n",
    "         language.title() + '.')\n",
    "\n",
    "for a, b in favorite_languages.items(): # items()获取的键-值对分别对应给for后的两个变量，不论变量名是什么。\n",
    "    print(a.title() + ' related to ' +\n",
    "         b.title() + '.')"
   ]
  },
  {
   "cell_type": "code",
   "execution_count": 47,
   "metadata": {},
   "outputs": [
    {
     "name": "stdout",
     "output_type": "stream",
     "text": [
      "Phil\n",
      "Jen\n",
      "Sarah\n",
      "Edward\n",
      "\n",
      "\n",
      "Phil\n",
      " Hi Phil, I see your favorite language is Python!\n",
      "Jen\n",
      "Sarah\n",
      " Hi Sarah, I see your favorite language is C!\n",
      "Edward\n",
      "\n",
      "Eric, please take our poll!\n",
      "Edward, thank you for taking the poll.\n",
      "Jen, thank you for taking the poll.\n",
      "Phil, thank you for taking the poll.\n",
      "Sarah, thank you for taking the poll.\n",
      "\n",
      "The following languages have been mentioned:\n",
      "Python\n",
      "Python\n",
      "C\n",
      "Ruby\n",
      "\n",
      "After use the function set():\n",
      "Ruby\n",
      "Python\n",
      "C\n"
     ]
    }
   ],
   "source": [
    "# favorite_languages.py\n",
    "# 2-遍历字典中的所有键：keys()方法\n",
    "# 遍历字典时，默认遍历所有的键，所以上一行省略keys()完全没问题，但写上使代码更容易理解\n",
    "\n",
    "favorite_languages = {\n",
    "    'jen':'python',\n",
    "    'sarah':'c',\n",
    "    'edward':'ruby',\n",
    "    'phil':'python',\n",
    "    }\n",
    "\n",
    "for name in favorite_languages.keys(): # 提取字典favorite_languages 中的所有键，并依次将它们存储到变量name 中\n",
    "                                       # 遍历字典时，默认遍历所有的键，所以上一行省略keys()完全没问题，但写上使代码更容易理解\n",
    "    print(name.title())   \n",
    "    \n",
    "   \n",
    "    \n",
    "# 在这种循环中，可使用当前键来访问与之相关联的值\n",
    "# 下面来打印两条消息，指出两位朋友喜欢的语言\n",
    "print('\\n')\n",
    "friends = ['phil', 'sarah']\n",
    "\n",
    "for name in favorite_languages.keys():\n",
    "    print(name.title())\n",
    "    if name in friends:\n",
    "        print(\" Hi \" + name.title() +\n",
    "             \", I see your favorite language is \" + \n",
    "            favorite_languages[name].title() + '!')\n",
    "        \n",
    "# 使用keys()确定某个人是否接受了调查\n",
    "if 'erin' not in favorite_languages.keys():\n",
    "    print('\\nEric, please take our poll!')\n",
    "    \n",
    "    \n",
    "    \n",
    "# 3-按顺序遍历字典中的所有键\n",
    "# 获取字典元素时，获取顺序是不可预测的。但通常你想要的只是获取与键相关联的正确的值\n",
    "# 要以特定的顺序返回元素，一种办法是在for循环中对返回的键进行排序。可使用函数sorted()来获取特定顺序排列的键列表的副本\n",
    "for name in sorted(favorite_languages.keys()): # 列出字典中的所有键，并在遍历前对这个列表进行排序\n",
    "    print(name.title() + ', thank you for taking the poll.')\n",
    "    \n",
    "    \n",
    "    \n",
    "# 4-遍历字典中的所有值:\n",
    "# values()方法-返回一个值列表，不包含任何键。\n",
    "print('\\nThe following languages have been mentioned:')\n",
    "for language in favorite_languages.values(): # for语句提取字典中的每个值，并将它们依次存储到变量language中\n",
    "    print(language.title())\n",
    "\n",
    "# 上述方法没有考虑是否重复。\n",
    "# 使用集合（set）可剔除重复项 - 类似于列表，但每个元素都是独一无二的\n",
    "# set():对包含重复元素的列表调用set()，可让python找出列表中独一无二的元素，并使用这些元素创建一个集合\n",
    "print('\\nAfter use the function set():')\n",
    "for language in set(favorite_languages.values()):\n",
    "    print(language.title())"
   ]
  },
  {
   "cell_type": "markdown",
   "metadata": {},
   "source": [
    "## 6.4 嵌套\n",
    "\n",
    "### 将一系列字典存储在列表中，或将列表作为值存储在字典中，这称为嵌套\n",
    "### 可以在列表中嵌套字典、在字典中嵌套列表、在字典中嵌套字典"
   ]
  },
  {
   "cell_type": "code",
   "execution_count": 58,
   "metadata": {},
   "outputs": [
    {
     "name": "stdout",
     "output_type": "stream",
     "text": [
      "{'points': 5, 'color': 'green'}\n",
      "{'points': 10, 'color': 'yellow'}\n",
      "{'points': 15, 'color': 'red'}\n",
      "\n",
      "30 aliens:\n",
      "{'points': 5, 'color': 'green', 'speed': 'slow'}\n",
      "{'points': 5, 'color': 'green', 'speed': 'slow'}\n",
      "{'points': 5, 'color': 'green', 'speed': 'slow'}\n",
      "{'points': 5, 'color': 'green', 'speed': 'slow'}\n",
      "{'points': 5, 'color': 'green', 'speed': 'slow'}\n",
      "...\n",
      "Total number of aliens: 30\n",
      "\n",
      "Change some aliens:\n",
      "{'points': 10, 'color': 'yellow', 'speed': 'medium'}\n",
      "{'points': 10, 'color': 'yellow', 'speed': 'medium'}\n",
      "{'points': 10, 'color': 'yellow', 'speed': 'medium'}\n",
      "{'points': 5, 'color': 'green', 'speed': 'slow'}\n",
      "{'points': 5, 'color': 'green', 'speed': 'slow'}\n",
      "...\n"
     ]
    }
   ],
   "source": [
    "# aliens.py\n",
    "# 1-字典列表\n",
    "# 管理多个外星人：创建一个外星人列表，其中每个外星人都是一个字典\n",
    "\n",
    "alien_0 = {'color':'green', 'points':5}\n",
    "alien_1 = {'color':'yellow', 'points':10}\n",
    "alien_2 = {'color':'red', 'points':15}\n",
    "\n",
    "aliens = [alien_0, alien_1, alien_2] # 将上述多个字典都放到一个名为aliens的列表中\n",
    "for alien in aliens: # 遍历这个aliens列表\n",
    "    print(alien)\n",
    "    \n",
    "    \n",
    "    \n",
    "# 管理多个字典：用range()生成30个外星人\n",
    "# 创建一个用于存储外星人的空列表\n",
    "print('\\n30 aliens:')\n",
    "aliens = []\n",
    "\n",
    "# 床架30个绿色的外星人\n",
    "for alien_number in range(30): # range()返回一系列数字，这里告诉python需要重复多少次循环\n",
    "    new_alien = {'color':'green', 'points':5, 'speed':'slow'}\n",
    "    aliens.append(new_alien)\n",
    "    \n",
    "# 显示前五个外星人\n",
    "for alien in aliens[:5]: # 使用一个切片来打印前五个外星人\n",
    "    print(alien)\n",
    "print('...')\n",
    "\n",
    "# 显示创建了多少个外星人\n",
    "print('Total number of aliens: ' + str(len(aliens)))\n",
    "\n",
    "\n",
    "\n",
    "# 每个外星人都是独立的\n",
    "# 可以使用for循环和if语句来修改某些特征：比如修改前三个外星人的特征值为‘中-10-黄色’\n",
    "# 添加elif模块可将黄色外星人修改为快-15-红色外星人\n",
    "print('\\nChange some aliens:')\n",
    "for alien in aliens[0:3]:\n",
    "    if alien['color'] == 'green':\n",
    "        alien['color'] = 'yellow'\n",
    "        alien['speed'] = 'medium'\n",
    "        alien['points'] = 10\n",
    "    elif alien['color'] == 'yellow':\n",
    "        alien['color'] = 'red'\n",
    "        alien['speed'] = 'fast'\n",
    "        alien['points'] = 15\n",
    "        \n",
    "# 显示前五个外星人\n",
    "for alien in aliens[0:5]:\n",
    "    print(alien)\n",
    "print('...')"
   ]
  },
  {
   "cell_type": "code",
   "execution_count": 60,
   "metadata": {},
   "outputs": [
    {
     "name": "stdout",
     "output_type": "stream",
     "text": [
      "You ordered a thick-crust pizza with the following toppings:\n",
      "\tmushrooms\n",
      "\textra cheese\n",
      "\n",
      "Phil's favorite languages are:\n",
      "\tPython\n",
      "\tHaskell\n",
      "\n",
      "Jen's favorite languages are:\n",
      "\tPython\n",
      "\tRuby\n",
      "\n",
      "Sarah's favorite languages are:\n",
      "\tC\n",
      "\n",
      "Edward's favorite languages are:\n",
      "\tRuby\n",
      "\tGo\n"
     ]
    }
   ],
   "source": [
    "# pizza.py\n",
    "# 2-在字典中存储列表\n",
    "# 每当需要在字典中将一个键关联到多个值时，都可以在字典中嵌套一个列表\n",
    "\n",
    "# 描述顾客点的比萨：如果使用列表，只能存储要添加的配料；如果使用字典，还可包含其他有关比萨的描述\n",
    "\n",
    "# 存储所点比萨的信息\n",
    "pizza = {\n",
    "    'crust':'thick',\n",
    "    'toppings':['mushrooms','extra cheese'],\n",
    "    }\n",
    "\n",
    "# 概述所点的比萨\n",
    "print('You ordered a ' + pizza['crust'] + '-crust pizza ' +\n",
    "     'with the following toppings:')\n",
    "for topping in pizza['toppings']:\n",
    "    print('\\t' + topping)\n",
    "    \n",
    "    \n",
    "    \n",
    "# favorite_languages.py\n",
    "# 将每个人的回答都存储在一个列表中，被调查者就可选择多种喜欢的语言。\n",
    "# 遍历字典时，与每个被调查者相关联的都是一个语言列表，而不是一种语言；\n",
    "# 因此，在遍历该字典的for 循环中，我们需要再使用一个for循环来遍历与被调查者相关联的语言列表：\n",
    "favorite_languages = {\n",
    "    'jen':['python','ruby'],\n",
    "    'sarah':['c'],\n",
    "    'edward':['ruby','go'],\n",
    "    'phil':['python','haskell'],\n",
    "    }\n",
    "\n",
    "for name, languages in favorite_languages.items():\n",
    "    print('\\n' + name.title() + \"'s favorite languages are:\")\n",
    "    for language in languages:\n",
    "        print('\\t' + language.title())"
   ]
  },
  {
   "cell_type": "code",
   "execution_count": 63,
   "metadata": {},
   "outputs": [
    {
     "name": "stdout",
     "output_type": "stream",
     "text": [
      "\n",
      "Username: aeinstein\n",
      "\tFull name: Albert Einstein\n",
      "\tLocation: Princeton\n",
      "\n",
      "Username: mcurie\n",
      "\tFull name: Marie Curie\n",
      "\tLocation: Paris\n"
     ]
    }
   ],
   "source": [
    "# many_users.py\n",
    "# 3-在字典中存储字典\n",
    "\n",
    "# 有多个网站用户，每个都有独特的用户名，可在字典中将用户名作为键，将每位用户的信息存储在一个字典中作为与用户名相关联的值\n",
    "# 如下：对每位用户，存储三项信息 - 名、姓、居住地\n",
    "users = {\n",
    "    'aeinstein':{\n",
    "        'first':'albert',\n",
    "        'last':'einstein',\n",
    "        'location':'princeton'\n",
    "        },\n",
    "    \n",
    "    'mcurie':{\n",
    "        'first':'marie',\n",
    "        'last':'curie',\n",
    "        'location':'paris',\n",
    "        },\n",
    "    }\n",
    "\n",
    "for username, user_info in users.items():\n",
    "    print('\\nUsername: ' + username)\n",
    "    full_name = user_info['first'] + ' ' + user_info['last']\n",
    "    location = user_info['location']\n",
    "    \n",
    "    print('\\tFull name: ' + full_name.title())\n",
    "    print('\\tLocation: ' + location.title())"
   ]
  },
  {
   "cell_type": "markdown",
   "metadata": {},
   "source": [
    "# 第七章 用户输入和while循环"
   ]
  },
  {
   "cell_type": "markdown",
   "metadata": {},
   "source": [
    "## 7.1 函数input()的工作原理\n",
    "\n",
    "### 函数input()：让程序暂停运行，等待用户输入一些文本。获取用户输入后，将其存储在一个变量中。回车继续运行。\n",
    "### input()接收一个参数：即要向用户显示的提示或说明（放在函数的圆括号里）\n",
    "### input()：将用户输入默认为字符串 - int()函数转为数值使用"
   ]
  },
  {
   "cell_type": "code",
   "execution_count": 64,
   "metadata": {},
   "outputs": [
    {
     "name": "stdout",
     "output_type": "stream",
     "text": [
      "Tell me something, and I will repeat it back to you: hello how are you\n",
      "hello how are you\n"
     ]
    }
   ],
   "source": [
    "# parrot.py\n",
    "\n",
    "# input()接收一个参数：即要向用户显示的提示或说明\n",
    "message = input('Tell me something, and I will repeat it back to you: ')\n",
    "print(message)"
   ]
  },
  {
   "cell_type": "code",
   "execution_count": 71,
   "metadata": {},
   "outputs": [
    {
     "name": "stdout",
     "output_type": "stream",
     "text": [
      "Please enter your name: Name_1\n",
      "Hello, Name_1!\n",
      "\n",
      "If you tell us who you are, we can personalize the messages you see.\n",
      "What is your first name? Name_2\n",
      "\n",
      "Hello, Name_2!\n",
      "\n",
      "How old are you? 22\n",
      "True\n"
     ]
    }
   ],
   "source": [
    "# greeter.py\n",
    "# 1-编写清晰的程序\n",
    "name = input('Please enter your name: ')\n",
    "print('Hello, ' + name + '!')\n",
    "\n",
    "\n",
    "# 提示超过一行时，可将提示存储在一个变量中，再讲该变量传递给函数input()\n",
    "prompt = '\\nIf you tell us who you are, we can personalize the messages you see.'\n",
    "prompt += '\\nWhat is your first name? '\n",
    "name = input(prompt)\n",
    "print('\\nHello, ' + name + '!')\n",
    "\n",
    "\n",
    "\n",
    "# 2-使用int()来获取数值输入 - 类型转换为int型\n",
    "age = input('\\nHow old are you? ')\n",
    "age = int(age)\n",
    "print(age >= 18)"
   ]
  },
  {
   "cell_type": "code",
   "execution_count": 72,
   "metadata": {},
   "outputs": [
    {
     "name": "stdout",
     "output_type": "stream",
     "text": [
      "How tall are you, in inches? 24\n",
      "\n",
      "You will be able to ride when you are a little older.\n"
     ]
    }
   ],
   "source": [
    "# rollercoaster.py\n",
    "# 判断一个人是否满足坐过山车的身高要求：\n",
    "\n",
    "height = input('How tall are you, in inches? ')\n",
    "height = int(height)\n",
    "if height >= 36:\n",
    "    print('\\nYou are tall enough to ride.')\n",
    "else:\n",
    "    print('\\nYou will be able to ride when you are a little older.')"
   ]
  },
  {
   "cell_type": "code",
   "execution_count": 75,
   "metadata": {},
   "outputs": [
    {
     "name": "stdout",
     "output_type": "stream",
     "text": [
      "1\n",
      "2\n",
      "0\n",
      "1\n",
      "\n",
      "Enter a number, and I will tell you if it is even or odd: 23\n",
      "\n",
      "The number 23 is odd.\n"
     ]
    }
   ],
   "source": [
    "# 3-求模运算符（%） - 将两数相除并返回余数\n",
    "print(4 % 3) # 余1\n",
    "print(5 % 3) # 余2\n",
    "print(6 % 3) # 余0\n",
    "print(7 % 3) # 余1\n",
    "\n",
    "\n",
    "\n",
    "# even_or_odd.py\n",
    "# 利用取余判断一个数是奇数还是偶数\n",
    "number = input('\\nEnter a number, and I will tell you if it is even or odd: ')\n",
    "number = int(number)\n",
    "if number % 2 == 0:\n",
    "    print('\\nThe number ' + str(number) + ' is even.') # 要和一堆字符串连在一起，number需要转换为字符串\n",
    "else:\n",
    "    print('\\nThe number ' + str(number) + ' is odd.')"
   ]
  },
  {
   "cell_type": "markdown",
   "metadata": {},
   "source": [
    "## 7.2 while循环简介\n",
    "### for循环：用于针对集合中的每个元素都一个代码块\n",
    "### while循环：不断运行，直到指定的条件不满足为止"
   ]
  },
  {
   "cell_type": "code",
   "execution_count": 2,
   "metadata": {},
   "outputs": [
    {
     "name": "stdout",
     "output_type": "stream",
     "text": [
      "1\n",
      "2\n",
      "3\n",
      "4\n",
      "5\n",
      "\n",
      "Tell me something, and I will repeat it back to you:\n",
      "Enter 'quit' to end the program. abc\n",
      "abc\n",
      "\n",
      "Tell me something, and I will repeat it back to you:\n",
      "Enter 'quit' to end the program. quit\n"
     ]
    }
   ],
   "source": [
    "# counting.py\n",
    "# 1-使用while循环\n",
    "current_number = 1\n",
    "while current_number <= 5:\n",
    "    print(current_number)\n",
    "    current_number += 1\n",
    "    \n",
    "    \n",
    "    \n",
    "# parrot.py\n",
    "# 2-让用户选择何时退出\n",
    "prompt = '\\nTell me something, and I will repeat it back to you:'\n",
    "prompt += \"\\nEnter 'quit' to end the program. \"\n",
    "message = ''\n",
    "while message != 'quit':\n",
    "    message = input(prompt)\n",
    "    if message != 'quit': # 当输入quit时，quit不打印\n",
    "        print(message)"
   ]
  },
  {
   "cell_type": "code",
   "execution_count": 3,
   "metadata": {},
   "outputs": [
    {
     "name": "stdout",
     "output_type": "stream",
     "text": [
      "\n",
      "Tell me something, and I will repeat it back to you:\n",
      "Enter 'quit' to end the program.  Hello, how r you\n",
      "Hello, how r you\n",
      "\n",
      "Tell me something, and I will repeat it back to you:\n",
      "Enter 'quit' to end the program.  quit\n"
     ]
    }
   ],
   "source": [
    "# parrot.py\n",
    "# 3-使用标志\n",
    "# 定义一个变量，用于判断整个程序是否处于活动状态，这个变量称为‘标志’\n",
    "# 标志-充当程序的交通信号灯，为True时继续运行，并在任何事件导致标志的值为False时让程序停止运行。\n",
    "# while只需检查标志一个条件，并将所有测试（是否发生了应将标志设置为False的事件）都放在其他地方，使程序更为整洁\n",
    "\n",
    "# 在前一小节的程序中，添加一个标志，命名为activate（可指定任何名称），用于判断程序是否应继续运行\n",
    "prompt = '\\nTell me something, and I will repeat it back to you:'\n",
    "prompt += \"\\nEnter 'quit' to end the program.  \"\n",
    "\n",
    "active = True\n",
    "while active:\n",
    "    # 使用一个标志来指出程序是否处于活动状态，这样如果需要添加测试（如elif语句），将很容易。\n",
    "    message = input(prompt)\n",
    "    if message == 'quit':\n",
    "        active = False\n",
    "    else:\n",
    "        print(message)"
   ]
  },
  {
   "cell_type": "code",
   "execution_count": 4,
   "metadata": {},
   "outputs": [
    {
     "name": "stdout",
     "output_type": "stream",
     "text": [
      "\n",
      "Please enter the name of a city you hava visited:\n",
      "(Enter 'quit' when you are finished.)  Tianjin\n",
      "I'd love to go to Tianjin!\n",
      "\n",
      "Please enter the name of a city you hava visited:\n",
      "(Enter 'quit' when you are finished.)  quit\n"
     ]
    }
   ],
   "source": [
    "# cities.py\n",
    "# 4-使用break退出循环：立即退出循环，不再运行循环中余下的代码，也不管条件测试的结果如何\n",
    "\n",
    "# 注意：在任何Python循环中都可使用break 语句。例如，可使用break 语句来退出遍历列表或字典的for 循环。\n",
    "\n",
    "# 让用户指出他到过哪些地方\n",
    "prompt = '\\nPlease enter the name of a city you hava visited:'\n",
    "prompt += \"\\n(Enter 'quit' when you are finished.)  \"\n",
    "\n",
    "while True:\n",
    "    city = input(prompt)\n",
    "    \n",
    "    if city == 'quit':\n",
    "        break\n",
    "    else:\n",
    "        print(\"I'd love to go to \" + city.title() + '!')"
   ]
  },
  {
   "cell_type": "code",
   "execution_count": 7,
   "metadata": {},
   "outputs": [
    {
     "name": "stdout",
     "output_type": "stream",
     "text": [
      "1\n",
      "3\n",
      "5\n",
      "7\n",
      "9\n",
      "1\n",
      "2\n",
      "3\n",
      "4\n",
      "5\n"
     ]
    }
   ],
   "source": [
    "# counting.py\n",
    "# 5-在循环中使用continue：返回到循环开头，并根据条件测试结果决定是否继续执行循环\n",
    "\n",
    "# 10以内的数，打印出其中的奇数\n",
    "current_number = 0\n",
    "while current_number < 10:\n",
    "    current_number += 1\n",
    "    if current_number % 2 == 0:\n",
    "        continue\n",
    "        # 当current_number能被2整除，就执行continue，让Python忽略余下的代码，并返回循环开头。如果不能被2整除，就执行余下的代码，打印该数字\n",
    "    \n",
    "    # 注意：print是与if语句模块平级的，if不成立时，顺序执行print语句的内容\n",
    "    print(current_number)\n",
    "    \n",
    "    \n",
    "    \n",
    "# 6-避免无线循环\n",
    "x = 1\n",
    "while x <= 5:\n",
    "    print(x)\n",
    "    x += 1 # 当漏写这条语句时，程序会陷入无限循环\n",
    "           # 当程序陷入无限循环时，可按Ctrl+c，也可关闭显示程序输出的终端窗口\n",
    "           # jupyter notebook中按Ctrl-c不管用，点上边的小方块‘中断服务’可中断"
   ]
  },
  {
   "cell_type": "markdown",
   "metadata": {},
   "source": [
    "## 7.3 使用while循环来处理列表和字典\n",
    "\n",
    "### 当需要记录大量数据时使用\n",
    "### for循环是一种遍历列表的有效方式，但不应修改列表，否则将导致Python难以跟踪其中的元素\n",
    "### 要在遍历列表的同时对其修改，可使用while循环\n",
    "### 通过while循环同列表和字典结合起来使用，可收集、存储并组织大量输入，供以后查看和显示"
   ]
  },
  {
   "cell_type": "code",
   "execution_count": 2,
   "metadata": {},
   "outputs": [
    {
     "name": "stdout",
     "output_type": "stream",
     "text": [
      "Verifying user: Candace\n",
      "Verifying user: Brian\n",
      "Verifying user: Alice\n",
      "\n",
      "The following users have been confirmed:\n",
      "Candace\n",
      "Brian\n",
      "Alice\n"
     ]
    }
   ],
   "source": [
    "# confirmed_users.py\n",
    "# 1-在列表之间移动元素\n",
    "\n",
    "# 一个列表，包含新注册但未验证用户；验证后，将其移动到另一个已验证用户列表中\n",
    "# 先创建一个待验证用户列表和一个用于存储已验证用户的空列表\n",
    "unconfirmed_users = ['alice','brian','candace']\n",
    "confirmed_users = []\n",
    "\n",
    "# 验证每个用户，直到没有未验证用户为止\n",
    "# 将每个经过验证的列表都移到已验证用户列表中\n",
    "while unconfirmed_users:\n",
    "    current_user = unconfirmed_users.pop() # pop类似于弹栈，弹出最后一个（不在括号内指定索引时） - 3.2章出现过\n",
    "    \n",
    "    print('Verifying user: ' + current_user.title())\n",
    "    confirmed_users.append(current_user)\n",
    "    \n",
    "# 显示所有已验证的用户\n",
    "print('\\nThe following users have been confirmed:')\n",
    "for confirmed_user in confirmed_users:\n",
    "    print(confirmed_user.title())"
   ]
  },
  {
   "cell_type": "code",
   "execution_count": 4,
   "metadata": {},
   "outputs": [
    {
     "name": "stdout",
     "output_type": "stream",
     "text": [
      "['dog', 'cat', 'dog', 'goldfish', 'cat', 'rabbit', 'cat']\n",
      "['dog', 'dog', 'goldfish', 'rabbit']\n"
     ]
    }
   ],
   "source": [
    "# pets.py\n",
    "# 2-删除包含特定值的所有列表元素\n",
    "# 之前学到，remove()方法，可删除列表中特定值（要删除的值在列表中只出现一次） - 3.2章出现过\n",
    "\n",
    "# 一个宠物列表，其中包含多个‘cat’。要删除所有这些元素，可不断运行一个while循环，直到列表中不再包含‘cat’\n",
    "pets = ['dog','cat','dog','goldfish','cat','rabbit','cat']\n",
    "print(pets)\n",
    "\n",
    "while 'cat' in pets:    # in：首次出现在for语句 - for i in something （for语句中的in貌似也是一种布尔表达式...）\n",
    "                        # 5.2章-布尔表达式：检查特定值是否包含在列表中: 'x' in list_name - True or False\n",
    "    pets.remove('cat')\n",
    "\n",
    "print(pets)"
   ]
  },
  {
   "cell_type": "code",
   "execution_count": 6,
   "metadata": {},
   "outputs": [
    {
     "name": "stdout",
     "output_type": "stream",
     "text": [
      "\n",
      "What is your name? tom\n",
      "Which mountain would you like to climeb someday? abs\n",
      "Would you like to let another person response? (yes/no) peter\n",
      "\n",
      "What is your name? bas\n",
      "Which mountain would you like to climeb someday? no\n",
      "Would you like to let another person response? (yes/no) no\n",
      "\n",
      "--- Poll Results ---\n",
      "tom would like to climb abs.\n",
      "bas would like to climb no.\n"
     ]
    }
   ],
   "source": [
    "# mountain_poll.py\n",
    "# 3-使用用户输入来填充字典\n",
    "\n",
    "# 一个调查程序，其中的循环每次执行时都提示输入被调查者的名字和回答。将收集到的数据存储在一个字典中，以便将回答同被调查者关联起来\n",
    "responses = {}\n",
    "\n",
    "# 设置一个标志，指出调查是否继续\n",
    "polling_active = True\n",
    "\n",
    "while polling_active:\n",
    "    # 提示输入被调查者的名字和回答\n",
    "    name = input('\\nWhat is your name? ')\n",
    "    response = input('Which mountain would you like to climeb someday? ')\n",
    "    \n",
    "    # 将答卷存储在字典中\n",
    "    responses[name] = response\n",
    "    \n",
    "    # 看看是否还有人要参与调查\n",
    "    # 如果input-yes，则polling_active没有变成False，就在循环内所有语句都执行之后，继续重新开始一轮循环\n",
    "    repeat = input('Would you like to let another person response? (yes/no) ')\n",
    "    if repeat == 'no':\n",
    "        polling_active = False\n",
    "    \n",
    "# 调查结束，显示结果\n",
    "print('\\n--- Poll Results ---')\n",
    "for name, response in responses.items():\n",
    "    print(name + ' would like to climb ' + response + '.')"
   ]
  },
  {
   "cell_type": "markdown",
   "metadata": {},
   "source": [
    "# 第八章 函数"
   ]
  },
  {
   "cell_type": "markdown",
   "metadata": {},
   "source": [
    "## 8.1 定义函数"
   ]
  },
  {
   "cell_type": "code",
   "execution_count": 10,
   "metadata": {},
   "outputs": [
    {
     "name": "stdout",
     "output_type": "stream",
     "text": [
      "Hello!\n",
      "Hello, Jesse!\n",
      "Hello, Sarah!\n"
     ]
    }
   ],
   "source": [
    "# greeter.py\n",
    "\n",
    "def greet_user():\n",
    "    # def 函数名(参数，有无均可):\n",
    "    # 紧跟在后的所有缩进构成了函数体\n",
    "    \n",
    "    \"\"\"显示简单的问候语\"\"\"\n",
    "    # 文档字符串（docstring），描述了函数是做什么的，三引号括起来，生成有关程序中函数的文档\n",
    "    print('Hello!')\n",
    "    \n",
    "greet_user()\n",
    "\n",
    "\n",
    "\n",
    "# 1-向函数传递信息\n",
    "# 在函数定义的括号内添加信息\n",
    "def greet_user(username):\n",
    "    \"\"\"显示带名字的问候语\"\"\"\n",
    "    print('Hello, ' + username.title() + '!')\n",
    "    \n",
    "# 可根据需要调用函数任意次\n",
    "greet_user('jesse')\n",
    "greet_user('sarah')\n",
    "\n",
    "\n",
    "\n",
    "# 2-实参和形参\n",
    "# 实参-调用函数时传递给函数的信息，如 greet_user('jesse') 中的‘jesse’是一个实参\n",
    "# 形参-函数完成其工作所需的一项信息，如定义函数中greet_user(username)中的变量username是一个形参"
   ]
  },
  {
   "cell_type": "markdown",
   "metadata": {},
   "source": [
    "## 8.2 传递实参\n",
    "### 1-位置实参：要求实参的顺序与形参的顺序相同\n",
    "### 2-关键字实参：每个实参都由变量名和值组成\n",
    "### 其他：还可使用列表和字典等..."
   ]
  },
  {
   "cell_type": "code",
   "execution_count": 12,
   "metadata": {},
   "outputs": [
    {
     "name": "stdout",
     "output_type": "stream",
     "text": [
      "\n",
      "I have a hamster.\n",
      "My hamster's name is Harry.\n",
      "\n",
      "I have a dog.\n",
      "My dog's name is Willie.\n"
     ]
    }
   ],
   "source": [
    "# pets.py\n",
    "# 1-位置实参：基于实参的顺序，将函数调用中的每个实参都关联到函数定义中的一个形参\n",
    "\n",
    "# 显示宠物信息 - 指出一个宠物属于哪种动物以及叫什么名字\n",
    "def describe_pet(animal_type, pet_name):\n",
    "    \"\"\"显示宠物信息\"\"\"\n",
    "    # 奇怪，三引号是函数定义专属的吗....\n",
    "    print('\\nI have a ' + animal_type + \".\")\n",
    "    print('My ' + animal_type + \"'s name is \" + pet_name.title() + '.')\n",
    "    \n",
    "describe_pet('hamster', 'harry') # 仓鼠-哈利\n",
    "describe_pet('dog','willie') # 可以调用函数多次"
   ]
  },
  {
   "cell_type": "code",
   "execution_count": 1,
   "metadata": {},
   "outputs": [
    {
     "name": "stdout",
     "output_type": "stream",
     "text": [
      "\n",
      "I have a hamster.\n",
      "My hamster's name is Harry.\n",
      "\n",
      "I have a dog.\n",
      "My dog's name is Willie.\n"
     ]
    }
   ],
   "source": [
    "# pets.py\n",
    "# 2-关键字实参\n",
    "\n",
    "def describe_pet(animal_type, pet_name):\n",
    "    \"\"\"显示宠物的信息\"\"\"\n",
    "    print('\\nI have a ' + animal_type + '.')\n",
    "    print('My ' + animal_type + \"'s name is \" + pet_name.title() + '.')\n",
    "    \n",
    "# 传递给函数的名称-值对，直接在实参中将名称和值关联起来，因此向函数传递实参时不会混淆，无需考虑函数调用中的实参顺序，并清楚指出各个值的用途\n",
    "describe_pet(animal_type='hamster', pet_name='harry')\n",
    "describe_pet(pet_name='willie', animal_type='dog') \n",
    "\n",
    "# 注意：使用关键字实参时，务必准确地指定函数定义中的形参名"
   ]
  },
  {
   "cell_type": "code",
   "execution_count": 5,
   "metadata": {},
   "outputs": [
    {
     "name": "stdout",
     "output_type": "stream",
     "text": [
      "\n",
      "I have a dog.\n",
      "My dog's name is Willie.\n",
      "\n",
      "I have a dog.\n",
      "My dog's name is Willie.\n",
      "\n",
      "I have a hamster.\n",
      "My hamster's name is Harry.\n"
     ]
    }
   ],
   "source": [
    "# pets.py\n",
    "# 3-默认值\n",
    "# 给每个形参指定默认值 - 在调用函数中给形参提供了实参时，使用指定的实参值；否则，将使用形参的默认值\n",
    "# 因此，给形参指定默认值后，可在函数调用中省略响应的实参 - 可简化函数调用，还可清楚地指出函数的典型用法\n",
    "\n",
    "# 注意：使用默认值时，在形参列表中必须先列出没有默认值的形参，再列出有默认值的实参，故Python可以正确地解读位置实参\n",
    "\n",
    "# 描述的大都是小狗时，可将形参的默认值设置为'dog'\n",
    "def describe_pet(pet_name, animal_type='dog'): #动物类型默认值设置为dog\n",
    "    \"\"\"显示宠物的信息-含形参默认值时\"\"\"\n",
    "    print('\\nI have a ' + animal_type + '.')\n",
    "    print('My ' + animal_type + \"'s name is \" + pet_name.title() + '.')\n",
    "    \n",
    "describe_pet(pet_name='willie') # 函数调用使用‘关键字实参’\n",
    "\n",
    "# 注意：形参的顺序是先名字后类型，因此当只包含一个实参，依然会被视为位置实参，这时这个实参将关联到函数定义中的第一个形参，故名字放在前\n",
    "describe_pet('willie') # 这样也是可行的\n",
    "\n",
    "# 当要描述的动物不是小狗时\n",
    "# 显式地给animal_type提供了实参，因此Python将忽略这个形参的默认值\n",
    "describe_pet(pet_name='harry', animal_type='hamster') "
   ]
  },
  {
   "cell_type": "code",
   "execution_count": 6,
   "metadata": {},
   "outputs": [
    {
     "name": "stdout",
     "output_type": "stream",
     "text": [
      "\n",
      "I have a dog.\n",
      "My dog's name is Willie.\n",
      "\n",
      "I have a dog.\n",
      "My dog's name is Willie.\n",
      "\n",
      "I have a hamster.\n",
      "My hamster's name is Harry.\n",
      "\n",
      "I have a hamster.\n",
      "My hamster's name is Harry.\n",
      "\n",
      "I have a hamster.\n",
      "My hamster's name is Harry.\n"
     ]
    }
   ],
   "source": [
    "# pets.py\n",
    "# 4-等效的函数调用\n",
    "# 鉴于可混合使用位置实参、关键字实参、默认值等，通常有多种等效的函数调用方式\n",
    "\n",
    "def describe_pet(pet_name, animal_type='dog'):\n",
    "    \"\"\"显示宠物的信息-各种调用方法\"\"\"\n",
    "    print('\\nI have a ' + animal_type + '.')\n",
    "    print('My ' + animal_type + \"'s name is \" + pet_name.title() + '.')\n",
    "\n",
    "# 以下是各种调用方式\n",
    "# 基于这种定义，任何情况下都必须给pet_name提供实参\n",
    "# 指定该实参时可以使用位置方式，也可以使用关键字方式\n",
    "# 要描述的动物不是小狗，必须在函数调用中给animal_type提供实参\n",
    "# 指定该实参时，可以使用位置方式，也可以使用关键字方式\n",
    "\n",
    "# 小狗willie\n",
    "describe_pet('willie') # 简化的位置方式\n",
    "describe_pet(pet_name='willie') # 关键字方式\n",
    "\n",
    "# 仓鼠Harry\n",
    "describe_pet('harry', 'hamster') # 位置方式\n",
    "describe_pet(pet_name='harry', animal_type='hamster') # 关键字方式\n",
    "describe_pet(animal_type='hamster', pet_name='harry') # 位置不对应的关键字方式"
   ]
  },
  {
   "cell_type": "code",
   "execution_count": 8,
   "metadata": {},
   "outputs": [
    {
     "ename": "TypeError",
     "evalue": "describe_pet() missing 2 required positional arguments: 'animal_type' and 'pet_name'",
     "output_type": "error",
     "traceback": [
      "\u001b[1;31m---------------------------------------------------------------------------\u001b[0m",
      "\u001b[1;31mTypeError\u001b[0m                                 Traceback (most recent call last)",
      "\u001b[1;32m<ipython-input-8-2d997bd287e8>\u001b[0m in \u001b[0;36m<module>\u001b[1;34m\u001b[0m\n\u001b[0;32m      8\u001b[0m     \u001b[0mprint\u001b[0m\u001b[1;33m(\u001b[0m\u001b[1;34m'My '\u001b[0m \u001b[1;33m+\u001b[0m \u001b[0manimal_type\u001b[0m \u001b[1;33m+\u001b[0m \u001b[1;34m\"'s name is \"\u001b[0m \u001b[1;33m+\u001b[0m \u001b[0mpet_name\u001b[0m\u001b[1;33m.\u001b[0m\u001b[0mtitle\u001b[0m\u001b[1;33m(\u001b[0m\u001b[1;33m)\u001b[0m \u001b[1;33m+\u001b[0m \u001b[1;34m'.'\u001b[0m\u001b[1;33m)\u001b[0m\u001b[1;33m\u001b[0m\u001b[0m\n\u001b[0;32m      9\u001b[0m \u001b[1;33m\u001b[0m\u001b[0m\n\u001b[1;32m---> 10\u001b[1;33m \u001b[0mdescribe_pet\u001b[0m\u001b[1;33m(\u001b[0m\u001b[1;33m)\u001b[0m\u001b[1;33m\u001b[0m\u001b[0m\n\u001b[0m\u001b[0;32m     11\u001b[0m \u001b[1;33m\u001b[0m\u001b[0m\n\u001b[0;32m     12\u001b[0m \u001b[1;31m# 学会读错误提示，并从源程序中找出错误之处\u001b[0m\u001b[1;33m\u001b[0m\u001b[1;33m\u001b[0m\u001b[0m\n",
      "\u001b[1;31mTypeError\u001b[0m: describe_pet() missing 2 required positional arguments: 'animal_type' and 'pet_name'"
     ]
    }
   ],
   "source": [
    "# pets.py\n",
    "# 5-避免实参错误\n",
    "# 当提供的实参多于或少于函数完成其工作所需的信息时，将出现实参不匹配错误 - 会报错\n",
    "\n",
    "def describe_pet(animal_type, pet_name):\n",
    "    \"\"\"显示宠物的信息\"\"\"\n",
    "    print('\\nI have a ' + animal_type + '.')\n",
    "    print('My ' + animal_type + \"'s name is \" + pet_name.title() + '.')\n",
    "    \n",
    "describe_pet()\n",
    "\n",
    "# 学会读错误提示，并从源程序中找出错误之处\n",
    "# 例如提供的实参太多时，错误提示可以帮忙确保函数调用和函数定义匹配"
   ]
  },
  {
   "cell_type": "markdown",
   "metadata": {},
   "source": [
    "## 8.3 返回值\n",
    "\n",
    "### 函数返回的值称为返回值\n",
    "### 返回值让你能够将程序的大部分繁重工作移到函数中去完成，从而简化主程序"
   ]
  },
  {
   "cell_type": "code",
   "execution_count": 9,
   "metadata": {},
   "outputs": [
    {
     "name": "stdout",
     "output_type": "stream",
     "text": [
      "Jimi Hendrix\n"
     ]
    }
   ],
   "source": [
    "# formatted_name.py\n",
    "# 1-返回简单值\n",
    "\n",
    "# 函数-接受名和姓，并返回整洁的姓名\n",
    "def get_formatted_name(first_name, last_name):\n",
    "    \"\"\"返回整洁的姓名\"\"\"\n",
    "    full_name = first_name + ' ' + last_name\n",
    "    return full_name.title()\n",
    "\n",
    "# 调用返回值时，需要提供一个变量，用于存储返回的值 \n",
    "musician = get_formatted_name('jimi', 'hendrix')\n",
    "print(musician)"
   ]
  },
  {
   "cell_type": "code",
   "execution_count": 22,
   "metadata": {},
   "outputs": [
    {
     "name": "stdout",
     "output_type": "stream",
     "text": [
      "Jimi Hendrix\n",
      "John Hooker Lee\n"
     ]
    }
   ],
   "source": [
    "# formatted_name.py\n",
    "# 2-让实参变成可选的 - 可使用默认值来让实参变成可选的\n",
    "# 这样使用函数的人就只需要在必要时才提供额外的信息\n",
    "\n",
    "# 可选值让函数能够处理各种不同情形的同时，确保函数调用尽可能简单\n",
    "\n",
    "# 扩展程序，使其还可以处理中间名\n",
    "# 但并非所有人都有中间名\n",
    "# 让中间名变成可选 - 给实参middle_name指定一个默认值：空字符串\n",
    "def get_formatted_name(first_name, last_name, middle_name=''): # 注意：中间名是空字符串，什么都没有，不是空格，不然print有问题\n",
    "                                                         # 空格也算不为空，为True（可能吧），按if走，而不是else，故姓名直接有两个空格\n",
    "    \"\"\"返回整洁的姓名\"\"\"\n",
    "    if middle_name:\n",
    "        full_name = first_name + ' ' + middle_name + ' ' + last_name\n",
    "    else:\n",
    "        full_name = first_name + ' ' + last_name\n",
    "    return full_name.title()\n",
    "\n",
    "musician = get_formatted_name('jimi','hendrix')\n",
    "print(musician)\n",
    "\n",
    "musician = get_formatted_name('john','lee','hooker')\n",
    "print(musician)"
   ]
  },
  {
   "cell_type": "code",
   "execution_count": 25,
   "metadata": {},
   "outputs": [
    {
     "name": "stdout",
     "output_type": "stream",
     "text": [
      "{'first': 'jimi', 'age': 27, 'last': 'hendrix'}\n"
     ]
    }
   ],
   "source": [
    "# person.py\n",
    "# 3-返回字典\n",
    "\n",
    "# 函数可返回任何类型的值，包括列表和字典等较复杂的数据结构\n",
    "\n",
    "# 函数-接收姓名的组成部分，并返回一个表示人的字典\n",
    "def build_person(first_name, last_name, age=''):\n",
    "    \"\"\"返回一个字典，其中包含有关一个人的信息\"\"\"\n",
    "    person = {'first':first_name, 'last':last_name}\n",
    "    if age:\n",
    "        person['age'] = age     # 6.2章-向字典中添加元素的方式\n",
    "    return person\n",
    "\n",
    "musician = build_person('jimi','hendrix',age=27)\n",
    "print(musician)\n"
   ]
  },
  {
   "cell_type": "code",
   "execution_count": 26,
   "metadata": {},
   "outputs": [
    {
     "name": "stdout",
     "output_type": "stream",
     "text": [
      "\n",
      "Please tell me your name:\n",
      "(enter 'q' at any time to quit)\n",
      "First name: Tom\n",
      "Last name: hiddleson\n",
      "\n",
      "Hello, Tom Hiddleson!\n",
      "\n",
      "Please tell me your name:\n",
      "(enter 'q' at any time to quit)\n",
      "First name: q\n"
     ]
    }
   ],
   "source": [
    "# greeter.py\n",
    "# 4-结合使用函数和while循环\n",
    "\n",
    "# 可将函数同任何Python结构结合起来使用\n",
    "\n",
    "# 以更正规的方式问候用户 - 尝试使用名和姓跟用户打招呼\n",
    "def get_formatted_name(first_name, last_name):\n",
    "    \"\"\"返回整洁的姓名\"\"\"\n",
    "    full_name = first_name + ' ' + last_name\n",
    "    return full_name.title()\n",
    "\n",
    "while True:\n",
    "    print('\\nPlease tell me your name:')\n",
    "    print(\"(enter 'q' at any time to quit)\")\n",
    "    \n",
    "    f_name = input('First name: ')\n",
    "    if f_name == 'q':\n",
    "        break\n",
    "        \n",
    "    l_name = input('Last name: ')\n",
    "    if l_name == 'q':\n",
    "        break\n",
    "        \n",
    "    formatted_name = get_formatted_name(f_name, l_name)\n",
    "    print('\\nHello, ' + formatted_name + '!')"
   ]
  },
  {
   "cell_type": "markdown",
   "metadata": {},
   "source": [
    "## 8.4 传递列表\n",
    "\n",
    "### 向函数传递列表很有用，这种列表包含的可能是名字、数字或更复杂的对象（如字典）"
   ]
  },
  {
   "cell_type": "code",
   "execution_count": 31,
   "metadata": {},
   "outputs": [
    {
     "name": "stdout",
     "output_type": "stream",
     "text": [
      "Hello, Hannah!\n",
      "Hello, Ty!\n",
      "Hello, Margot!\n"
     ]
    }
   ],
   "source": [
    "# greet_users.py\n",
    "# 假设有一个用户列表，要问候其中的每位用户 - 将一个名字列表传递给一个问候函数\n",
    "\n",
    "def greet_users(names):\n",
    "    \"\"\"向列表中的每位用户都发出简单的问候\"\"\"\n",
    "    for name in names:\n",
    "        msg = \"Hello, \" + name.title() + '!'\n",
    "        print(msg)\n",
    "        \n",
    "usernames = ['hannah','ty','margot']\n",
    "greet_users(usernames)"
   ]
  },
  {
   "cell_type": "code",
   "execution_count": 32,
   "metadata": {},
   "outputs": [
    {
     "name": "stdout",
     "output_type": "stream",
     "text": [
      "Printing model: dodecahedron\n",
      "Printing model: robot pendant\n",
      "Printing model: iphone case\n",
      "\n",
      "The following models have been printed:\n",
      "dodecahedron\n",
      "robot pendant\n",
      "iphone case\n"
     ]
    }
   ],
   "source": [
    "# printing_models.py\n",
    "# 1-在函数中修改列表\n",
    "\n",
    "# 创建一个列表，其中包含一些要打印的设计\n",
    "unprinted_designs = ['iphone case','robot pendant','dodecahedron']\n",
    "completed_models = []\n",
    "\n",
    "# 模拟打印每个设计，直到没有未打印的设计为止\n",
    "# 打印每个设计后，都将其移动到列表completed_models中\n",
    "while unprinted_designs:\n",
    "    current_design = unprinted_designs.pop()\n",
    "    \n",
    "    # 模拟根据设计制作3D打印模型的过程\n",
    "    print('Printing model: ' + current_design)\n",
    "    completed_models.append(current_design)\n",
    "    \n",
    "# 显示打印好的所有模型\n",
    "print('\\nThe following models have been printed:')\n",
    "for completed_model in completed_models:\n",
    "    print(completed_model)"
   ]
  },
  {
   "cell_type": "code",
   "execution_count": 37,
   "metadata": {},
   "outputs": [
    {
     "name": "stdout",
     "output_type": "stream",
     "text": [
      "打印前：未打印与已完成\n",
      "['iphone case', 'robot pendant', 'dodcahedron']\n",
      "[]\n",
      "Printing model: dodcahedron\n",
      "Printing model: robot pendant\n",
      "Printing model: iphone case\n",
      "\n",
      "The following models have been printed:\n",
      "dodcahedron\n",
      "robot pendant\n",
      "iphone case\n",
      "打印后：未打印与已完成\n",
      "[]\n",
      "['dodcahedron', 'robot pendant', 'iphone case']\n"
     ]
    }
   ],
   "source": [
    "# printing_models.py\n",
    "# 上接：重新组织以上代码，编写两个函数 - 效率更高\n",
    "# 第一个函数负责处理打印设计的工作，第二个函数将概述打印了哪些设计\n",
    "\n",
    "def print_models(unprinted_designs, completed_models):\n",
    "    \"\"\"\n",
    "    模拟打印每个设计，直到没有未打印的设计为止\n",
    "    打印每个设计后，都讲其移到列表completed_models中    \n",
    "    \"\"\"\n",
    "    while unprinted_designs:\n",
    "        current_design = unprinted_designs.pop()\n",
    "        \n",
    "        # 模拟根据设计制作3D打印模型的过程\n",
    "        print('Printing model: ' + current_design)\n",
    "        completed_models.append(current_design)\n",
    "        \n",
    "def show_completed_models(completed_models):\n",
    "    \"\"\"\n",
    "    显示打印好的所有模型\n",
    "    \"\"\"\n",
    "    print('\\nThe following models have been printed:')\n",
    "    for completed_model in completed_models:\n",
    "        print(completed_model)\n",
    "\n",
    "        \n",
    "print(\"打印前：未打印与已完成\")\n",
    "unprinted_designs = ['iphone case','robot pendant','dodcahedron']\n",
    "completed_models = []\n",
    "\n",
    "\n",
    "print(unprinted_designs)\n",
    "print(completed_models)\n",
    "\n",
    "\n",
    "print_models(unprinted_designs, completed_models)\n",
    "show_completed_models(completed_models)\n",
    "\n",
    "\n",
    "print('打印后：未打印与已完成')\n",
    "print(unprinted_designs)\n",
    "print(completed_models)"
   ]
  },
  {
   "cell_type": "code",
   "execution_count": 42,
   "metadata": {},
   "outputs": [
    {
     "name": "stdout",
     "output_type": "stream",
     "text": [
      "打印前：未打印与已完成\n",
      "['iphone case', 'robot pendant', 'dodcahedron']\n",
      "[]\n",
      "Printing model: dodcahedron\n",
      "Printing model: robot pendant\n",
      "Printing model: iphone case\n",
      "\n",
      "The following models have been printed:\n",
      "dodcahedron\n",
      "robot pendant\n",
      "iphone case\n",
      "打印后：未打印与已完成\n",
      "['iphone case', 'robot pendant', 'dodcahedron']\n",
      "['dodcahedron', 'robot pendant', 'iphone case']\n"
     ]
    }
   ],
   "source": [
    "# printing_models.py\n",
    "# 4-禁止函数修改列表\n",
    "\n",
    "# 要求：即便打印所有设计后，也要保留原来的未打印的设计列表，以供备案\n",
    "# 思路：向函数传递列表的副本而不是原件，这样函数所做的任何修改都只影响副本，而丝毫不影响原件\n",
    "\n",
    "\"\"\"\n",
    "要将列表的副本传递给函数，可以像下面这样做：\n",
    "function_name(list_name[:])\n",
    "\"\"\"\n",
    "# 切片法：print_models(unprinted_designs[:], completed_models)\n",
    "\n",
    "def print_models(unprinted_designs, completed_models):\n",
    "    \"\"\"\n",
    "    模拟打印每个设计，直到没有未打印的设计为止\n",
    "    打印每个设计后，都讲其移到列表completed_models中    \n",
    "    \"\"\"\n",
    "    while unprinted_designs:\n",
    "        current_design = unprinted_designs.pop()\n",
    "        \n",
    "        # 模拟根据设计制作3D打印模型的过程\n",
    "        print('Printing model: ' + current_design)\n",
    "        completed_models.append(current_design)\n",
    "        \n",
    "def show_completed_models(completed_models):\n",
    "    \"\"\"\n",
    "    显示打印好的所有模型\n",
    "    \"\"\"\n",
    "    print('\\nThe following models have been printed:')\n",
    "    for completed_model in completed_models:\n",
    "        print(completed_model)\n",
    "\n",
    "        \n",
    "print(\"打印前：未打印与已完成\")\n",
    "\n",
    "unprinted_designs = ['iphone case','robot pendant','dodcahedron']\n",
    "completed_models = []\n",
    "\n",
    "\n",
    "print(unprinted_designs)\n",
    "print(completed_models)\n",
    "\n",
    "\n",
    "print_models(unprinted_designs[:], completed_models) # 切片法取“未打印”列表的副本，则一顿操作之后，原列表不变\n",
    "show_completed_models(completed_models)\n",
    "\n",
    "\n",
    "print('打印后：未打印与已完成')\n",
    "print(unprinted_designs)\n",
    "print(completed_models)"
   ]
  },
  {
   "cell_type": "markdown",
   "metadata": {},
   "source": [
    "## 8.5 传递任意数量的实参"
   ]
  },
  {
   "cell_type": "code",
   "execution_count": 44,
   "metadata": {},
   "outputs": [
    {
     "name": "stdout",
     "output_type": "stream",
     "text": [
      "\n",
      "Making a pizza with the following toppings:\n",
      "- pepperoni\n",
      "\n",
      "Making a pizza with the following toppings:\n",
      "- mushrooms\n",
      "- green peppers\n",
      "- extra cheese\n"
     ]
    }
   ],
   "source": [
    "# pizza.py\n",
    "# 预先不知道函数需要多少实参时 - 好在Python允许函数从调用语句中收集任意数量的实参\n",
    "\n",
    "# 制作比萨的函数：无法预先确定顾客要多少种配料\n",
    "# 只有一个形参*toppings，但不管调用语句提供多少实参，这个形参都将它们收入囊中\n",
    "\n",
    "def make_pizza(*toppings):\n",
    "    # 星号让Python创建一个名为toppings的空元组，将所有收到的值都封装到这个元组中 - 元组：4.5章\n",
    "    \"\"\"打印顾客的所有配料\"\"\"\n",
    "    print('\\nMaking a pizza with the following toppings:')\n",
    "    for topping in toppings:\n",
    "        print('- ' + topping)\n",
    "    \n",
    "make_pizza('pepperoni')\n",
    "make_pizza('mushrooms','green peppers','extra cheese')"
   ]
  },
  {
   "cell_type": "code",
   "execution_count": 45,
   "metadata": {},
   "outputs": [
    {
     "name": "stdout",
     "output_type": "stream",
     "text": [
      "\n",
      "Making a 16-inch pizza with the following toppings:\n",
      "- pepperoni\n",
      "\n",
      "Making a 12-inch pizza with the following toppings:\n",
      "- mushrooms\n",
      "- green peppers\n",
      "- extra cheese\n"
     ]
    }
   ],
   "source": [
    "# pizza.py\n",
    "# 1-结合使用位置实参和任意数量实参\n",
    "\n",
    "# 需要将接纳任意数量实参的形参放在最后 - 先匹配位置实参和关键字实参，再将余下的实参都收集到最后一个形参中\n",
    "\n",
    "# \n",
    "def make_pizza(size, *toppings):\n",
    "    # 收到的第一个值存储在size中，其他所有值都存储在元组topping中\n",
    "    \"\"\"概述要制作的比萨\"\"\"\n",
    "    print('\\nMaking a ' + str(size) + \n",
    "         '-inch pizza with the following toppings:')\n",
    "    for topping in toppings:\n",
    "        print('- ' + topping)\n",
    "        \n",
    "make_pizza(16, 'pepperoni')\n",
    "make_pizza(12, 'mushrooms','green peppers','extra cheese')"
   ]
  },
  {
   "cell_type": "code",
   "execution_count": 47,
   "metadata": {},
   "outputs": [
    {
     "name": "stdout",
     "output_type": "stream",
     "text": [
      "{'first_name': 'albert', 'field': 'physics', 'last_name': 'einstein', 'location': 'princeton'}\n"
     ]
    }
   ],
   "source": [
    "# user_profile.py\n",
    "# 2-使用任意数量的关键字实参\n",
    "# 要求：接受任意数量的实参，并且预先不知道传递给函数的会是什么样的信息\n",
    "# 思路：这种情况下，可将函数编写成能够接受任意数量的'键-值'对 - 调用语句提供了多少就接受多少\n",
    "\n",
    "# 创建用户简介：将收到有关用户的信息，但不确定会是什么样的信息\n",
    "def build_profile(first, last, **user_info):\n",
    "    # 函数定义要求提供名和姓，同时运行用户根据需要提供任意数量的名称-值对\n",
    "    # 形参**user_info中的两个星号创建一个名为user_info的空字典，并将收到的所有名称-值对都封装到这个字典中\n",
    "    # 列表：[]  字典：{键:值, ... ,}\n",
    "    \n",
    "    \"\"\"创建一个字典，其中包含我们知道的有关用户的一切\"\"\"\n",
    "    profile = {}\n",
    "    profile['first_name'] = first\n",
    "    profile['last_name'] = last\n",
    "    for key, value in user_info.items(): # 遍历字典user_info中的键-值对，并将每个键-值加入到字典profile中\n",
    "        profile[key] = value\n",
    "    return profile\n",
    "    \n",
    "user_profile = build_profile('albert', 'einstein',\n",
    "                            location='princeton',  # 注意这里的实参写法：关键字实参赋值方式\n",
    "                            field='physics')\n",
    "print(user_profile)"
   ]
  },
  {
   "cell_type": "markdown",
   "metadata": {},
   "source": [
    "## 8.6 将函数存储在模块中\n",
    "\n",
    "### 函数的优点之一：将代码块与主程序分离，通过给函数指定描述性名称，让主程序容易理解得多\n",
    "### 进一步 - 将函数存储在称为 '模块' 的独立文件中，再将模块 “导入” 到主程序中 - import"
   ]
  },
  {
   "cell_type": "markdown",
   "metadata": {},
   "source": [
    "### 1-导入整个模块\n",
    "\n",
    "#### 模块：扩展名.py，包含要导入到程序中的代码\n",
    "#### 格式：module_name.function_name()\n",
    "\n",
    "\n",
    "* #### pizza.py: make_pizza模块\n",
    "* #### making_pizza.py: 调用以上文件中的模块\n",
    "（两个py文件放在同一目录..这里jupyter notebook仿真的效果不知道有几分）"
   ]
  },
  {
   "cell_type": "code",
   "execution_count": 50,
   "metadata": {},
   "outputs": [],
   "source": [
    "# pizza.py\n",
    "# 包含模块make_pizza\n",
    "\n",
    "def make_pizza(size, *toppings):\n",
    "    \"\"\"概述要制作的比萨\"\"\"\n",
    "    print('\\nMaking a ' + str(size) +\n",
    "         '-inch pizza with the following toppings:')\n",
    "    for topping in toppings:\n",
    "        print('- ' + topping)"
   ]
  },
  {
   "cell_type": "code",
   "execution_count": 51,
   "metadata": {},
   "outputs": [
    {
     "name": "stdout",
     "output_type": "stream",
     "text": [
      "{'first_name': 'albert', 'field': 'physics', 'last_name': 'einstein', 'location': 'princeton'}\n"
     ]
    }
   ],
   "source": [
    "\"\"\"\n",
    "\n",
    "######  测试：说明此笔记本中的所有代码块都相当于同一个文件中的 - 这里就假装一下算了... #######\n",
    "\n",
    "\"\"\"\n",
    "\n",
    "print(user_profile)"
   ]
  },
  {
   "cell_type": "code",
   "execution_count": 53,
   "metadata": {},
   "outputs": [
    {
     "name": "stdout",
     "output_type": "stream",
     "text": [
      "\n",
      "Making a 16-inch pizza with the following toppings:\n",
      "- pepperoni\n",
      "\n",
      "Making a 12-inch pizza with the following toppings:\n",
      "- mushrooms\n",
      "- green peppers\n",
      "- extra cheese\n"
     ]
    }
   ],
   "source": [
    "# making_pizza.py\n",
    "# 1-导入整个模块\n",
    "\n",
    "# 模块文件和调用该模块的两个py文件放在同一目录.. 否则报错\n",
    "# 故在本文件所在目录手动创建一个pizza.py文件，执行，不报错，bingo\n",
    "\n",
    "import pizza # ImportError: No module named 'pizza'\n",
    "    # import pizza打开文件pizza.py，并将其中的所有函数都复制到这个程序中（幕后执行）\n",
    "    # 导入后，在making_pizza.py中，可以使用pizza.py中定义的所有函数\n",
    "\n",
    "# 调用被导入模块中的函数：指定导入模块（文件名）的名称pizza和函数名making_pizza()，并用句点连接\n",
    "\n",
    "# 格式：\n",
    "# module_name.function_name()\n",
    "pizza.make_pizza(16, 'pepperoni')\n",
    "pizza.make_pizza(12, 'mushrooms','green peppers','extra cheese')"
   ]
  },
  {
   "cell_type": "markdown",
   "metadata": {},
   "source": [
    "### 2-导入特定的函数\n",
    "\n",
    "#### 格式：from module_name import function_name\n",
    "#### 格式（导入任意数量的函数，逗号分隔函数名）：from module_name import function_0, function_1, function_2"
   ]
  },
  {
   "cell_type": "code",
   "execution_count": 55,
   "metadata": {},
   "outputs": [
    {
     "name": "stdout",
     "output_type": "stream",
     "text": [
      "\n",
      "Making a 16-inch pizza with the following toppings:\n",
      "- pepperoni\n",
      "\n",
      "Making a 12-inch pizza with the following toppings:\n",
      "- mushrooms\n",
      "- green peppers\n",
      "- extra cheese\n"
     ]
    }
   ],
   "source": [
    "# making_pizza.py\n",
    "# 2-导入特定的函数\n",
    "\n",
    "# 格式：\n",
    "# from module_name import function_0, function_1, function_2\n",
    "from pizza import make_pizza\n",
    "\n",
    "# 这种情况下，调用函数时无需使用句点，只需要指定其名称\n",
    "make_pizza(16, 'pepperoni')\n",
    "make_pizza(12, 'mushrooms', 'green peppers', 'extra cheese')"
   ]
  },
  {
   "cell_type": "markdown",
   "metadata": {},
   "source": [
    "### 3-使用as给函数指定别名\n",
    "\n",
    "#### 格式：from module_name import function_name as fn"
   ]
  },
  {
   "cell_type": "code",
   "execution_count": 56,
   "metadata": {},
   "outputs": [
    {
     "name": "stdout",
     "output_type": "stream",
     "text": [
      "\n",
      "Making a 16-inch pizza with the following toppings:\n",
      "- pepperoni\n",
      "\n",
      "Making a 12-inch pizza with the following toppings:\n",
      "- mushrooms\n",
      "- green peppers\n",
      "- extra cheese\n"
     ]
    }
   ],
   "source": [
    "# making_pizza.py\n",
    "# 3-使用as给函数指定别名\n",
    "\n",
    "# 格式：from module_name import function_name as fn\n",
    "from pizza import make_pizza as mp\n",
    "\n",
    "mp(16, 'pepperoni')\n",
    "mp(12, 'mushrooms','green peppers','extra cheese')"
   ]
  },
  {
   "cell_type": "markdown",
   "metadata": {},
   "source": [
    "### 4-使用as给模块指定别名\n",
    "\n",
    "#### 格式：import module_name as mn"
   ]
  },
  {
   "cell_type": "code",
   "execution_count": 57,
   "metadata": {},
   "outputs": [
    {
     "name": "stdout",
     "output_type": "stream",
     "text": [
      "\n",
      "Making a 16-inch pizza with the following toppings:\n",
      "- pepperoni\n",
      "\n",
      "Making a 12-inch pizza with the following toppings:\n",
      "- mushrooms\n",
      "- green peppers\n",
      "- extra cheese\n"
     ]
    }
   ],
   "source": [
    "# making_pizza.py\n",
    "# 4-使用as给模块指定别名\n",
    "\n",
    "# 格式：import module_name as mn\n",
    "import pizza as p\n",
    "\n",
    "p.make_pizza(16, 'pepperoni')\n",
    "p.make_pizza(12, 'mushrooms','green peppers','extra cheese')"
   ]
  },
  {
   "cell_type": "markdown",
   "metadata": {},
   "source": [
    "### 5-导入模块中的所有函数\n",
    "\n",
    "#### 格式：from module_name import *\n",
    "#### 星号（*）可以导入模块中的所有函数，调用时无需使用句点表示法\n",
    "#### 使用并非自己编写的大型模块时，最好不要采用这种导入方法：\n",
    "#### 如果模块中有函数的名称与你的项目中使用的名称相同，可能覆盖，而不是分别导入所有的函数\n",
    "（此处只介绍方法，方便在阅读代码时知道在做什么，但自己写代码时不建议使用）"
   ]
  },
  {
   "cell_type": "code",
   "execution_count": 58,
   "metadata": {},
   "outputs": [
    {
     "name": "stdout",
     "output_type": "stream",
     "text": [
      "\n",
      "Making a 16-inch pizza with the following toppings:\n",
      "- pepperoni\n",
      "\n",
      "Making a 12-inch pizza with the following toppings:\n",
      "- mushrooms\n",
      "- green peppers\n",
      "- extra cheese\n"
     ]
    }
   ],
   "source": [
    "# making_pizza.py\n",
    "# 5-导入模块中的所有函数\n",
    "\n",
    "# import语句中的星号将模块中的每个函数都复制到这个程序文件中\n",
    "# 格式：from module_name import *\n",
    "\n",
    "from pizza import *\n",
    "\n",
    "# 由于导入了每个函数，可通过名称来调用每个函数，而无需使用句点\n",
    "make_pizza(16, 'pepperoni')\n",
    "make_pizza(12, 'mushrooms','green peppers','extra cheese')"
   ]
  },
  {
   "cell_type": "markdown",
   "metadata": {},
   "source": [
    "## 8.7 函数编写指南"
   ]
  },
  {
   "cell_type": "markdown",
   "metadata": {},
   "source": [
    "### 1-函数名：描述性，且只使用小写字母和下划线（模块名同）\n",
    "### 2-注释：紧跟在定义后，简要阐述功能，并采用文档字符串格式（三引号）\n",
    "### 3-形参指定默认值时，等号两边不要有空格\n",
    "### 4-函数调用中的关键字实参，等号使用同上一条\n",
    "### 5-每一行长度不超过79字符\n",
    "    -> 形参很多，导致函数定义长度超过时，在函数定义中输入左括号，回车，并在下一行按两次Tab键，将形参列表和只缩进一层的函数体区分开\n",
    "### 6-程序包含多个函数时，可使用两个空行将相邻的函数分开，这样更容易看清楚\n",
    "### 7-所有的import语句都应放在文件开头，唯一例外的情形是，在文件开头使用注释来描述整个程序时"
   ]
  },
  {
   "cell_type": "code",
   "execution_count": 59,
   "metadata": {},
   "outputs": [
    {
     "ename": "SyntaxError",
     "evalue": "invalid syntax (<ipython-input-59-b43c93226457>, line 4)",
     "output_type": "error",
     "traceback": [
      "\u001b[1;36m  File \u001b[1;32m\"<ipython-input-59-b43c93226457>\"\u001b[1;36m, line \u001b[1;32m4\u001b[0m\n\u001b[1;33m    def function_name(parameter_0, parameter_1='default value')\u001b[0m\n\u001b[1;37m                                                               ^\u001b[0m\n\u001b[1;31mSyntaxError\u001b[0m\u001b[1;31m:\u001b[0m invalid syntax\n"
     ]
    }
   ],
   "source": [
    "# 本小节的部分对应例子\n",
    "\n",
    "# 3-形参等号\n",
    "def function_name(parameter_0, parameter_1='default value')\n",
    "\n",
    "# 4-关键字实参等号\n",
    "function_name(value_0, parameter_1='value')\n",
    "\n",
    "# 5-函数定义的形参太多导致一行过长时：\n",
    "def function_name(\n",
    "        parameter_0, parameter_1,parameter_2, # 两次Tab键，与楼下的函数体区别\n",
    "        parameter_3, parameter_4,parameter_5):\n",
    "    function body... # 此处是只有一个Tab键空格的函数体"
   ]
  },
  {
   "cell_type": "markdown",
   "metadata": {},
   "source": [
    "# 第九章 类"
   ]
  },
  {
   "cell_type": "markdown",
   "metadata": {},
   "source": [
    "## 9.1 创建和使用类\n",
    "\n",
    "### 使用类几乎可以模拟任何东西，之后可用类来创建特定的实例"
   ]
  },
  {
   "cell_type": "code",
   "execution_count": 3,
   "metadata": {},
   "outputs": [
    {
     "name": "stdout",
     "output_type": "stream",
     "text": [
      "My dog's name is Willie.\n",
      "My dog is 6 years old.\n",
      "Willie is now sitting.\n",
      "Willie rolled over!\n",
      "\n",
      "Your dog's name is Lucy.\n",
      "Your dog is 3 years old.\n",
      "Lucy is now sitting.\n"
     ]
    }
   ],
   "source": [
    "# dog.py\n",
    "# 两项信息（名字和年龄），两种行为（蹲下和打滚）\n",
    "# __init__():开头和结尾各有两个下划线\n",
    "\n",
    "\n",
    "\n",
    "# 1-创建Dog类：\n",
    "class Dog(): # 定义Dog类 \n",
    "             # Python中首字母大写的名称是类\n",
    "        \n",
    "    \"\"\"一次模拟小狗的简单尝试\"\"\"\n",
    "    \n",
    "    # 类中的函数称为方法\n",
    "    # 与前面函数相比，唯一重要的差别是调用方法的方式。\n",
    "    \n",
    "    # __init_():一个特殊的方法，每当根据Dog类创建新实例时，Python都会自动运行它\n",
    "    # 开头和末尾各两个下划线，这是一种约定，避免Python默认的方法与普通方法发生名称冲突\n",
    "    \n",
    "    def __init__(self, name, age):\n",
    "        # self形参必不可少，必须位于其他形参前面\n",
    "        # Python调用这个__init__()方法创建Dog实例时，将自动传入实参self\n",
    "        # 每个与类相关联的方法调用都自动传递实参self，它是一个指向实例本身的引用，让实例能够访问类中的属性和方法\n",
    "        # self自动传递，因此我们不需要传递它，只需要给最后两个形参name和age提供值\n",
    "        \n",
    "        \"\"\"初始化属性name和age\"\"\"\n",
    "        # 以self为前缀的变量都可供类中的所有方法使用，还可以通过类的任何实例来访问这些变量\n",
    "        # 像这样可通过实例访问的变量称为属性\n",
    "        self.name = name\n",
    "        self.age = age\n",
    "        \n",
    "    def sit(self):\n",
    "        \"\"\"模拟小狗被命令时蹲下\"\"\"\n",
    "        print(self.name.title() + ' is now sitting.')\n",
    "        \n",
    "    def roll_over(self):\n",
    "        \"\"\"模拟小狗被命令时打滚\"\"\"\n",
    "        print(self.name.title() + ' rolled over!')\n",
    "        \n",
    "        \n",
    "        \n",
    "# 2-根据类创建实例\n",
    "# 可将类视为有关如何创建实例的说明\n",
    "\n",
    "# 下一行代码：使用实参调用Dog类中的方法__init__()\n",
    "# __init__()方法创建一个表示特定小狗的示例，并使用我们提供的值来设置属性name和age\n",
    "# __init__()并未显式地包含return语句，但Python自动返回一个表示这条小狗的实例，并将这个实例储存在my_dog中\n",
    "# 命名规则：首字母大写（Dog）默认指类，小写默认指根据类创建的实例（my_dog）\n",
    "my_dog = Dog('willie', 6)\n",
    "\n",
    "# 访问属性：句点表示法\n",
    "print(\"My dog's name is \" + my_dog.name.title() + '.')\n",
    "print(\"My dog is \" + str(my_dog.age) + ' years old.')\n",
    "\n",
    "# 调用方法：句点表示法-指定实例名称和要调用的方法，并用句点分隔它们\n",
    "my_dog.sit()\n",
    "my_dog.roll_over()\n",
    "\n",
    "\n",
    "\n",
    "# 3-创建多个实例\n",
    "# 创建多个实例时，每个小狗都是一个独立的实例，有自己的一组属性，能够执行相同的操作\n",
    "# 就算第二条小狗指定了同样的名字和年龄，依然根据Dog类创建另一个实例\n",
    "# 可按需根据一个类创建任意数量的实例，条件是将每个实例都存储在不同的变量中，或占用列表或字典的不同位置\n",
    "your_dog = Dog('lucy', 3)\n",
    "print(\"\\nYour dog's name is \" + your_dog.name.title() + '.')\n",
    "print('Your dog is ' + str(your_dog.age) + \" years old.\")\n",
    "your_dog.sit()"
   ]
  },
  {
   "cell_type": "markdown",
   "metadata": {},
   "source": [
    "## 9.2 使用类和实例\n",
    "\n",
    "### 类编写好后，大部分时间将花在使用根据类创建的实例上\n",
    "### 一个重要任务是修改实例的属性，可以直接修改，也可以编写方法以特定的方式进行修改"
   ]
  },
  {
   "cell_type": "code",
   "execution_count": 12,
   "metadata": {},
   "outputs": [
    {
     "name": "stdout",
     "output_type": "stream",
     "text": [
      "2016 Audi A4\n",
      "This car has 0 miles on it.\n",
      "This car has 23 miles on it.\n",
      "This car has 45 miles on it.\n",
      "\n",
      "\n",
      "2013 Subaru Outback\n",
      "This car has 23500 miles on it.\n",
      "This car has 23600 miles on it.\n"
     ]
    }
   ],
   "source": [
    "# car.py\n",
    "\n",
    "\n",
    "# 1-car类\n",
    "# 编写一个表示汽车的类，存储有关汽车的信息，以及一个汇总这些信息的方法：\n",
    "class Car():\n",
    "    \"\"\"一次模拟汽车的简单尝试\"\"\"\n",
    "    \n",
    "    def __init__(self, make, model, year): \n",
    "        # 指定制造商、型号和生产年份\n",
    "        \"\"\"初始化描述汽车的属性\"\"\"\n",
    "        self.make = make\n",
    "        self.model = model\n",
    "        self.year = year\n",
    "        \n",
    "        # 类中的每个属性都必须有初始值，哪怕这个值是0或空字符\n",
    "        # 如设置默认值，可在方法__init__()内指定这种初始值。如果这样做了，就无需包含为它提供初始值的形参了~~\n",
    "        self.odometer_reading = 0\n",
    "        \n",
    "    def get_descriptive_name(self):\n",
    "        \"\"\"返回整洁的描述信息\"\"\"\n",
    "        long_name = str(self.year) + \" \" + self.make + ' ' + self.model\n",
    "        return long_name.title()\n",
    "    \n",
    "    \n",
    "    \n",
    "    # 2-给属性指定默认值\n",
    "    def read_odometer(self):\n",
    "        \"\"\"打印一条指出汽车里程的消息\"\"\"\n",
    "        print('This car has ' + str(self.odometer_reading) + \" miles on it.\")\n",
    "        \n",
    "        \n",
    "        \n",
    "    # 3-修改属性的值\n",
    "    # 三种方法：直接通过实例修改；通过方法进行设置；通过方法进行递增（增加特定的值）\n",
    "    \n",
    "    \n",
    "    # 法二：通过方法修改属性的值\n",
    "    # 有替你更新属性的方法，就无需直接访问属性，而将值传递给一个方法，由它在内部进行更新\n",
    "    def update_odometer(self, mileage):\n",
    "        \"\"\"\n",
    "        将里程表读数设置为指定的值\n",
    "        禁止将里程表读数往回调\n",
    "        否则指出不能将里程表往回拨\n",
    "        \"\"\"\n",
    "        if mileage >= self.odometer_reading:\n",
    "            self.odometer_reading = mileage\n",
    "        else:\n",
    "            print(\"You can't roll back an odometer!\")\n",
    "            \n",
    "            \n",
    "    # 法三：通过方法对属性的值进行递增\n",
    "    def increment_odometer(self,miles):\n",
    "        \"\"\"将里程表读数增加指定的量\"\"\"\n",
    "        self.odometer_reading += miles\n",
    "\n",
    "        \n",
    "        \n",
    "my_new_car = Car('audi','a4',2016)\n",
    "print(my_new_car.get_descriptive_name())\n",
    "\n",
    "\n",
    "\n",
    "# 2-指定默认值\n",
    "my_new_car.read_odometer()\n",
    "\n",
    "\n",
    "\n",
    "# 法一：直接修改属性的值\n",
    "# 通过实例直接访问它\n",
    "# 使用句点表示法直接访问并设置汽车的属性odometer_reading\n",
    "my_new_car.odometer_reading = 23\n",
    "my_new_car.read_odometer()\n",
    "\n",
    "\n",
    "\n",
    "# 法二：通过方法更新属性的值\n",
    "my_new_car.update_odometer(45)\n",
    "my_new_car.read_odometer()\n",
    "\n",
    "\n",
    "\n",
    "# 法三：通过方法对属性的值进行递增\n",
    "print('\\n')\n",
    "my_used_car = Car('subaru', 'outback', 2013)\n",
    "print(my_used_car.get_descriptive_name())\n",
    "\n",
    "my_used_car.update_odometer(23500)\n",
    "my_used_car.read_odometer()\n",
    "\n",
    "my_used_car.increment_odometer(100)\n",
    "my_used_car.read_odometer()"
   ]
  },
  {
   "cell_type": "markdown",
   "metadata": {},
   "source": [
    "## 9.3 继承\n",
    "\n",
    "### 当编写的类是另一个现成类的特殊版本，可使用继承\n",
    "\n",
    "### 一个类继承另一个类时，将自动获得另一个类的所有属性和方法\n",
    "### 原有的类-父类；新类-子类\n",
    "### 子类继承了其父类的所有属性和方法，同时还可以定义自己的属性和方法"
   ]
  },
  {
   "cell_type": "code",
   "execution_count": 14,
   "metadata": {},
   "outputs": [
    {
     "name": "stdout",
     "output_type": "stream",
     "text": [
      "2016 Tesla Model S\n",
      "This car has a 70-kWh battery.\n"
     ]
    }
   ],
   "source": [
    "# electric_car.py\n",
    "\n",
    "\n",
    "# 1-子类的方法__init__()\n",
    "# 创建子类的实例时，首先需要给父类的所有属性赋值\n",
    "\n",
    "\n",
    "# 模拟电动汽车-在创建Car类的基础上，创建新的类ElectricCar，这样就只需为电动汽车特有的属性和行为编写代码\n",
    "class Car():\n",
    "    \n",
    "    # 创建子类时，父类必须包含在当前文件中，且位于子类前面\n",
    "    # 方法__init__()接收创建Car实例所需的信息\n",
    "    \n",
    "    \"\"\"一次模拟汽车的简单尝试\"\"\"\n",
    "    \n",
    "    def __init__(self, make, model, year):\n",
    "        self.make = make\n",
    "        self.model = model\n",
    "        self.year = year\n",
    "        self.odometer_reading = 0\n",
    "        \n",
    "    def get_descriptive_name(self):\n",
    "        long_name = str(self.year) + ' ' + self.make + ' ' + self.model\n",
    "        return long_name.title()\n",
    "    \n",
    "    def update_odometer(self, mileage):\n",
    "        if mileage >= self.odometer_reading:\n",
    "            self.odometer_reading = mileage\n",
    "        else:\n",
    "            print(\"You can't roll back an odometer!\")\n",
    "            \n",
    "    def increment_odometer(self, miles):\n",
    "        self.odometer_reading += miles\n",
    "    \n",
    "    \n",
    "        \n",
    "class ElectricCar(Car):\n",
    "    # 定义子类时，必须在括号内指定父类的名称\n",
    "\n",
    "    \"\"\"\n",
    "    电动汽车的独特之处\n",
    "    初始化父类的属性，再初始化电动汽车特有的属性\n",
    "    \"\"\"\n",
    "    \n",
    "    def __init__(self, make, model, year):\n",
    "        \"\"\"初始化父类的属性，再初始化电动汽车特有的属性\"\"\"\n",
    "        \n",
    "        # super()-一个特殊函数，帮助将父类和子类关联起来。\n",
    "        # 这行代码调用ElectricCar的父类方法__init__()，让子类实例包含父类的所有属性\n",
    "        # 父类也称为超类（superclass），名称super由此得名\n",
    "        super().__init__(make, model, year)\n",
    "        \n",
    "        \n",
    "        \n",
    "        # 2-给子类定义属性和方法\n",
    "        self.battery_size = 70\n",
    "        \n",
    "    def describe_battery(self):\n",
    "        \"\"\"打印一条描述电瓶容量的消息\"\"\"\n",
    "        print(\"This car has a \" + str(self.battery_size) + '-kWh battery.')\n",
    "        \n",
    "        \n",
    "        \n",
    "        \n",
    "    # 3-重写父类的方法\n",
    "    def fill_gas_tank():\n",
    "        \"\"\"电动汽车没有油箱\"\"\"\n",
    "        print(\"This car doesn't need a gas tank!\")\n",
    "        \n",
    "        \n",
    "\n",
    "my_tesla = ElectricCar('tesla', 'model s', 2016)\n",
    "print(my_tesla.get_descriptive_name())\n",
    "\n",
    "\n",
    "\n",
    "# 2-给子类定义属性和方法\n",
    "my_tesla.describe_battery()"
   ]
  },
  {
   "cell_type": "code",
   "execution_count": 16,
   "metadata": {},
   "outputs": [
    {
     "name": "stdout",
     "output_type": "stream",
     "text": [
      "2016 Tesla Model S\n",
      "This car has a 70-kWh battery.\n",
      "This car can go approximately 240 miles on a full charge.\n"
     ]
    }
   ],
   "source": [
    "# electric_car.py\n",
    "# 4-将实例用作属性\n",
    "\n",
    "\n",
    "# 当给一个类添加的细节越来越多，属性和方法的清单以及文件都越来越长\n",
    "# 这时，可能需要将类的一部分作为一个独立的类提取出来\n",
    "# 例如battery，放到另一个名为Battery的类中，并将一个Battery实例用作ElectricCar类的一个属性\n",
    "\n",
    "\n",
    "\n",
    "class Car():   \n",
    "    \"\"\"一次模拟汽车的简单尝试\"\"\"\n",
    "    \n",
    "    def __init__(self, make, model, year):\n",
    "        self.make = make\n",
    "        self.model = model\n",
    "        self.year = year\n",
    "        self.odometer_reading = 0\n",
    "        \n",
    "    def get_descriptive_name(self):\n",
    "        long_name = str(self.year) + ' ' + self.make + ' ' + self.model\n",
    "        return long_name.title()\n",
    "    \n",
    "    def read_odometer(self):\n",
    "        print('This car has ' + str(self.odometer_reading) + ' miles on it.')\n",
    "    \n",
    "    def update_odometer(self, mileage):\n",
    "        if mileage >= self.odometer_reading:\n",
    "            self.odometer_reading = mileage\n",
    "        else:\n",
    "            print(\"You can't roll back an odometer!\")\n",
    "            \n",
    "    def increment_odometer(self, miles):\n",
    "        self.odometer_reading += miles\n",
    "    \n",
    "\n",
    "    \n",
    "class Battery():\n",
    "    \"\"\"一个模拟电动汽车的简单尝试\"\"\"\n",
    "    \n",
    "    def __init__(self, battery_size=70):\n",
    "        \"\"\"初始化电瓶的属性\"\"\"\n",
    "        self.battery_size = battery_size\n",
    "        \n",
    "    def describe_battery(self):\n",
    "        \"\"\"打印一条描述电瓶容量的消息\"\"\"\n",
    "        print(\"This car has a \" + str(self.battery_size) + '-kWh battery.')\n",
    "    \n",
    "    # 给电池类新加一个功能，而不会搞乱各种东西\n",
    "    def get_range(self):\n",
    "        \"\"\"打印一条消息，指出电瓶的续航里程\"\"\"\n",
    "        if self.battery_size == 70:\n",
    "            range = 240\n",
    "        elif self.battery_size == 85:\n",
    "            range = 270\n",
    "            \n",
    "        message = \"This car can go approximately \" + str(range)\n",
    "        message += \" miles on a full charge.\"\n",
    "        print(message)\n",
    "        \n",
    "        \n",
    "class ElectricCar(Car):\n",
    "    \"\"\"电动汽车的独特之处\"\"\"\n",
    "    \n",
    "    def __init__(self, make, model, year):\n",
    "        \"\"\"\n",
    "        初始化父类的属性，再初始化电动汽车特有的属性        \n",
    "        \"\"\"\n",
    "        super().__init__(make,model,year)\n",
    "        \n",
    "        # 这行代码创建一个新的Batter实例，并将该实例储存在属性self.battery中\n",
    "        # 每当__init__()方法被调用时，都将执行该操作。因此现在每个ElectricCar实例都包含一个自己创建的Battery实例\n",
    "        self.battery = Battery()\n",
    "        \n",
    "        \n",
    "        \n",
    "my_tesla = ElectricCar('tesla','model s',2016)\n",
    "\n",
    "print(my_tesla.get_descriptive_name())\n",
    "\n",
    "\n",
    "# 以下这行代码在实例my_tesla中查找属性battery，并对储存在该属性中的Batter实例调用方法describe_battery()\n",
    "my_tesla.battery.describe_battery()\n",
    "\n",
    "\n",
    "\n",
    "# 电池类的新功能\n",
    "my_tesla.battery.get_range()"
   ]
  },
  {
   "cell_type": "markdown",
   "metadata": {},
   "source": [
    "## 9.4 导入类\n",
    "\n",
    "#### 随着你不断地给类添加功能，文件可能变得很长，即便你妥善地使用了继承亦如此。\n",
    "#### 为遵循Python的总体理念，应让文件尽可能整洁。为在这方面提供帮助，Python允许你将类存储在模块中，然后在主程序中导入所需的模块"
   ]
  },
  {
   "cell_type": "code",
   "execution_count": 24,
   "metadata": {},
   "outputs": [
    {
     "name": "stdout",
     "output_type": "stream",
     "text": [
      "2016 Audi A4\n",
      "This car has 23 miles on it.\n"
     ]
    }
   ],
   "source": [
    "# 1-导入单个类\n",
    "\n",
    "\n",
    "# 将car.py存储为单个模块（单个py文件，import的时候得引用本文件外的独立文件）\n",
    "# car.py同上\n",
    "# 第9章 9.4.1 导入单个类\n",
    "\n",
    "\n",
    "# my_car.py\n",
    "# from car import Car\n",
    "# import打开模块car，并导入其中的Car类。这样就可以使用Car类了，就像它在这个文件中定义一样\n",
    "# 导入类是一种有效的编程方式，通过将这个类移到一个模块中，并导入该模块，依然可以使用其所有功能，但主程序文件变得整洁而易读了\n",
    "\n",
    "my_new_car = Car('audi','a4',2016)\n",
    "print(my_new_car.get_descriptive_name())\n",
    "\n",
    "my_new_car.odometer_reading = 23\n",
    "my_new_car.read_odometer()"
   ]
  },
  {
   "cell_type": "markdown",
   "metadata": {},
   "source": [
    "### 注：\n",
    "* 这里不知道出了什么问题。\n",
    "根据错误‘ImportError: cannot import name 'ElectricCar'’，大部分是循环import了，但是这里我也不清楚了\n",
    "尝试把上一小块里的'from car import Car'注释也没用\n",
    "但是在另外的一个.ipynb里打开以下小段代码就没问题"
   ]
  },
  {
   "cell_type": "markdown",
   "metadata": {},
   "source": [
    "#### 以下报错代码附在另一个ipynb文件- test_94 中"
   ]
  },
  {
   "cell_type": "code",
   "execution_count": 26,
   "metadata": {},
   "outputs": [
    {
     "ename": "ImportError",
     "evalue": "cannot import name 'ElectricCar'",
     "output_type": "error",
     "traceback": [
      "\u001b[1;31m---------------------------------------------------------------------------\u001b[0m",
      "\u001b[1;31mImportError\u001b[0m                               Traceback (most recent call last)",
      "\u001b[1;32m<ipython-input-26-d49247ef781d>\u001b[0m in \u001b[0;36m<module>\u001b[1;34m\u001b[0m\n\u001b[0;32m      8\u001b[0m \u001b[1;33m\u001b[0m\u001b[0m\n\u001b[0;32m      9\u001b[0m \u001b[1;31m# my_electric_car.py\u001b[0m\u001b[1;33m\u001b[0m\u001b[1;33m\u001b[0m\u001b[0m\n\u001b[1;32m---> 10\u001b[1;33m \u001b[1;32mfrom\u001b[0m \u001b[0mcar\u001b[0m \u001b[1;32mimport\u001b[0m \u001b[0mElectricCar\u001b[0m\u001b[1;33m\u001b[0m\u001b[0m\n\u001b[0m\u001b[0;32m     11\u001b[0m \u001b[1;33m\u001b[0m\u001b[0m\n\u001b[0;32m     12\u001b[0m \u001b[0mmy_tesla\u001b[0m \u001b[1;33m=\u001b[0m \u001b[0mElectricCar\u001b[0m\u001b[1;33m(\u001b[0m\u001b[1;34m'tesla'\u001b[0m\u001b[1;33m,\u001b[0m\u001b[1;34m'model s'\u001b[0m\u001b[1;33m,\u001b[0m\u001b[1;36m2016\u001b[0m\u001b[1;33m)\u001b[0m\u001b[1;33m\u001b[0m\u001b[0m\n",
      "\u001b[1;31mImportError\u001b[0m: cannot import name 'ElectricCar'"
     ]
    }
   ],
   "source": [
    "# 2-在一个模块中存储多个类\n",
    "\n",
    "# 可根据需要在一个模块中存储任意数量的类\n",
    "# 类Battery和ElectricCar都可以帮助模拟汽车，可加入car.py中\n",
    "\n",
    "\n",
    "\n",
    "\n",
    "# my_electric_car.py\n",
    "from car import ElectricCar\n",
    "\n",
    "my_tesla = ElectricCar('tesla','model s',2016)\n",
    " \n",
    "print(my_tesla.get_descriptive_name())\n",
    "my_tesla.battery.describe_battery()\n",
    "my_tesla.battery.get_range()\n",
    "\n",
    "# 注：这段代码在另一个ipynb文件里运行正常\n",
    "# 运行结果如下：\n",
    "# 2016 Tesla Model S\n",
    "# This car has a 70-kWh battery.\n",
    "# This car can go approximately 240 miles on a full charge."
   ]
  },
  {
   "cell_type": "code",
   "execution_count": 27,
   "metadata": {},
   "outputs": [
    {
     "ename": "ImportError",
     "evalue": "cannot import name 'ElectricCar'",
     "output_type": "error",
     "traceback": [
      "\u001b[1;31m---------------------------------------------------------------------------\u001b[0m",
      "\u001b[1;31mImportError\u001b[0m                               Traceback (most recent call last)",
      "\u001b[1;32m<ipython-input-27-28e9a4db0d53>\u001b[0m in \u001b[0;36m<module>\u001b[1;34m\u001b[0m\n\u001b[0;32m      5\u001b[0m \u001b[1;33m\u001b[0m\u001b[0m\n\u001b[0;32m      6\u001b[0m \u001b[1;31m# my_cars.py\u001b[0m\u001b[1;33m\u001b[0m\u001b[1;33m\u001b[0m\u001b[0m\n\u001b[1;32m----> 7\u001b[1;33m \u001b[1;32mfrom\u001b[0m \u001b[0mcar\u001b[0m \u001b[1;32mimport\u001b[0m \u001b[0mCar\u001b[0m\u001b[1;33m,\u001b[0m \u001b[0mElectricCar\u001b[0m\u001b[1;33m\u001b[0m\u001b[0m\n\u001b[0m\u001b[0;32m      8\u001b[0m \u001b[0mmy_beetle\u001b[0m \u001b[1;33m=\u001b[0m \u001b[0mCar\u001b[0m\u001b[1;33m(\u001b[0m\u001b[1;34m'volkswagen'\u001b[0m\u001b[1;33m,\u001b[0m\u001b[1;34m'beetle'\u001b[0m\u001b[1;33m,\u001b[0m\u001b[1;36m2016\u001b[0m\u001b[1;33m)\u001b[0m\u001b[1;33m\u001b[0m\u001b[0m\n\u001b[0;32m      9\u001b[0m \u001b[0mprint\u001b[0m\u001b[1;33m(\u001b[0m\u001b[0mmy_beetle\u001b[0m\u001b[1;33m.\u001b[0m\u001b[0mget_descriptive_name\u001b[0m\u001b[1;33m(\u001b[0m\u001b[1;33m)\u001b[0m\u001b[1;33m)\u001b[0m\u001b[1;33m\u001b[0m\u001b[0m\n",
      "\u001b[1;31mImportError\u001b[0m: cannot import name 'ElectricCar'"
     ]
    }
   ],
   "source": [
    "# 3-从一个模块中导入多个类\n",
    "\n",
    "\n",
    "# 如果要在同一个程序中创建普通汽车和电动汽车，就需要将Car和ElectricCar类都导入\n",
    "\n",
    "# my_cars.py\n",
    "from car import Car, ElectricCar\n",
    "my_beetle = Car('volkswagen','beetle',2016)\n",
    "print(my_beetle.get_descriptive_name())\n",
    "\n",
    "my_tesla = ElectricCar('tesla','roadster',2016)\n",
    "print(my_tesla.get_descriptive_name())\n",
    "\n",
    "# 注：这段代码在另一个ipynb文件里运行正常\n",
    "# 运行结果如下：\n",
    "# 2016 Volkswagen Beetle\n",
    "# 2016 Tesla Roadster"
   ]
  },
  {
   "cell_type": "code",
   "execution_count": 28,
   "metadata": {},
   "outputs": [
    {
     "name": "stdout",
     "output_type": "stream",
     "text": [
      "2016 Volkswagen Beetle\n"
     ]
    },
    {
     "ename": "AttributeError",
     "evalue": "module 'car' has no attribute 'ElectricCar'",
     "output_type": "error",
     "traceback": [
      "\u001b[1;31m---------------------------------------------------------------------------\u001b[0m",
      "\u001b[1;31mAttributeError\u001b[0m                            Traceback (most recent call last)",
      "\u001b[1;32m<ipython-input-28-f1dfdbaa6530>\u001b[0m in \u001b[0;36m<module>\u001b[1;34m\u001b[0m\n\u001b[0;32m      8\u001b[0m \u001b[0mprint\u001b[0m\u001b[1;33m(\u001b[0m\u001b[0mmy_beetle\u001b[0m\u001b[1;33m.\u001b[0m\u001b[0mget_descriptive_name\u001b[0m\u001b[1;33m(\u001b[0m\u001b[1;33m)\u001b[0m\u001b[1;33m)\u001b[0m\u001b[1;33m\u001b[0m\u001b[0m\n\u001b[0;32m      9\u001b[0m \u001b[1;33m\u001b[0m\u001b[0m\n\u001b[1;32m---> 10\u001b[1;33m \u001b[0mmy_tesla\u001b[0m \u001b[1;33m=\u001b[0m \u001b[0mcar\u001b[0m\u001b[1;33m.\u001b[0m\u001b[0mElectricCar\u001b[0m\u001b[1;33m(\u001b[0m\u001b[1;34m'tesla'\u001b[0m\u001b[1;33m,\u001b[0m\u001b[1;34m'roadster'\u001b[0m\u001b[1;33m,\u001b[0m\u001b[1;36m2016\u001b[0m\u001b[1;33m)\u001b[0m\u001b[1;33m\u001b[0m\u001b[0m\n\u001b[0m\u001b[0;32m     11\u001b[0m \u001b[0mprint\u001b[0m\u001b[1;33m(\u001b[0m\u001b[0mmy_tesla\u001b[0m\u001b[1;33m.\u001b[0m\u001b[0mget_descriptive_name\u001b[0m\u001b[1;33m)\u001b[0m\u001b[1;33m\u001b[0m\u001b[0m\n",
      "\u001b[1;31mAttributeError\u001b[0m: module 'car' has no attribute 'ElectricCar'"
     ]
    }
   ],
   "source": [
    "# 4-导入整个模块\n",
    "\n",
    "# 导入整个car模块，并创建一辆普通汽车和一辆电动汽车\n",
    "# my_cars.py\n",
    "\n",
    "# 格式：module_name.class_name 访问需要的类\n",
    "\n",
    "import car\n",
    "my_beetle = car.Car('volkswagen','beetle',2016)\n",
    "print(my_beetle.get_descriptive_name())\n",
    "\n",
    "my_tesla = car.ElectricCar('tesla','roadster',2016)\n",
    "print(my_tesla.get_descriptive_name)"
   ]
  },
  {
   "cell_type": "code",
   "execution_count": 29,
   "metadata": {},
   "outputs": [],
   "source": [
    "# 5-导入模块中的所有类\n",
    "# 格式：from module_name import *"
   ]
  },
  {
   "cell_type": "markdown",
   "metadata": {},
   "source": [
    "#### 不推荐使用这种导入方式，其原因有二。\n",
    "\n",
    "* 首先，如果只要看一下文件开头的import 语句，就能清楚地知道程序使用了哪些类，将大有裨益；但这种导入方式没有明确地指出你使用了模块中的哪些类。\n",
    "\n",
    "* 这种导入方式还可能引发名称方面的困惑。如果你不小心导入了一个与程序文件中其他东西同名的类，将引发难以诊断的错误。\n",
    "\n",
    "* 这里之所以介绍这种导入方式，是因为虽然不推荐使用这种方式，但你可能会在别人编写的代码中见到它。\n",
    "\n",
    "\n",
    "* 需要从一个模块中导入很多类时，最好导入整个模块，并使用 module_name.class_name 语法来访问类。\n",
    "\n",
    "* 这样做时，虽然文件开头并没有列出用到的所有类，但你清楚地知道在程序的哪些地方使用了导入的模块；你还避免了导入模块中的每个类可能引发的名称冲突。"
   ]
  },
  {
   "cell_type": "code",
   "execution_count": null,
   "metadata": {},
   "outputs": [],
   "source": [
    "# 6-在一个模块中导入另一个模块\n",
    "# 当有import关系的类分布在不同文件中时\n",
    "\n",
    "# car.py\n",
    "\"\"\"一个可用于表示汽车的类\"\"\"\n",
    "class Car():\n",
    "    --snip--\n",
    "\n",
    "    \n",
    "    \n",
    "# electric_car.py\n",
    "\"\"\"一组可用于表示电动汽车的类\"\"\"\n",
    "from car import Car\n",
    "\n",
    "class Battery():\n",
    "    --snip--\n",
    "    \n",
    "class ElectricCar(Car):\n",
    "    --snip--\n",
    "\n",
    "    \n",
    "    \n",
    "# my_cars.py\n",
    "from car import Car\n",
    "from electric_car import ElectricCar\n",
    "\n",
    "my_beetle = Car('volkswagen', 'beetle', 2016)\n",
    "print(my_beetle.get_descriptive_name())\n",
    "my_tesla = ElectricCar('tesla', 'roadster', 2016)\n",
    "print(my_tesla.get_descriptive_name())\n",
    "\n",
    "# 结果：\n",
    "# 2016 Volkswagen Beetle\n",
    "# 2016 Tesla Roadster"
   ]
  },
  {
   "cell_type": "markdown",
   "metadata": {},
   "source": [
    "#### 注：9.4章后面从报错开始，我已经不知道在搞什么了。。。"
   ]
  },
  {
   "cell_type": "markdown",
   "metadata": {},
   "source": [
    "## 9.5 Python标准库\n",
    "### 简要介绍其他标准库的使用"
   ]
  },
  {
   "cell_type": "markdown",
   "metadata": {},
   "source": [
    "## 9.6 类编码风格"
   ]
  },
  {
   "cell_type": "markdown",
   "metadata": {},
   "source": [
    "你必须熟悉有些与类相关的编码风格问题，在你编写的程序较复杂时尤其如此。\n",
    "\n",
    "类名应采用驼峰命名法 ，即将类名中的每个单词的首字母都大写，而不使用下划线。\n",
    "\n",
    "实例名和模块名都采用小写格式，并在单词之间加上下划线。\n",
    "\n",
    "对于每个类，都应紧跟在类定义后面包含一个文档字符串。这种文档字符串简要地描述类的功能，并遵循编写函数的文档字符串时采用的格式约定。\n",
    "每个模块也都应包含一个文档字符串，对其中的类可用于做什么进行描述。\n",
    "\n",
    "可使用空行来组织代码，但不要滥用。\n",
    "在类中，可使用一个空行来分隔方法；而在模块中，可使用两个空行来分隔类。\n",
    "\n",
    "需要同时导入标准库中的模块和你编写的模块时，先编写导入标准库模块的import 语句，再添加一个空行，然后编写导入你自己编写的模块的import 语句。\n",
    "在包含多条import 语句的程序中，这种做法让人更容易明白程序使用的各个模块都来自何方。"
   ]
  },
  {
   "cell_type": "markdown",
   "metadata": {},
   "source": [
    "# 第十章 文件和异常"
   ]
  },
  {
   "cell_type": "markdown",
   "metadata": {},
   "source": [
    "## 10.1 从文件中读取数据"
   ]
  },
  {
   "cell_type": "markdown",
   "metadata": {},
   "source": [
    "## 10.2 写入文件"
   ]
  },
  {
   "cell_type": "markdown",
   "metadata": {},
   "source": [
    "## 10.3 异常"
   ]
  },
  {
   "cell_type": "markdown",
   "metadata": {},
   "source": [
    "## 10.4 存储数据"
   ]
  },
  {
   "cell_type": "markdown",
   "metadata": {},
   "source": [
    "# 第十一章 测试代码"
   ]
  },
  {
   "cell_type": "markdown",
   "metadata": {},
   "source": [
    "## 11.1 测试函数"
   ]
  },
  {
   "cell_type": "markdown",
   "metadata": {},
   "source": [
    "## 11.2 测试类"
   ]
  }
 ],
 "metadata": {
  "kernelspec": {
   "display_name": "Python 3",
   "language": "python",
   "name": "python3"
  },
  "language_info": {
   "codemirror_mode": {
    "name": "ipython",
    "version": 3
   },
   "file_extension": ".py",
   "mimetype": "text/x-python",
   "name": "python",
   "nbconvert_exporter": "python",
   "pygments_lexer": "ipython3",
   "version": "3.5.6"
  }
 },
 "nbformat": 4,
 "nbformat_minor": 2
}
