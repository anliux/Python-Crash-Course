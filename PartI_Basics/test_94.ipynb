{
 "cells": [
  {
   "cell_type": "code",
   "execution_count": 13,
   "metadata": {},
   "outputs": [
    {
     "name": "stdout",
     "output_type": "stream",
     "text": [
      "2016 Tesla Model S\n",
      "This car has a 70-kWh battery.\n",
      "This car can go approximately 240 miles on a full charge.\n"
     ]
    }
   ],
   "source": [
    "# 9.4.2-在一个模块中存储多个类\n",
    "\n",
    "# 可根据需要在一个模块中存储任意数量的类\n",
    "# 类Battery和ElectricCar都可以帮助模拟汽车，可加入car.py中\n",
    "\n",
    "\n",
    "\n",
    "\n",
    "# my_electric_car.py\n",
    "from car import ElectricCar\n",
    "\n",
    "my_tesla = ElectricCar('tesla','model s',2016)\n",
    "\n",
    "print(my_tesla.get_descriptive_name())\n",
    "my_tesla.battery.describe_battery()\n",
    "my_tesla.battery.get_range()"
   ]
  },
  {
   "cell_type": "code",
   "execution_count": 14,
   "metadata": {},
   "outputs": [
    {
     "name": "stdout",
     "output_type": "stream",
     "text": [
      "2016 Volkswagen Beetle\n",
      "2016 Tesla Roadster\n"
     ]
    }
   ],
   "source": [
    "# 9.4.3-从一个模块中导入多个类\n",
    "\n",
    "\n",
    "# 如果要在同一个程序中创建普通汽车和电动汽车，就需要将Car和ElectricCar类都导入\n",
    "\n",
    "# my_cars.py\n",
    "\n",
    "from car import Car, ElectricCar\n",
    "my_beetle = Car('volkswagen','beetle',2016)\n",
    "print(my_beetle.get_descriptive_name())\n",
    "\n",
    "my_tesla = ElectricCar('tesla','roadster',2016)\n",
    "print(my_tesla.get_descriptive_name())"
   ]
  },
  {
   "cell_type": "code",
   "execution_count": 17,
   "metadata": {},
   "outputs": [
    {
     "name": "stdout",
     "output_type": "stream",
     "text": [
      "2016 Volkswagen Beetle\n",
      "<bound method Car.get_descriptive_name of <car.ElectricCar object at 0x0000000004C14EF0>>\n"
     ]
    }
   ],
   "source": [
    "# 9.4.4-导入整个模块\n",
    "\n",
    "# 导入整个car模块，并创建一辆普通汽车和一辆电动汽车\n",
    "# my_cars.py\n",
    "\n",
    "# 格式：module_name.class_name 访问需要的类\n",
    "\n",
    "import car\n",
    "my_beetle = car.Car('volkswagen','beetle',2016)\n",
    "print(my_beetle.get_descriptive_name())\n",
    "\n",
    "my_tesla = car.ElectricCar('tesla','roadster',2016)\n",
    "print(my_tesla.get_descriptive_name)"
   ]
  }
 ],
 "metadata": {
  "kernelspec": {
   "display_name": "Python 3",
   "language": "python",
   "name": "python3"
  },
  "language_info": {
   "codemirror_mode": {
    "name": "ipython",
    "version": 3
   },
   "file_extension": ".py",
   "mimetype": "text/x-python",
   "name": "python",
   "nbconvert_exporter": "python",
   "pygments_lexer": "ipython3",
   "version": "3.5.6"
  }
 },
 "nbformat": 4,
 "nbformat_minor": 2
}
