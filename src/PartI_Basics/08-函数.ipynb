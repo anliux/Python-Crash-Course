{
 "cells": [
  {
   "cell_type": "markdown",
   "metadata": {},
   "source": [
    "# 第八章 函数\n",
    "\n",
    "知识点：函数定义，函数调用(位置实参，关键字实参)，形参默认值，等效的函数调用(多种方法)，避免实参错误(数量等)，返回值(封装功能、使用默认值来让调用实参可选、返回字典列表等对象，与while循环等结构结合)，传递列表(在函数中修改列表、切片获取列表副本以保留原列表)，传递任意数量实参(与位置实参、关键字实参结合、一个星号任意数量，两个星号空字典)，模块导入(导入整个模块、特定函数、as指定模块或函数名、导入模块中所有函数)，函数编写规则"
   ]
  },
  {
   "cell_type": "markdown",
   "metadata": {},
   "source": [
    "## 8.1 定义函数"
   ]
  },
  {
   "cell_type": "markdown",
   "metadata": {},
   "source": [
    "### 小结：\n",
    "\n",
    "#### 定义函数的格式：def 函数名(参数，有无均可): xx xx ... xx"
   ]
  },
  {
   "cell_type": "code",
   "execution_count": 10,
   "metadata": {},
   "outputs": [
    {
     "name": "stdout",
     "output_type": "stream",
     "text": [
      "Hello!\n",
      "Hello, Jesse!\n",
      "Hello, Sarah!\n"
     ]
    }
   ],
   "source": [
    "# greeter.py\n",
    "\n",
    "def greet_user():\n",
    "    # def 函数名(参数，有无均可):\n",
    "    # 紧跟在后的所有缩进构成了函数体\n",
    "    \n",
    "    \"\"\"显示简单的问候语\"\"\"\n",
    "    # 文档字符串（docstring），描述了函数是做什么的，三引号括起来，生成有关程序中函数的文档\n",
    "    print('Hello!')\n",
    "    \n",
    "greet_user()\n",
    "\n",
    "\n",
    "\n",
    "# 1-向函数传递信息\n",
    "# 在函数定义的括号内添加信息\n",
    "def greet_user(username):\n",
    "    \"\"\"显示带名字的问候语\"\"\"\n",
    "    print('Hello, ' + username.title() + '!')\n",
    "    \n",
    "# 可根据需要调用函数任意次\n",
    "greet_user('jesse')\n",
    "greet_user('sarah')\n",
    "\n",
    "\n",
    "\n",
    "# 2-实参和形参\n",
    "# 实参-调用函数时传递给函数的信息，如 greet_user('jesse') 中的‘jesse’是一个实参\n",
    "# 形参-函数完成其工作所需的一项信息，如定义函数中greet_user(username)中的变量username是一个形参"
   ]
  },
  {
   "cell_type": "markdown",
   "metadata": {},
   "source": [
    "## 8.2 传递实参\n",
    "### 1-位置实参：要求实参的顺序与形参的顺序相同\n",
    "### 2-关键字实参：每个实参都由变量名和值组成\n",
    "### 其他：还可使用列表和字典等..."
   ]
  },
  {
   "cell_type": "markdown",
   "metadata": {},
   "source": [
    "### 小结：\n",
    "\n",
    "#### 主要针对调用函数时，实参的写法：\n",
    "#### 位置实参：基于实参的顺序，根据位置对应函数定义中的各个形参\n",
    "#### 关键字实参：传递给函数的名称-值对，直接在实参中将名称和值关联起来，因此不会混淆，无需考虑位置\n",
    "####  \n",
    "\n",
    "#### 形参默认值：\n",
    "#### 调用函数中提供实参时，使用指定实参值；否则，使用形参的默认值\n",
    "#### 调用：可任选位置实参或关键字实参；形参默认值可简化函数的调用\n",
    "#### 注意：若使用默认值，函数定义时，形参列表先列出没有默认值的，再列出有默认值的，以便正确地解读位置实参\n",
    "####   \n",
    "\n",
    "#### 等效的函数调用：可混合使用位置实参、关键字实参、默认值等\n",
    "#### 避免实参错误：当提供的实参多于或少于函数完成其工作所需的信息时，将出现实参不匹配错误 - 会报错"
   ]
  },
  {
   "cell_type": "code",
   "execution_count": 12,
   "metadata": {},
   "outputs": [
    {
     "name": "stdout",
     "output_type": "stream",
     "text": [
      "\n",
      "I have a hamster.\n",
      "My hamster's name is Harry.\n",
      "\n",
      "I have a dog.\n",
      "My dog's name is Willie.\n"
     ]
    }
   ],
   "source": [
    "# pets.py\n",
    "# 1-位置实参：基于实参的顺序，将函数调用中的每个实参都关联到函数定义中的一个形参\n",
    "\n",
    "# 显示宠物信息 - 指出一个宠物属于哪种动物以及叫什么名字\n",
    "def describe_pet(animal_type, pet_name):\n",
    "    \"\"\"显示宠物信息\"\"\"\n",
    "    # 奇怪，三引号是函数定义专属的吗....\n",
    "    print('\\nI have a ' + animal_type + \".\")\n",
    "    print('My ' + animal_type + \"'s name is \" + pet_name.title() + '.')\n",
    "    \n",
    "describe_pet('hamster', 'harry') # 仓鼠-哈利\n",
    "describe_pet('dog','willie') # 可以调用函数多次"
   ]
  },
  {
   "cell_type": "code",
   "execution_count": 1,
   "metadata": {},
   "outputs": [
    {
     "name": "stdout",
     "output_type": "stream",
     "text": [
      "\n",
      "I have a hamster.\n",
      "My hamster's name is Harry.\n",
      "\n",
      "I have a dog.\n",
      "My dog's name is Willie.\n"
     ]
    }
   ],
   "source": [
    "# pets.py\n",
    "# 2-关键字实参\n",
    "\n",
    "def describe_pet(animal_type, pet_name):\n",
    "    \"\"\"显示宠物的信息\"\"\"\n",
    "    print('\\nI have a ' + animal_type + '.')\n",
    "    print('My ' + animal_type + \"'s name is \" + pet_name.title() + '.')\n",
    "    \n",
    "# 传递给函数的名称-值对，直接在实参中将名称和值关联起来，\n",
    "# 因此向函数传递实参时不会混淆，无需考虑函数调用中的实参顺序，并清楚指出各个值的用途\n",
    "describe_pet(animal_type='hamster', pet_name='harry')\n",
    "describe_pet(pet_name='willie', animal_type='dog') \n",
    "\n",
    "# 注意：使用关键字实参时，务必准确地指定函数定义中的形参名"
   ]
  },
  {
   "cell_type": "code",
   "execution_count": 5,
   "metadata": {},
   "outputs": [
    {
     "name": "stdout",
     "output_type": "stream",
     "text": [
      "\n",
      "I have a dog.\n",
      "My dog's name is Willie.\n",
      "\n",
      "I have a dog.\n",
      "My dog's name is Willie.\n",
      "\n",
      "I have a hamster.\n",
      "My hamster's name is Harry.\n"
     ]
    }
   ],
   "source": [
    "# pets.py\n",
    "# 3-默认值\n",
    "# 给每个形参指定默认值 - 在调用函数中给形参提供了实参时，使用指定的实参值；否则，将使用形参的默认值\n",
    "# 因此，给形参指定默认值后，可在函数调用中省略响应的实参 - 可简化函数调用，还可清楚地指出函数的典型用法\n",
    "\n",
    "# 注意：使用默认值时，在形参列表中必须先列出没有默认值的形参，再列出有默认值的实参，故Python可以正确地解读位置实参\n",
    "\n",
    "# 描述的大都是小狗时，可将形参的默认值设置为'dog'\n",
    "def describe_pet(pet_name, animal_type='dog'): #动物类型默认值设置为dog\n",
    "    \"\"\"显示宠物的信息-含形参默认值时\"\"\"\n",
    "    print('\\nI have a ' + animal_type + '.')\n",
    "    print('My ' + animal_type + \"'s name is \" + pet_name.title() + '.')\n",
    "    \n",
    "describe_pet(pet_name='willie') # 函数调用使用‘关键字实参’\n",
    "\n",
    "# 注意：形参的顺序是先名字后类型，因此当只包含一个实参，依然会被视为位置实参，\n",
    "# 这时这个实参将关联到函数定义中的第一个形参，故名字放在前\n",
    "describe_pet('willie') # 这样也是可行的\n",
    "\n",
    "# 当要描述的动物不是小狗时\n",
    "# 显式地给animal_type提供了实参，因此Python将忽略这个形参的默认值\n",
    "describe_pet(pet_name='harry', animal_type='hamster') "
   ]
  },
  {
   "cell_type": "code",
   "execution_count": 6,
   "metadata": {},
   "outputs": [
    {
     "name": "stdout",
     "output_type": "stream",
     "text": [
      "\n",
      "I have a dog.\n",
      "My dog's name is Willie.\n",
      "\n",
      "I have a dog.\n",
      "My dog's name is Willie.\n",
      "\n",
      "I have a hamster.\n",
      "My hamster's name is Harry.\n",
      "\n",
      "I have a hamster.\n",
      "My hamster's name is Harry.\n",
      "\n",
      "I have a hamster.\n",
      "My hamster's name is Harry.\n"
     ]
    }
   ],
   "source": [
    "# pets.py\n",
    "# 4-等效的函数调用\n",
    "# 鉴于可混合使用位置实参、关键字实参、默认值等，通常有多种等效的函数调用方式\n",
    "\n",
    "def describe_pet(pet_name, animal_type='dog'):\n",
    "    \"\"\"显示宠物的信息-各种调用方法\"\"\"\n",
    "    print('\\nI have a ' + animal_type + '.')\n",
    "    print('My ' + animal_type + \"'s name is \" + pet_name.title() + '.')\n",
    "\n",
    "# 以下是各种调用方式\n",
    "# 基于这种定义，任何情况下都必须给pet_name提供实参\n",
    "# 指定该实参时可以使用位置方式，也可以使用关键字方式\n",
    "# 要描述的动物不是小狗，必须在函数调用中给animal_type提供实参\n",
    "# 指定该实参时，可以使用位置方式，也可以使用关键字方式\n",
    "\n",
    "# 小狗willie\n",
    "describe_pet('willie') # 简化的位置方式\n",
    "describe_pet(pet_name='willie') # 关键字方式\n",
    "\n",
    "# 仓鼠Harry\n",
    "describe_pet('harry', 'hamster') # 位置方式\n",
    "describe_pet(pet_name='harry', animal_type='hamster') # 关键字方式\n",
    "describe_pet(animal_type='hamster', pet_name='harry') # 位置不对应的关键字方式"
   ]
  },
  {
   "cell_type": "code",
   "execution_count": 8,
   "metadata": {},
   "outputs": [
    {
     "ename": "TypeError",
     "evalue": "describe_pet() missing 2 required positional arguments: 'animal_type' and 'pet_name'",
     "output_type": "error",
     "traceback": [
      "\u001b[1;31m---------------------------------------------------------------------------\u001b[0m",
      "\u001b[1;31mTypeError\u001b[0m                                 Traceback (most recent call last)",
      "\u001b[1;32m<ipython-input-8-2d997bd287e8>\u001b[0m in \u001b[0;36m<module>\u001b[1;34m\u001b[0m\n\u001b[0;32m      8\u001b[0m     \u001b[0mprint\u001b[0m\u001b[1;33m(\u001b[0m\u001b[1;34m'My '\u001b[0m \u001b[1;33m+\u001b[0m \u001b[0manimal_type\u001b[0m \u001b[1;33m+\u001b[0m \u001b[1;34m\"'s name is \"\u001b[0m \u001b[1;33m+\u001b[0m \u001b[0mpet_name\u001b[0m\u001b[1;33m.\u001b[0m\u001b[0mtitle\u001b[0m\u001b[1;33m(\u001b[0m\u001b[1;33m)\u001b[0m \u001b[1;33m+\u001b[0m \u001b[1;34m'.'\u001b[0m\u001b[1;33m)\u001b[0m\u001b[1;33m\u001b[0m\u001b[0m\n\u001b[0;32m      9\u001b[0m \u001b[1;33m\u001b[0m\u001b[0m\n\u001b[1;32m---> 10\u001b[1;33m \u001b[0mdescribe_pet\u001b[0m\u001b[1;33m(\u001b[0m\u001b[1;33m)\u001b[0m\u001b[1;33m\u001b[0m\u001b[0m\n\u001b[0m\u001b[0;32m     11\u001b[0m \u001b[1;33m\u001b[0m\u001b[0m\n\u001b[0;32m     12\u001b[0m \u001b[1;31m# 学会读错误提示，并从源程序中找出错误之处\u001b[0m\u001b[1;33m\u001b[0m\u001b[1;33m\u001b[0m\u001b[0m\n",
      "\u001b[1;31mTypeError\u001b[0m: describe_pet() missing 2 required positional arguments: 'animal_type' and 'pet_name'"
     ]
    }
   ],
   "source": [
    "# pets.py\n",
    "# 5-避免实参错误\n",
    "# 当提供的实参多于或少于函数完成其工作所需的信息时，将出现实参不匹配错误 - 会报错\n",
    "\n",
    "def describe_pet(animal_type, pet_name):\n",
    "    \"\"\"显示宠物的信息\"\"\"\n",
    "    print('\\nI have a ' + animal_type + '.')\n",
    "    print('My ' + animal_type + \"'s name is \" + pet_name.title() + '.')\n",
    "    \n",
    "describe_pet()\n",
    "\n",
    "# 学会读错误提示，并从源程序中找出错误之处\n",
    "# 例如提供的实参太多时，错误提示可以帮忙确保函数调用和函数定义匹配"
   ]
  },
  {
   "cell_type": "markdown",
   "metadata": {},
   "source": [
    "## 8.3 返回值\n",
    "\n",
    "### 函数返回的值称为返回值\n",
    "### 返回值让你能够将程序的大部分繁重工作移到函数中去完成，从而简化主程序"
   ]
  },
  {
   "cell_type": "markdown",
   "metadata": {},
   "source": [
    "### 小结：\n",
    "\n",
    "#### 返回值的作用：将繁杂的工作封装到函数，从而简化主程序   \n",
    "#### 格式：a = xxxxxxxx   return a\n",
    "####     \n",
    "\n",
    "#### 使用默认值来让实参变成可选的，使函数调用时，只在必要时才提供额外的信息\n",
    "#### 可选值让函数能够处理各种不同情形的同时，确保函数调用尽可能简单\n",
    "####     \n",
    "\n",
    "#### 函数可返回任何类型的值，包括列表和字典等较复杂的数据结构 \n",
    "#### 格式：z = {} / [] / ... (任意类型，列表、字典等)   return a\n",
    "####    \n",
    "\n",
    "#### 可将函数同任何Python结构结合起来使用：while，if等等\n",
    "#### 如下while嵌套if语句感觉很巧妙\n",
    "#### 格式：while True: xxx if input = q  break.....   if input = q  break..... "
   ]
  },
  {
   "cell_type": "code",
   "execution_count": 9,
   "metadata": {},
   "outputs": [
    {
     "name": "stdout",
     "output_type": "stream",
     "text": [
      "Jimi Hendrix\n"
     ]
    }
   ],
   "source": [
    "# formatted_name.py\n",
    "# 1-返回简单值\n",
    "\n",
    "# 函数-接受名和姓，并返回整洁的姓名\n",
    "def get_formatted_name(first_name, last_name):\n",
    "    \"\"\"返回整洁的姓名\"\"\"\n",
    "    full_name = first_name + ' ' + last_name\n",
    "    return full_name.title()\n",
    "\n",
    "# 调用返回值时，需要提供一个变量，用于存储返回的值 \n",
    "musician = get_formatted_name('jimi', 'hendrix')\n",
    "print(musician)"
   ]
  },
  {
   "cell_type": "code",
   "execution_count": 22,
   "metadata": {},
   "outputs": [
    {
     "name": "stdout",
     "output_type": "stream",
     "text": [
      "Jimi Hendrix\n",
      "John Hooker Lee\n"
     ]
    }
   ],
   "source": [
    "# formatted_name.py\n",
    "# 2-让实参变成可选的 - 可使用默认值来让实参变成可选的\n",
    "# 这样使用函数的人就只需要在必要时才提供额外的信息\n",
    "\n",
    "# 可选值让函数能够处理各种不同情形的同时，确保函数调用尽可能简单\n",
    "\n",
    "# 扩展程序，使其还可以处理中间名\n",
    "# 但并非所有人都有中间名\n",
    "# 让中间名变成可选 - 给实参middle_name指定一个默认值：空字符串\n",
    "def get_formatted_name(first_name, last_name, middle_name=''): \n",
    "    # 注意：中间名是空字符串，什么都没有，不是空格，不然print有问题\n",
    "    # 空格也算不为空，为True（可能吧），按if走，而不是else，故姓名直接有两个空格\n",
    "    \"\"\"返回整洁的姓名\"\"\"\n",
    "    if middle_name:\n",
    "        full_name = first_name + ' ' + middle_name + ' ' + last_name\n",
    "    else:\n",
    "        full_name = first_name + ' ' + last_name\n",
    "    return full_name.title()\n",
    "\n",
    "musician = get_formatted_name('jimi','hendrix')\n",
    "print(musician)\n",
    "\n",
    "musician = get_formatted_name('john','lee','hooker')\n",
    "print(musician)"
   ]
  },
  {
   "cell_type": "code",
   "execution_count": 25,
   "metadata": {},
   "outputs": [
    {
     "name": "stdout",
     "output_type": "stream",
     "text": [
      "{'first': 'jimi', 'age': 27, 'last': 'hendrix'}\n"
     ]
    }
   ],
   "source": [
    "# person.py\n",
    "# 3-返回字典\n",
    "\n",
    "# 函数可返回任何类型的值，包括列表和字典等较复杂的数据结构\n",
    "\n",
    "# 函数-接收姓名的组成部分，并返回一个表示人的字典\n",
    "def build_person(first_name, last_name, age=''):\n",
    "    \"\"\"返回一个字典，其中包含有关一个人的信息\"\"\"\n",
    "    person = {'first':first_name, 'last':last_name}\n",
    "    if age:\n",
    "        person['age'] = age     # 6.2章-向字典中添加元素的方式\n",
    "    return person\n",
    "\n",
    "musician = build_person('jimi','hendrix',age=27)\n",
    "print(musician)\n"
   ]
  },
  {
   "cell_type": "code",
   "execution_count": 26,
   "metadata": {},
   "outputs": [
    {
     "name": "stdout",
     "output_type": "stream",
     "text": [
      "\n",
      "Please tell me your name:\n",
      "(enter 'q' at any time to quit)\n",
      "First name: Tom\n",
      "Last name: hiddleson\n",
      "\n",
      "Hello, Tom Hiddleson!\n",
      "\n",
      "Please tell me your name:\n",
      "(enter 'q' at any time to quit)\n",
      "First name: q\n"
     ]
    }
   ],
   "source": [
    "# greeter.py\n",
    "# 4-结合使用函数和while循环\n",
    "\n",
    "# 可将函数同任何Python结构结合起来使用\n",
    "\n",
    "# 以更正规的方式问候用户 - 尝试使用名和姓跟用户打招呼\n",
    "def get_formatted_name(first_name, last_name):\n",
    "    \"\"\"返回整洁的姓名\"\"\"\n",
    "    full_name = first_name + ' ' + last_name\n",
    "    return full_name.title()\n",
    "\n",
    "while True:\n",
    "    print('\\nPlease tell me your name:')\n",
    "    print(\"(enter 'q' at any time to quit)\")\n",
    "    \n",
    "    f_name = input('First name: ')\n",
    "    if f_name == 'q':\n",
    "        break\n",
    "        \n",
    "    l_name = input('Last name: ')\n",
    "    if l_name == 'q':\n",
    "        break\n",
    "        \n",
    "    formatted_name = get_formatted_name(f_name, l_name)\n",
    "    print('\\nHello, ' + formatted_name + '!')"
   ]
  },
  {
   "cell_type": "markdown",
   "metadata": {},
   "source": [
    "## 8.4 传递列表\n",
    "\n",
    "### 向函数传递列表很有用，这种列表包含的可能是名字、数字或更复杂的对象（如字典）"
   ]
  },
  {
   "cell_type": "markdown",
   "metadata": {},
   "source": [
    "### 小结：\n",
    "\n",
    "#### 可将列表等对象作为实参传递给函数\n",
    "#### 在函数中修改列表：比如把一个列表中的元素移动到另一个列表，并做一些其他修改，封装在函数中\n",
    "#### 禁止函数修改列表：思路--调用函数时，向函数传递列表的副本而不是原件，这样函数所做的任何修改都只影响副本，而可保留原件\n",
    "#### 要将列表的副本传递给函数：切片法 -- 格式：function_name(list_name[:])"
   ]
  },
  {
   "cell_type": "code",
   "execution_count": 31,
   "metadata": {},
   "outputs": [
    {
     "name": "stdout",
     "output_type": "stream",
     "text": [
      "Hello, Hannah!\n",
      "Hello, Ty!\n",
      "Hello, Margot!\n"
     ]
    }
   ],
   "source": [
    "# greet_users.py\n",
    "# 假设有一个用户列表，要问候其中的每位用户 - 将一个名字列表传递给一个问候函数\n",
    "\n",
    "def greet_users(names):\n",
    "    \"\"\"向列表中的每位用户都发出简单的问候\"\"\"\n",
    "    for name in names:\n",
    "        msg = \"Hello, \" + name.title() + '!'\n",
    "        print(msg)\n",
    "        \n",
    "usernames = ['hannah','ty','margot']\n",
    "greet_users(usernames)"
   ]
  },
  {
   "cell_type": "code",
   "execution_count": 32,
   "metadata": {},
   "outputs": [
    {
     "name": "stdout",
     "output_type": "stream",
     "text": [
      "Printing model: dodecahedron\n",
      "Printing model: robot pendant\n",
      "Printing model: iphone case\n",
      "\n",
      "The following models have been printed:\n",
      "dodecahedron\n",
      "robot pendant\n",
      "iphone case\n"
     ]
    }
   ],
   "source": [
    "# printing_models.py\n",
    "# 1-在函数中修改列表\n",
    "\n",
    "# 创建一个列表，其中包含一些要打印的设计\n",
    "unprinted_designs = ['iphone case','robot pendant','dodecahedron']\n",
    "completed_models = []\n",
    "\n",
    "# 模拟打印每个设计，直到没有未打印的设计为止\n",
    "# 打印每个设计后，都将其移动到列表completed_models中\n",
    "while unprinted_designs:\n",
    "    current_design = unprinted_designs.pop()\n",
    "    \n",
    "    # 模拟根据设计制作3D打印模型的过程\n",
    "    print('Printing model: ' + current_design)\n",
    "    completed_models.append(current_design)\n",
    "    \n",
    "# 显示打印好的所有模型\n",
    "print('\\nThe following models have been printed:')\n",
    "for completed_model in completed_models:\n",
    "    print(completed_model)"
   ]
  },
  {
   "cell_type": "code",
   "execution_count": 37,
   "metadata": {},
   "outputs": [
    {
     "name": "stdout",
     "output_type": "stream",
     "text": [
      "打印前：未打印与已完成\n",
      "['iphone case', 'robot pendant', 'dodcahedron']\n",
      "[]\n",
      "Printing model: dodcahedron\n",
      "Printing model: robot pendant\n",
      "Printing model: iphone case\n",
      "\n",
      "The following models have been printed:\n",
      "dodcahedron\n",
      "robot pendant\n",
      "iphone case\n",
      "打印后：未打印与已完成\n",
      "[]\n",
      "['dodcahedron', 'robot pendant', 'iphone case']\n"
     ]
    }
   ],
   "source": [
    "# printing_models.py\n",
    "# 上接：重新组织以上代码，编写两个函数 - 效率更高\n",
    "# 第一个函数负责处理打印设计的工作，第二个函数将概述打印了哪些设计\n",
    "\n",
    "def print_models(unprinted_designs, completed_models):\n",
    "    \"\"\"\n",
    "    模拟打印每个设计，直到没有未打印的设计为止\n",
    "    打印每个设计后，都讲其移到列表completed_models中    \n",
    "    \"\"\"\n",
    "    while unprinted_designs:\n",
    "        current_design = unprinted_designs.pop()\n",
    "        \n",
    "        # 模拟根据设计制作3D打印模型的过程\n",
    "        print('Printing model: ' + current_design)\n",
    "        completed_models.append(current_design)\n",
    "        \n",
    "def show_completed_models(completed_models):\n",
    "    \"\"\"\n",
    "    显示打印好的所有模型\n",
    "    \"\"\"\n",
    "    print('\\nThe following models have been printed:')\n",
    "    for completed_model in completed_models:\n",
    "        print(completed_model)\n",
    "\n",
    "        \n",
    "print(\"打印前：未打印与已完成\")\n",
    "unprinted_designs = ['iphone case','robot pendant','dodcahedron']\n",
    "completed_models = []\n",
    "\n",
    "\n",
    "print(unprinted_designs)\n",
    "print(completed_models)\n",
    "\n",
    "\n",
    "print_models(unprinted_designs, completed_models)\n",
    "show_completed_models(completed_models)\n",
    "\n",
    "\n",
    "print('打印后：未打印与已完成')\n",
    "print(unprinted_designs)\n",
    "print(completed_models)"
   ]
  },
  {
   "cell_type": "code",
   "execution_count": 42,
   "metadata": {},
   "outputs": [
    {
     "name": "stdout",
     "output_type": "stream",
     "text": [
      "打印前：未打印与已完成\n",
      "['iphone case', 'robot pendant', 'dodcahedron']\n",
      "[]\n",
      "Printing model: dodcahedron\n",
      "Printing model: robot pendant\n",
      "Printing model: iphone case\n",
      "\n",
      "The following models have been printed:\n",
      "dodcahedron\n",
      "robot pendant\n",
      "iphone case\n",
      "打印后：未打印与已完成\n",
      "['iphone case', 'robot pendant', 'dodcahedron']\n",
      "['dodcahedron', 'robot pendant', 'iphone case']\n"
     ]
    }
   ],
   "source": [
    "# printing_models.py\n",
    "# 4-禁止函数修改列表\n",
    "\n",
    "# 要求：即便打印所有设计后，也要保留原来的未打印的设计列表，以供备案\n",
    "# 思路：向函数传递列表的副本而不是原件，这样函数所做的任何修改都只影响副本，而丝毫不影响原件\n",
    "\n",
    "\"\"\"\n",
    "要将列表的副本传递给函数，可以像下面这样做：\n",
    "function_name(list_name[:])\n",
    "\"\"\"\n",
    "# 切片法：print_models(unprinted_designs[:], completed_models)\n",
    "\n",
    "def print_models(unprinted_designs, completed_models):\n",
    "    \"\"\"\n",
    "    模拟打印每个设计，直到没有未打印的设计为止\n",
    "    打印每个设计后，都讲其移到列表completed_models中    \n",
    "    \"\"\"\n",
    "    while unprinted_designs:\n",
    "        current_design = unprinted_designs.pop()\n",
    "        \n",
    "        # 模拟根据设计制作3D打印模型的过程\n",
    "        print('Printing model: ' + current_design)\n",
    "        completed_models.append(current_design)\n",
    "        \n",
    "def show_completed_models(completed_models):\n",
    "    \"\"\"\n",
    "    显示打印好的所有模型\n",
    "    \"\"\"\n",
    "    print('\\nThe following models have been printed:')\n",
    "    for completed_model in completed_models:\n",
    "        print(completed_model)\n",
    "\n",
    "        \n",
    "print(\"打印前：未打印与已完成\")\n",
    "\n",
    "unprinted_designs = ['iphone case','robot pendant','dodcahedron']\n",
    "completed_models = []\n",
    "\n",
    "\n",
    "print(unprinted_designs)\n",
    "print(completed_models)\n",
    "\n",
    "\n",
    "print_models(unprinted_designs[:], completed_models) # 切片法取“未打印”列表的副本，则一顿操作之后，原列表不变\n",
    "show_completed_models(completed_models)\n",
    "\n",
    "\n",
    "print('打印后：未打印与已完成')\n",
    "print(unprinted_designs)\n",
    "print(completed_models)"
   ]
  },
  {
   "cell_type": "markdown",
   "metadata": {},
   "source": [
    "## 8.5 传递任意数量的实参"
   ]
  },
  {
   "cell_type": "markdown",
   "metadata": {},
   "source": [
    "### 小结：\n",
    "\n",
    "#### 传递任意数量实参：\n",
    "#### 格式：形参写为 -- 星号+参数名 - *paraname：不管调用语句提供多少实参，这个形参都将它们收入囊中\n",
    "#### 位置实参+任意数量实参：任意数量实参的形参放在最后 -- 先匹配位置实参和关键字实参，再将余下的实参都收集到最后一个形参中\n",
    "#### 任意数量的关键字实参：任意数量且预先不知道信息类型\n",
    "#### 思路：将函数编写成能够接受任意数量的 '键-值' 对 - 调用语句提供了多少就接受多少\n",
    "#### 格式：形参**dictname  两个星号创建一个空字典，并用for循环将 键值对 封装到这个字典中"
   ]
  },
  {
   "cell_type": "code",
   "execution_count": 44,
   "metadata": {},
   "outputs": [
    {
     "name": "stdout",
     "output_type": "stream",
     "text": [
      "\n",
      "Making a pizza with the following toppings:\n",
      "- pepperoni\n",
      "\n",
      "Making a pizza with the following toppings:\n",
      "- mushrooms\n",
      "- green peppers\n",
      "- extra cheese\n"
     ]
    }
   ],
   "source": [
    "# pizza.py\n",
    "# 预先不知道函数需要多少实参时 - 好在Python允许函数从调用语句中收集任意数量的实参\n",
    "\n",
    "# 制作比萨的函数：无法预先确定顾客要多少种配料\n",
    "# 只有一个形参*toppings，但不管调用语句提供多少实参，这个形参都将它们收入囊中\n",
    "\n",
    "def make_pizza(*toppings):\n",
    "    # 星号让Python创建一个名为toppings的空元组，将所有收到的值都封装到这个元组中 - 元组：4.5章\n",
    "    \"\"\"打印顾客的所有配料\"\"\"\n",
    "    print('\\nMaking a pizza with the following toppings:')\n",
    "    for topping in toppings:\n",
    "        print('- ' + topping)\n",
    "    \n",
    "make_pizza('pepperoni')\n",
    "make_pizza('mushrooms','green peppers','extra cheese')"
   ]
  },
  {
   "cell_type": "code",
   "execution_count": 45,
   "metadata": {},
   "outputs": [
    {
     "name": "stdout",
     "output_type": "stream",
     "text": [
      "\n",
      "Making a 16-inch pizza with the following toppings:\n",
      "- pepperoni\n",
      "\n",
      "Making a 12-inch pizza with the following toppings:\n",
      "- mushrooms\n",
      "- green peppers\n",
      "- extra cheese\n"
     ]
    }
   ],
   "source": [
    "# pizza.py\n",
    "# 1-结合使用位置实参和任意数量实参\n",
    "\n",
    "# 需要将接纳任意数量实参的形参放在最后 - 先匹配位置实参和关键字实参，再将余下的实参都收集到最后一个形参中\n",
    "\n",
    "def make_pizza(size, *toppings):\n",
    "    # 收到的第一个值存储在size中，其他所有值都存储在元组topping中\n",
    "    \"\"\"概述要制作的比萨\"\"\"\n",
    "    print('\\nMaking a ' + str(size) + \n",
    "         '-inch pizza with the following toppings:')\n",
    "    for topping in toppings:\n",
    "        print('- ' + topping)\n",
    "        \n",
    "make_pizza(16, 'pepperoni')\n",
    "make_pizza(12, 'mushrooms','green peppers','extra cheese')"
   ]
  },
  {
   "cell_type": "code",
   "execution_count": 47,
   "metadata": {},
   "outputs": [
    {
     "name": "stdout",
     "output_type": "stream",
     "text": [
      "{'first_name': 'albert', 'field': 'physics', 'last_name': 'einstein', 'location': 'princeton'}\n"
     ]
    }
   ],
   "source": [
    "# user_profile.py\n",
    "# 2-使用任意数量的关键字实参\n",
    "# 要求：接受任意数量的实参，并且预先不知道传递给函数的会是什么样的信息\n",
    "# 思路：这种情况下，可将函数编写成能够接受任意数量的'键-值'对 - 调用语句提供了多少就接受多少\n",
    "\n",
    "# 创建用户简介：将收到有关用户的信息，但不确定会是什么样的信息\n",
    "def build_profile(first, last, **user_info):\n",
    "    # 函数定义要求提供名和姓，同时运行用户根据需要提供任意数量的名称-值对\n",
    "    # 形参**user_info中的两个星号创建一个名为user_info的空字典，并将收到的所有名称-值对都封装到这个字典中\n",
    "    # 列表：[]  字典：{键:值, ... ,}\n",
    "    \n",
    "    \"\"\"创建一个字典，其中包含我们知道的有关用户的一切\"\"\"\n",
    "    profile = {}\n",
    "    profile['first_name'] = first\n",
    "    profile['last_name'] = last\n",
    "    for key, value in user_info.items(): # 遍历字典user_info中的键-值对，并将每个键-值加入到字典profile中\n",
    "        profile[key] = value\n",
    "    return profile\n",
    "    \n",
    "user_profile = build_profile('albert', 'einstein',\n",
    "                            location='princeton',  # 注意这里的实参写法：关键字实参赋值方式\n",
    "                            field='physics')\n",
    "print(user_profile)"
   ]
  },
  {
   "cell_type": "markdown",
   "metadata": {},
   "source": [
    "## 8.6 将函数存储在模块中\n",
    "\n",
    "### 函数的优点之一：将代码块与主程序分离，通过给函数指定描述性名称，让主程序容易理解得多\n",
    "### 进一步 - 将函数存储在称为 '模块' 的独立文件中，再将模块 “导入” 到主程序中 - import"
   ]
  },
  {
   "cell_type": "markdown",
   "metadata": {},
   "source": [
    "### 小结：\n",
    "\n",
    "#### 模块：将函数封装在独立的 *.py 文件中，使用时，import到主程序中\n",
    "#### 导入整个模块： \n",
    "#### 导入格式：import modulename\n",
    "#### 调用格式：module_name.function_name() \n",
    "####      \n",
    "\n",
    "#### 导入特定函数：\n",
    "#### 导入格式：from module_name import function_name\n",
    "#### 导入任意数量的函数，逗号分隔函数名\n",
    "#### 导入格式：from module_name import function_0, function_1, function_2\n",
    "#### 调用格式： function_name()\n",
    "####    \n",
    "\n",
    "#### 使用as给函数指定别名：\n",
    "#### 导入格式：from module_name import function_name as fn\n",
    "#### 调用格式：fn()\n",
    "####     \n",
    "\n",
    "####  使用as给模块指定别名：\n",
    "#### 导入格式：import module_name as mn\n",
    "#### 调用格式：mn.function_name()\n",
    "####     \n",
    "\n",
    "#### 导入模块中的所有函数：\n",
    "#### 导入格式：from module_name import *\n",
    "#### 调用格式：function_name()\n",
    "\n",
    "如果模块中有函数的名称与你的项目中使用的名称相同，可能覆盖，而不是分别导入所有的函数\n",
    "使用并非自己编写的大型模块时，最好不要采用这种导入方法：\n",
    "（此处只介绍方法，方便在阅读代码时知道在做什么，但自己写代码时不建议使用）"
   ]
  },
  {
   "cell_type": "markdown",
   "metadata": {},
   "source": [
    "### 1-导入整个模块\n",
    "\n",
    "#### 模块：扩展名.py，包含要导入到程序中的代码\n",
    "#### 格式：module_name.function_name()\n",
    "\n",
    "\n",
    "* pizza.py: make_pizza模块\n",
    "* making_pizza.py: 调用以上文件中的模块\n",
    "（两个py文件放在同一目录..这里jupyter notebook仿真的效果不知道有几分）"
   ]
  },
  {
   "cell_type": "code",
   "execution_count": 50,
   "metadata": {},
   "outputs": [],
   "source": [
    "# pizza.py\n",
    "# 包含模块make_pizza\n",
    "\n",
    "def make_pizza(size, *toppings):\n",
    "    \"\"\"概述要制作的比萨\"\"\"\n",
    "    print('\\nMaking a ' + str(size) +\n",
    "         '-inch pizza with the following toppings:')\n",
    "    for topping in toppings:\n",
    "        print('- ' + topping)"
   ]
  },
  {
   "cell_type": "code",
   "execution_count": 51,
   "metadata": {},
   "outputs": [
    {
     "name": "stdout",
     "output_type": "stream",
     "text": [
      "{'first_name': 'albert', 'field': 'physics', 'last_name': 'einstein', 'location': 'princeton'}\n"
     ]
    }
   ],
   "source": [
    "\"\"\"\n",
    "\n",
    "######  测试：说明此笔记本中的所有代码块都相当于同一个文件中的 - 这里就假装一下算了... #######\n",
    "\n",
    "\"\"\"\n",
    "\n",
    "print(user_profile)"
   ]
  },
  {
   "cell_type": "code",
   "execution_count": 53,
   "metadata": {},
   "outputs": [
    {
     "name": "stdout",
     "output_type": "stream",
     "text": [
      "\n",
      "Making a 16-inch pizza with the following toppings:\n",
      "- pepperoni\n",
      "\n",
      "Making a 12-inch pizza with the following toppings:\n",
      "- mushrooms\n",
      "- green peppers\n",
      "- extra cheese\n"
     ]
    }
   ],
   "source": [
    "# making_pizza.py\n",
    "# 1-导入整个模块\n",
    "\n",
    "# 模块文件和调用该模块的两个py文件放在同一目录.. 否则报错\n",
    "# 故在本文件所在目录手动创建一个pizza.py文件，执行，不报错，bingo\n",
    "\n",
    "import pizza # ImportError: No module named 'pizza'\n",
    "    # import pizza打开文件pizza.py，并将其中的所有函数都复制到这个程序中（幕后执行）\n",
    "    # 导入后，在making_pizza.py中，可以使用pizza.py中定义的所有函数\n",
    "\n",
    "# 调用被导入模块中的函数：指定导入模块（文件名）的名称pizza和函数名making_pizza()，并用句点连接\n",
    "\n",
    "# 格式：\n",
    "# module_name.function_name()\n",
    "pizza.make_pizza(16, 'pepperoni')\n",
    "pizza.make_pizza(12, 'mushrooms','green peppers','extra cheese')"
   ]
  },
  {
   "cell_type": "markdown",
   "metadata": {},
   "source": [
    "### 2-导入特定的函数\n",
    "\n",
    "#### 格式：from module_name import function_name\n",
    "#### 格式（导入任意数量的函数，逗号分隔函数名）：from module_name import function_0, function_1, function_2"
   ]
  },
  {
   "cell_type": "code",
   "execution_count": 55,
   "metadata": {},
   "outputs": [
    {
     "name": "stdout",
     "output_type": "stream",
     "text": [
      "\n",
      "Making a 16-inch pizza with the following toppings:\n",
      "- pepperoni\n",
      "\n",
      "Making a 12-inch pizza with the following toppings:\n",
      "- mushrooms\n",
      "- green peppers\n",
      "- extra cheese\n"
     ]
    }
   ],
   "source": [
    "# making_pizza.py\n",
    "# 2-导入特定的函数\n",
    "\n",
    "# 格式：\n",
    "# from module_name import function_0, function_1, function_2\n",
    "from pizza import make_pizza\n",
    "\n",
    "# 这种情况下，调用函数时无需使用句点，只需要指定其名称\n",
    "make_pizza(16, 'pepperoni')\n",
    "make_pizza(12, 'mushrooms', 'green peppers', 'extra cheese')"
   ]
  },
  {
   "cell_type": "markdown",
   "metadata": {},
   "source": [
    "### 3-使用as给函数指定别名\n",
    "\n",
    "#### 格式：from module_name import function_name as fn"
   ]
  },
  {
   "cell_type": "code",
   "execution_count": 56,
   "metadata": {},
   "outputs": [
    {
     "name": "stdout",
     "output_type": "stream",
     "text": [
      "\n",
      "Making a 16-inch pizza with the following toppings:\n",
      "- pepperoni\n",
      "\n",
      "Making a 12-inch pizza with the following toppings:\n",
      "- mushrooms\n",
      "- green peppers\n",
      "- extra cheese\n"
     ]
    }
   ],
   "source": [
    "# making_pizza.py\n",
    "# 3-使用as给函数指定别名\n",
    "\n",
    "# 格式：from module_name import function_name as fn\n",
    "from pizza import make_pizza as mp\n",
    "\n",
    "mp(16, 'pepperoni')\n",
    "mp(12, 'mushrooms','green peppers','extra cheese')"
   ]
  },
  {
   "cell_type": "markdown",
   "metadata": {},
   "source": [
    "### 4-使用as给模块指定别名\n",
    "\n",
    "#### 格式：import module_name as mn"
   ]
  },
  {
   "cell_type": "code",
   "execution_count": 57,
   "metadata": {},
   "outputs": [
    {
     "name": "stdout",
     "output_type": "stream",
     "text": [
      "\n",
      "Making a 16-inch pizza with the following toppings:\n",
      "- pepperoni\n",
      "\n",
      "Making a 12-inch pizza with the following toppings:\n",
      "- mushrooms\n",
      "- green peppers\n",
      "- extra cheese\n"
     ]
    }
   ],
   "source": [
    "# making_pizza.py\n",
    "# 4-使用as给模块指定别名\n",
    "\n",
    "# 格式：import module_name as mn\n",
    "import pizza as p\n",
    "\n",
    "p.make_pizza(16, 'pepperoni')\n",
    "p.make_pizza(12, 'mushrooms','green peppers','extra cheese')"
   ]
  },
  {
   "cell_type": "markdown",
   "metadata": {},
   "source": [
    "### 5-导入模块中的所有函数\n",
    "\n",
    "#### 格式：from module_name import *\n",
    "#### 星号（*）可以导入模块中的所有函数，调用时无需使用句点表示法\n",
    "#### 使用并非自己编写的大型模块时，最好不要采用这种导入方法：\n",
    "#### 如果模块中有函数的名称与你的项目中使用的名称相同，可能覆盖，而不是分别导入所有的函数\n",
    "（此处只介绍方法，方便在阅读代码时知道在做什么，但自己写代码时不建议使用）"
   ]
  },
  {
   "cell_type": "code",
   "execution_count": 58,
   "metadata": {},
   "outputs": [
    {
     "name": "stdout",
     "output_type": "stream",
     "text": [
      "\n",
      "Making a 16-inch pizza with the following toppings:\n",
      "- pepperoni\n",
      "\n",
      "Making a 12-inch pizza with the following toppings:\n",
      "- mushrooms\n",
      "- green peppers\n",
      "- extra cheese\n"
     ]
    }
   ],
   "source": [
    "# making_pizza.py\n",
    "# 5-导入模块中的所有函数\n",
    "\n",
    "# import语句中的星号将模块中的每个函数都复制到这个程序文件中\n",
    "# 格式：from module_name import *\n",
    "\n",
    "from pizza import *\n",
    "\n",
    "# 由于导入了每个函数，可通过名称来调用每个函数，而无需使用句点\n",
    "make_pizza(16, 'pepperoni')\n",
    "make_pizza(12, 'mushrooms','green peppers','extra cheese')"
   ]
  },
  {
   "cell_type": "markdown",
   "metadata": {},
   "source": [
    "## 8.7 函数编写指南"
   ]
  },
  {
   "cell_type": "markdown",
   "metadata": {},
   "source": [
    "### 1-函数名：描述性，且只使用小写字母和下划线（模块名同）\n",
    "### 2-注释：紧跟在定义后，简要阐述功能，并采用文档字符串格式（三引号）\n",
    "### 3-形参指定默认值时，等号两边不要有空格\n",
    "### 4-函数调用中的关键字实参，等号使用同上一条\n",
    "### 5-每一行长度不超过79字符\n",
    "      形参很多，导致函数定义长度超过时，在函数定义中输入左括号，回车，\n",
    "      并在下一行按两次Tab键，将形参列表和只缩进一层的函数体区分开\n",
    "### 6-程序包含多个函数时，可使用两个空行将相邻的函数分开，这样更容易看清楚\n",
    "### 7-所有的import语句都应放在文件开头，唯一例外的情形是，在文件开头使用注释来描述整个程序时"
   ]
  },
  {
   "cell_type": "code",
   "execution_count": 59,
   "metadata": {
    "scrolled": true
   },
   "outputs": [
    {
     "ename": "SyntaxError",
     "evalue": "invalid syntax (<ipython-input-59-b43c93226457>, line 4)",
     "output_type": "error",
     "traceback": [
      "\u001b[1;36m  File \u001b[1;32m\"<ipython-input-59-b43c93226457>\"\u001b[1;36m, line \u001b[1;32m4\u001b[0m\n\u001b[1;33m    def function_name(parameter_0, parameter_1='default value')\u001b[0m\n\u001b[1;37m                                                               ^\u001b[0m\n\u001b[1;31mSyntaxError\u001b[0m\u001b[1;31m:\u001b[0m invalid syntax\n"
     ]
    }
   ],
   "source": [
    "# 本小节的部分对应例子\n",
    "\n",
    "# 3-形参等号\n",
    "def function_name(parameter_0, parameter_1='default value')\n",
    "\n",
    "# 4-关键字实参等号\n",
    "function_name(value_0, parameter_1='value')\n",
    "\n",
    "# 5-函数定义的形参太多导致一行过长时：\n",
    "def function_name(\n",
    "        parameter_0, parameter_1,parameter_2, # 两次Tab键，与楼下的函数体区别\n",
    "        parameter_3, parameter_4,parameter_5):\n",
    "    function body... # 此处是只有一个Tab键空格的函数体"
   ]
  }
 ],
 "metadata": {
  "kernelspec": {
   "display_name": "Python 3",
   "language": "python",
   "name": "python3"
  },
  "language_info": {
   "codemirror_mode": {
    "name": "ipython",
    "version": 3
   },
   "file_extension": ".py",
   "mimetype": "text/x-python",
   "name": "python",
   "nbconvert_exporter": "python",
   "pygments_lexer": "ipython3",
   "version": "3.7.0"
  }
 },
 "nbformat": 4,
 "nbformat_minor": 2
}
