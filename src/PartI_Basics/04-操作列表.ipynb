{
 "cells": [
  {
   "cell_type": "markdown",
   "metadata": {},
   "source": [
    "# 第四章 操作列表\n",
    "\n",
    "知识点：for循环、缩进注意点、数值列表创建、数学统计（最值、求和）、列表解析、列表切片、元组、代码格式优化"
   ]
  },
  {
   "cell_type": "markdown",
   "metadata": {},
   "source": [
    "## 4.1 遍历整个列表\n",
    "\n",
    "### for循环遍历\n",
    "\n",
    "#### 刚开始使用循环时请牢记，对列表中的每个元素，都将执行循环指定的步骤，而不管列表包含多少个元素。\n",
    "\n",
    "#### 如果列表包含一百万个元素，Python就重复执行指定的步骤一百万次，且通常速度非常快。"
   ]
  },
  {
   "cell_type": "markdown",
   "metadata": {},
   "source": [
    "### 小结：\n",
    "\n",
    "#### 格式：for n-任意名字 in listname: 某语句"
   ]
  },
  {
   "cell_type": "code",
   "execution_count": 80,
   "metadata": {},
   "outputs": [
    {
     "name": "stdout",
     "output_type": "stream",
     "text": [
      "打印魔术师名单中所有名字：\n",
      "alice\n",
      "david\n",
      "carolina\n",
      "Alice,that was a great trick\n",
      "I can't wait to see your next trick,Alice.\n",
      "\n",
      "David,that was a great trick\n",
      "I can't wait to see your next trick,David.\n",
      "\n",
      "Carolina,that was a great trick\n",
      "I can't wait to see your next trick,Carolina.\n",
      "\n",
      "Thank you, everyone. That was a great magic show!\n"
     ]
    }
   ],
   "source": [
    "# 遍历列表 - 魔术师演示\n",
    "# magicians.py\n",
    "\n",
    "magicians = ['alice','david','carolina']\n",
    "print('打印魔术师名单中所有名字：')\n",
    "for magician in magicians:\n",
    "    print(magician)\n",
    "for magician in magicians:\n",
    "    print(magician.title() + ',that was a great trick')\n",
    "    print(\"I can't wait to see your next trick,\" + magician.title() + '.\\n')\n",
    "print('Thank you, everyone. That was a great magic show!')"
   ]
  },
  {
   "cell_type": "markdown",
   "metadata": {},
   "source": [
    "## 4.2 避免缩进错误\n",
    "### Python根据缩进来判断代码行与前一个代码行的关系\n",
    "\n",
    "#### 1-忘记缩进\n",
    "#### 2-忘记缩进额外的代码行\n",
    "#### 3-不必要的缩进\n",
    "#### 4-循环后不必要的缩进\n",
    "#### 5-遗漏冒号（python有冒号，无分号，用缩进代替大括号，注意别混淆了）"
   ]
  },
  {
   "cell_type": "markdown",
   "metadata": {},
   "source": [
    "## 4.3 创建数值列表"
   ]
  },
  {
   "cell_type": "markdown",
   "metadata": {},
   "source": [
    "### 小结：\n",
    "\n",
    "#### range(start, stop, step)：创建一个整数列表，一般用在 for 循环中\n",
    "#### range()：默认从0开始，默认step为1，这两个都可以省略(step优先省略)，stop必须有，不包括stop本值\n",
    "#### list(range(n))：将range()的结果直接转换为列表，可存储在变量中以后使用\n",
    "#### 用range()创建任意数据集：新建空列表--for循环-append\n",
    "#### 数学统计：min(listname)-最小值；max(listname)-最大值；sum(listname)-求和\n",
    "\n",
    "#### 列表解析：创建列表 - listname = [value计算或表达式 for value in range(n)]"
   ]
  },
  {
   "cell_type": "code",
   "execution_count": 82,
   "metadata": {},
   "outputs": [
    {
     "name": "stdout",
     "output_type": "stream",
     "text": [
      "1\n",
      "2\n",
      "3\n",
      "4\n",
      "[1, 2, 3, 4, 5]\n"
     ]
    }
   ],
   "source": [
    "# number.py\n",
    "\n",
    "# range()函数 - range（a,b）生成从a到b且不包含b的一系列数值\n",
    "for value in range(1,5): #生成1-4\n",
    "    print(value)\n",
    "\n",
    "# 使用range()创建数字列表\n",
    "# list()-将range()结果直接转换为列表\n",
    "numbers = list(range(1,6))\n",
    "print(numbers)"
   ]
  },
  {
   "cell_type": "code",
   "execution_count": 84,
   "metadata": {},
   "outputs": [
    {
     "name": "stdout",
     "output_type": "stream",
     "text": [
      "[2, 4, 6, 8, 10]\n"
     ]
    }
   ],
   "source": [
    "# even_numbers.py\n",
    "# 打印1-10以内的偶数\n",
    "# range()-第三个参数指定步长\n",
    "\n",
    "even_numbers = list(range(2,11,2))\n",
    "print(even_numbers)"
   ]
  },
  {
   "cell_type": "code",
   "execution_count": 91,
   "metadata": {},
   "outputs": [
    {
     "name": "stdout",
     "output_type": "stream",
     "text": [
      "[1, 4, 9, 16, 25, 36, 49, 64, 81, 100]\n",
      "min=0\n",
      "max=9\n",
      "sum=45\n"
     ]
    }
   ],
   "source": [
    "# squares.py\n",
    "# 创建一个列表，包含前10个整数的平方\n",
    "# 万能的range()几乎能够创建任何需要的数字集\n",
    "\n",
    "# 思路：新建空列表（变量名=[]）--遍历（for循环）--每个值取平方（**）--将每个结果添加到列表中（append）\n",
    "squares = []\n",
    "for value in range(1,11):\n",
    "    square = value**2\n",
    "    squares.append(square)\n",
    "    # 以上两句可以合并: squares.append(value**2)\n",
    "\n",
    "print(squares)\n",
    "\n",
    "\n",
    "\n",
    "# 对数字列表执行简单的统计计算:max，min，sum\n",
    "digits = [1,2,3,4,5,6,7,8,9,0]\n",
    "print('min=%d' %min(digits))\n",
    "print('max=%d' %max(digits))\n",
    "print('sum=%d' %sum(digits))"
   ]
  },
  {
   "cell_type": "markdown",
   "metadata": {},
   "source": [
    "### 列表解析 \n",
    "\n",
    "#### 将for 循环和创建新元素的代码合并成一行，并自动附加新元素。\n",
    "#### 初学者不要求会写，但尽量看懂，因为可能在读别人的代码时会遇到"
   ]
  },
  {
   "cell_type": "code",
   "execution_count": 99,
   "metadata": {},
   "outputs": [
    {
     "name": "stdout",
     "output_type": "stream",
     "text": [
      "[1, 4, 9, 16, 25, 36, 49, 64, 81, 100]\n"
     ]
    }
   ],
   "source": [
    "# 使用列表解析创建前面的平方数列表\n",
    "\n",
    "\"\"\"\n",
    "语法:\n",
    "\n",
    "首先指定一个描述性的列表名，如squares ；\n",
    "\n",
    "然后，指定一个左方括号，并定义一个表达式，用于生成你要存储到列表中的值。\n",
    "在这个示例中，表达式为value**2 ，它计算平方值。\n",
    "\n",
    "接下来，编写一个for 循环，用于给表达式提供值，再加上右方括号。\n",
    "在这个示例中，for 循环为for value in range(1,11) ，它将值1~10提供给表达式value**2 。\n",
    "\n",
    "请注意，这里的for 语句末尾没有冒号。\n",
    "\n",
    "\"\"\"\n",
    "# 以上这段注释如放在print语句之后，运行时会out注释里的内容，放在print前面之后就不会错误了\n",
    "\n",
    "squares = [value**2 for value in range(1,11)]\n",
    "print(squares)"
   ]
  },
  {
   "cell_type": "markdown",
   "metadata": {},
   "source": [
    "## 4.4 使用列表的一部分"
   ]
  },
  {
   "cell_type": "markdown",
   "metadata": {},
   "source": [
    "### 小结:\n",
    "\n",
    "#### 切片：m n -- 索引值\n",
    "#### listname[m:n] -- 从索引值m处取到索引n的前一个元素（第m-1个到第n个）\n",
    "#### listname[:n] -- 没有指定m时，默认从列表第一个元素开始\n",
    "#### listname[m:] -- 没有指定n时，默认取到列表的最后一个元素\n",
    "#### listname[-m:] -- m或n为负数时，从倒数第三位取到最后一个元素 \n",
    "#### listname[:] -- 取所有元素（是全新副本不是关联，相当于复制但区别于copy deepcopy等等，后两个的规则不太懂。。）"
   ]
  },
  {
   "cell_type": "code",
   "execution_count": 103,
   "metadata": {
    "scrolled": true
   },
   "outputs": [
    {
     "name": "stdout",
     "output_type": "stream",
     "text": [
      "['charles', 'martina', 'michael']\n",
      "['charles', 'martina', 'michael']\n",
      "['michael', 'florence', 'eli']\n",
      "['michael', 'florence', 'eli']\n",
      "\n",
      "Here are the first three players on my team:\n",
      "Charles\n",
      "Martina\n",
      "Michael\n"
     ]
    }
   ],
   "source": [
    "# players.py\n",
    "# 对运动员名单列表切片\n",
    "\n",
    "players = ['charles','martina','michael','florence','eli']\n",
    "\n",
    "# 冒号连接想要取得的第一个和最后一个索引的后一个索引\n",
    "print(players[0:3]) # 第一个到第三个\n",
    "print(players[:3])  # 没有指定第一个索引时从列表开头开始\n",
    "print(players[2:])  # 没有指定最后一个索引时一直执行到列表末尾\n",
    "print(players[-3:]) # 从倒数第三位开始执行到列表末尾\n",
    "\n",
    "\n",
    "\n",
    "# 遍历切片：for循环+[:]切片\n",
    "print('\\nHere are the first three players on my team:')\n",
    "for player in players[:3]:\n",
    "    print(player.title())"
   ]
  },
  {
   "cell_type": "code",
   "execution_count": 109,
   "metadata": {},
   "outputs": [
    {
     "name": "stdout",
     "output_type": "stream",
     "text": [
      "My favortie foods are:\n",
      "['pizza', 'falafel', 'carrot cake', 'ice cream']\n",
      "\n",
      "My friend's favorite foods are:\n",
      "['pizza', 'falafel', 'carrot cake', 'cannoli']\n"
     ]
    }
   ],
   "source": [
    "# foods.py\n",
    "# 复制列表：把切片赋值给新的变量,而不是直接把变量赋给（相当于关联而不是把副本存储到新变量中）\n",
    "\n",
    "# friend_foods = my_foods 这样的话只是新变量关联到包含my_foods中的列表，如果原变量变化，新变量也跟着变化\n",
    "\n",
    "# 我喜欢的食物，我朋友也喜欢\n",
    "my_foods = ['pizza','falafel','carrot cake']\n",
    "friend_foods = my_foods[:]\n",
    "\n",
    "my_foods.append('ice cream')\n",
    "friend_foods.append('cannoli')\n",
    "\n",
    "print('My favortie foods are:')\n",
    "print(my_foods)\n",
    "\n",
    "print(\"\\nMy friend's favorite foods are:\")\n",
    "print(friend_foods)\n"
   ]
  },
  {
   "cell_type": "markdown",
   "metadata": {},
   "source": [
    "## 4.5 元组\n",
    "\n",
    "#### 列表 - 适合存储可能变化的数据集，使用方括号标识（考点：列表不可作为字典的key，键要求唯一、不可变）\n",
    "#### 元组 - 不可变的列表称为元组，使用圆括号标识\n",
    "\n",
    "### 相比列表，元组是更简单的数据结构。如需存储的一组值在程序的整个生命周期内都不变，可使用元组"
   ]
  },
  {
   "cell_type": "markdown",
   "metadata": {},
   "source": [
    "### 小结：\n",
    "\n",
    "#### tuplename = (  ,   ,   ,  )\n",
    "#### 不可以修改元组的值：tuplename[n] = m -- 会报错\n",
    "#### 虽然不可以修改元组，但是可以对存储元组的变量重新赋值（这也算吗...）"
   ]
  },
  {
   "cell_type": "code",
   "execution_count": 114,
   "metadata": {},
   "outputs": [
    {
     "name": "stdout",
     "output_type": "stream",
     "text": [
      "200\n",
      "50\n",
      "\n",
      "Original dimensions:\n",
      "200\n",
      "50\n",
      "\n",
      "Modified dimensions:\n",
      "400\n",
      "100\n"
     ]
    }
   ],
   "source": [
    "# dimensions.py\n",
    "# 定义一个大小不变的矩形，将其长度和宽度存储在一个元组中，从而确保它们是不能修改\n",
    "\n",
    "dimensions = (200,50)\n",
    "print(dimensions[0])\n",
    "print(dimensions[1])\n",
    "\n",
    "# 尝试修改元组的元素值\n",
    "# dimensions[0]=300\n",
    "# TypeError: 'tuple' object does not support item assignment 修改元组的操作是被禁止的\n",
    "\n",
    "\n",
    "\n",
    "# 遍历元组中的所有值\n",
    "print('\\nOriginal dimensions:')\n",
    "for dimension in dimensions:\n",
    "    print(dimension)\n",
    "    \n",
    "    \n",
    "    \n",
    "# 修改元组的变量\n",
    "# 虽然不能修改元组的元素，但是可以给存储元组的变量赋值，即可以重新定义整个元组。给元组变量赋值是合法的。\n",
    "dimensions = (400,100)\n",
    "print('\\nModified dimensions:')\n",
    "for dimension in dimensions:\n",
    "    print(dimension)"
   ]
  },
  {
   "cell_type": "markdown",
   "metadata": {},
   "source": [
    "## 4.6 设置代码格式"
   ]
  },
  {
   "cell_type": "markdown",
   "metadata": {},
   "source": [
    "### 格式设置指南：Python改进提案 （Python Enhancement Proposal，PEP）\n",
    "\n",
    "#### 缩进：4个空格为一级缩进\n",
    "\n",
    "#### 行长：建议每行不超过80字符\n",
    "\n",
    "#### 空行：python解释器不关心但影响可读性，尽量合理\n",
    "\n",
    "#### 其他"
   ]
  }
 ],
 "metadata": {
  "kernelspec": {
   "display_name": "Python 3",
   "language": "python",
   "name": "python3"
  },
  "language_info": {
   "codemirror_mode": {
    "name": "ipython",
    "version": 3
   },
   "file_extension": ".py",
   "mimetype": "text/x-python",
   "name": "python",
   "nbconvert_exporter": "python",
   "pygments_lexer": "ipython3",
   "version": "3.7.0"
  }
 },
 "nbformat": 4,
 "nbformat_minor": 2
}
