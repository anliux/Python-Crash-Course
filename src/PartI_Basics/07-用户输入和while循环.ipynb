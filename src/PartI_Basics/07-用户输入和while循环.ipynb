{
 "cells": [
  {
   "cell_type": "markdown",
   "metadata": {},
   "source": [
    "# 第七章 用户输入和while循环\n",
    "\n",
    "知识点：input()，求模运算%，while循环，标志(封装的布尔表达式)，break退出循环，while循环处理字典和列表（列表间移动元素、删除列表中多次出现的元素、input填充字典）"
   ]
  },
  {
   "cell_type": "markdown",
   "metadata": {},
   "source": [
    "## 7.1 函数input()的工作原理\n",
    "\n",
    "### 函数input()：\n",
    "### 让程序暂停运行，等待用户输入一些文本。获取用户输入后，将其存储在一个变量中。回车继续运行。\n",
    "### input()接收一个参数：即要向用户显示的提示或说明（放在函数的圆括号里）\n",
    "### input()：将用户输入默认为字符串 - int()函数转为数值使用"
   ]
  },
  {
   "cell_type": "markdown",
   "metadata": {},
   "source": [
    "### 小结：\n",
    "\n",
    "#### input(参数)：暂停程序，展示括号中的参数，等待用户输入，回车继续运行，并返回输入的值\n",
    "#### input()：默认返回值是字符串，可用int()将str转为数值型，可将存储input返回值的变量放在int()中，或直接int(input())\n",
    "#### 求模运算符：% -- 将两数相除并返回余数 -- 格式：m % n"
   ]
  },
  {
   "cell_type": "code",
   "execution_count": 64,
   "metadata": {},
   "outputs": [
    {
     "name": "stdout",
     "output_type": "stream",
     "text": [
      "Tell me something, and I will repeat it back to you: hello how are you\n",
      "hello how are you\n"
     ]
    }
   ],
   "source": [
    "# parrot.py\n",
    "\n",
    "# input()接收一个参数：即要向用户显示的提示或说明\n",
    "message = input('Tell me something, and I will repeat it back to you: ')\n",
    "print(message)"
   ]
  },
  {
   "cell_type": "code",
   "execution_count": 71,
   "metadata": {},
   "outputs": [
    {
     "name": "stdout",
     "output_type": "stream",
     "text": [
      "Please enter your name: Name_1\n",
      "Hello, Name_1!\n",
      "\n",
      "If you tell us who you are, we can personalize the messages you see.\n",
      "What is your first name? Name_2\n",
      "\n",
      "Hello, Name_2!\n",
      "\n",
      "How old are you? 22\n",
      "True\n"
     ]
    }
   ],
   "source": [
    "# greeter.py\n",
    "# 1-编写清晰的程序\n",
    "name = input('Please enter your name: ')\n",
    "print('Hello, ' + name + '!')\n",
    "\n",
    "\n",
    "# 提示超过一行时，可将提示存储在一个变量中，再讲该变量传递给函数input()\n",
    "prompt = '\\nIf you tell us who you are, we can personalize the messages you see.'\n",
    "prompt += '\\nWhat is your first name? '\n",
    "name = input(prompt)\n",
    "print('\\nHello, ' + name + '!')\n",
    "\n",
    "\n",
    "\n",
    "# 2-使用int()来获取数值输入 - 类型转换为int型\n",
    "age = input('\\nHow old are you? ')\n",
    "age = int(age)\n",
    "print(age >= 18)"
   ]
  },
  {
   "cell_type": "code",
   "execution_count": 72,
   "metadata": {},
   "outputs": [
    {
     "name": "stdout",
     "output_type": "stream",
     "text": [
      "How tall are you, in inches? 24\n",
      "\n",
      "You will be able to ride when you are a little older.\n"
     ]
    }
   ],
   "source": [
    "# rollercoaster.py\n",
    "# 判断一个人是否满足坐过山车的身高要求：\n",
    "\n",
    "height = input('How tall are you, in inches? ')\n",
    "height = int(height)\n",
    "if height >= 36:\n",
    "    print('\\nYou are tall enough to ride.')\n",
    "else:\n",
    "    print('\\nYou will be able to ride when you are a little older.')"
   ]
  },
  {
   "cell_type": "code",
   "execution_count": 75,
   "metadata": {},
   "outputs": [
    {
     "name": "stdout",
     "output_type": "stream",
     "text": [
      "1\n",
      "2\n",
      "0\n",
      "1\n",
      "\n",
      "Enter a number, and I will tell you if it is even or odd: 23\n",
      "\n",
      "The number 23 is odd.\n"
     ]
    }
   ],
   "source": [
    "# 3-求模运算符（%） - 将两数相除并返回余数\n",
    "print(4 % 3) # 余1\n",
    "print(5 % 3) # 余2\n",
    "print(6 % 3) # 余0\n",
    "print(7 % 3) # 余1\n",
    "\n",
    "\n",
    "\n",
    "# even_or_odd.py\n",
    "# 利用取余判断一个数是奇数还是偶数\n",
    "number = input('\\nEnter a number, and I will tell you if it is even or odd: ')\n",
    "number = int(number)\n",
    "if number % 2 == 0:\n",
    "    print('\\nThe number ' + str(number) + ' is even.') # 要和一堆字符串连在一起，number需要转换为字符串\n",
    "else:\n",
    "    print('\\nThe number ' + str(number) + ' is odd.')"
   ]
  },
  {
   "cell_type": "markdown",
   "metadata": {},
   "source": [
    "## 7.2 while循环简介\n",
    "#### for循环：用于针对集合中的每个元素都一个代码块\n",
    "#### while循环：不断运行，直到指定的条件不满足为止"
   ]
  },
  {
   "cell_type": "markdown",
   "metadata": {},
   "source": [
    "### 小结：\n",
    "\n",
    "#### while循环格式：while 语句: xxx xxx .. xx(可内含多条语句)\n",
    "\n",
    "#### 标志：定义一个变量，用于判断整个程序是否处于活动状态，这个变量称为‘标志’\n",
    "#### 标志的好处：while只需检查标志一个条件，并将所有测试 (是否发生了应将标志设置为False的事件) 都放在其他地方，使程序更为整洁\n",
    "\n",
    "#### break退出循环：立即退出循环，不再运行循环中余下的代码，也不管条件测试的结果如何\n",
    "#### break循环：可以用在任何Python循环中，例如，退出遍历列表或字典的for循环"
   ]
  },
  {
   "cell_type": "code",
   "execution_count": 2,
   "metadata": {},
   "outputs": [
    {
     "name": "stdout",
     "output_type": "stream",
     "text": [
      "1\n",
      "2\n",
      "3\n",
      "4\n",
      "5\n",
      "\n",
      "Tell me something, and I will repeat it back to you:\n",
      "Enter 'quit' to end the program. abc\n",
      "abc\n",
      "\n",
      "Tell me something, and I will repeat it back to you:\n",
      "Enter 'quit' to end the program. quit\n"
     ]
    }
   ],
   "source": [
    "# counting.py\n",
    "# 1-使用while循环\n",
    "current_number = 1\n",
    "while current_number <= 5:\n",
    "    print(current_number)\n",
    "    current_number += 1\n",
    "    \n",
    "    \n",
    "    \n",
    "# parrot.py\n",
    "# 2-让用户选择何时退出\n",
    "prompt = '\\nTell me something, and I will repeat it back to you:'\n",
    "prompt += \"\\nEnter 'quit' to end the program. \"\n",
    "message = ''\n",
    "while message != 'quit':\n",
    "    message = input(prompt)\n",
    "    if message != 'quit': # 当输入quit时，quit不打印\n",
    "        print(message)"
   ]
  },
  {
   "cell_type": "code",
   "execution_count": 3,
   "metadata": {},
   "outputs": [
    {
     "name": "stdout",
     "output_type": "stream",
     "text": [
      "\n",
      "Tell me something, and I will repeat it back to you:\n",
      "Enter 'quit' to end the program.  Hello, how r you\n",
      "Hello, how r you\n",
      "\n",
      "Tell me something, and I will repeat it back to you:\n",
      "Enter 'quit' to end the program.  quit\n"
     ]
    }
   ],
   "source": [
    "# parrot.py\n",
    "# 3-使用标志\n",
    "# 定义一个变量，用于判断整个程序是否处于活动状态，这个变量称为‘标志’\n",
    "# 标志-充当程序的交通信号灯，为True时继续运行，并在任何事件导致标志的值为False时让程序停止运行。\n",
    "# while只需检查标志一个条件，并将所有测试（是否发生了应将标志设置为False的事件）都放在其他地方，使程序更为整洁\n",
    "\n",
    "# 在前一小节的程序中，添加一个标志，命名为activate（可指定任何名称），用于判断程序是否应继续运行\n",
    "prompt = '\\nTell me something, and I will repeat it back to you:'\n",
    "prompt += \"\\nEnter 'quit' to end the program.  \"\n",
    "\n",
    "active = True\n",
    "while active:\n",
    "    # 使用一个标志来指出程序是否处于活动状态，这样如果需要添加测试（如elif语句），将很容易。\n",
    "    message = input(prompt)\n",
    "    if message == 'quit':\n",
    "        active = False\n",
    "    else:\n",
    "        print(message)"
   ]
  },
  {
   "cell_type": "code",
   "execution_count": 4,
   "metadata": {},
   "outputs": [
    {
     "name": "stdout",
     "output_type": "stream",
     "text": [
      "\n",
      "Please enter the name of a city you hava visited:\n",
      "(Enter 'quit' when you are finished.)  Tianjin\n",
      "I'd love to go to Tianjin!\n",
      "\n",
      "Please enter the name of a city you hava visited:\n",
      "(Enter 'quit' when you are finished.)  quit\n"
     ]
    }
   ],
   "source": [
    "# cities.py\n",
    "# 4-使用break退出循环：立即退出循环，不再运行循环中余下的代码，也不管条件测试的结果如何\n",
    "\n",
    "# 注意：在任何Python循环中都可使用break 语句。例如，可使用break 语句来退出遍历列表或字典的for 循环。\n",
    "\n",
    "# 让用户指出他到过哪些地方\n",
    "prompt = '\\nPlease enter the name of a city you hava visited:'\n",
    "prompt += \"\\n(Enter 'quit' when you are finished.)  \"\n",
    "\n",
    "while True:\n",
    "    city = input(prompt)\n",
    "    \n",
    "    if city == 'quit':\n",
    "        break\n",
    "    else:\n",
    "        print(\"I'd love to go to \" + city.title() + '!')"
   ]
  },
  {
   "cell_type": "code",
   "execution_count": 7,
   "metadata": {},
   "outputs": [
    {
     "name": "stdout",
     "output_type": "stream",
     "text": [
      "1\n",
      "3\n",
      "5\n",
      "7\n",
      "9\n",
      "1\n",
      "2\n",
      "3\n",
      "4\n",
      "5\n"
     ]
    }
   ],
   "source": [
    "# counting.py\n",
    "# 5-在循环中使用continue：返回到循环开头，并根据条件测试结果决定是否继续执行循环\n",
    "\n",
    "# 10以内的数，打印出其中的奇数\n",
    "current_number = 0\n",
    "while current_number < 10:\n",
    "    current_number += 1\n",
    "    if current_number % 2 == 0:\n",
    "        continue\n",
    "        # 当current_number能被2整除，就执行continue，让Python忽略余下的代码，并返回循环开头。\n",
    "        # 如果不能被2整除，就执行余下的代码，打印该数字\n",
    "    \n",
    "    # 注意：print是与if语句模块平级的，if不成立时，顺序执行print语句的内容\n",
    "    print(current_number)\n",
    "    \n",
    "    \n",
    "    \n",
    "# 6-避免无限循环\n",
    "x = 1\n",
    "while x <= 5:\n",
    "    print(x)\n",
    "    x += 1 # 当漏写这条语句时，程序会陷入无限循环\n",
    "           # 当程序陷入无限循环时，可按Ctrl+c，也可关闭显示程序输出的终端窗口\n",
    "           # jupyter notebook中按Ctrl-c不管用，点上边的小方块‘中断服务’可中断"
   ]
  },
  {
   "cell_type": "markdown",
   "metadata": {},
   "source": [
    "## 7.3 使用while循环来处理列表和字典\n",
    "\n",
    "### 当需要记录大量数据时使用\n",
    "### for循环是一种遍历列表的有效方式，但不应修改列表，否则将导致Python难以跟踪其中的元素\n",
    "### 要在遍历列表的同时对其修改，可使用while循环\n",
    "### 通过while循环同列表和字典结合起来使用，可收集、存储并组织大量输入，供以后查看和显示"
   ]
  },
  {
   "cell_type": "markdown",
   "metadata": {},
   "source": [
    "### 小结：\n",
    "\n",
    "#### 在列表之间移动元素： while list_1:   a = list_1.pop()   list_2.append(a)   ---  可将list_1中的元素逐渐移动到list_2中\n",
    "#### 删除一个列表中多次出现的元素：while 'xx' in listname: listname.remove('xx') \n",
    "#### 使用用户输入填充字典：创建空字典--标志=True--while 标志: xx xxx xx input -- if xx: 标志 = False"
   ]
  },
  {
   "cell_type": "code",
   "execution_count": 2,
   "metadata": {},
   "outputs": [
    {
     "name": "stdout",
     "output_type": "stream",
     "text": [
      "Verifying user: Candace\n",
      "Verifying user: Brian\n",
      "Verifying user: Alice\n",
      "\n",
      "The following users have been confirmed:\n",
      "Candace\n",
      "Brian\n",
      "Alice\n"
     ]
    }
   ],
   "source": [
    "# confirmed_users.py\n",
    "# 1-在列表之间移动元素\n",
    "\n",
    "# 一个列表，包含新注册但未验证用户；验证后，将其移动到另一个已验证用户列表中\n",
    "# 先创建一个待验证用户列表和一个用于存储已验证用户的空列表\n",
    "unconfirmed_users = ['alice','brian','candace']\n",
    "confirmed_users = []\n",
    "\n",
    "# 验证每个用户，直到没有未验证用户为止\n",
    "# 将每个经过验证的列表都移到已验证用户列表中\n",
    "while unconfirmed_users:\n",
    "    current_user = unconfirmed_users.pop() # pop类似于弹栈，弹出最后一个（不在括号内指定索引时） - 3.2章出现过\n",
    "    \n",
    "    print('Verifying user: ' + current_user.title())\n",
    "    confirmed_users.append(current_user)\n",
    "    \n",
    "# 显示所有已验证的用户\n",
    "print('\\nThe following users have been confirmed:')\n",
    "for confirmed_user in confirmed_users:\n",
    "    print(confirmed_user.title())"
   ]
  },
  {
   "cell_type": "code",
   "execution_count": 4,
   "metadata": {},
   "outputs": [
    {
     "name": "stdout",
     "output_type": "stream",
     "text": [
      "['dog', 'cat', 'dog', 'goldfish', 'cat', 'rabbit', 'cat']\n",
      "['dog', 'dog', 'goldfish', 'rabbit']\n"
     ]
    }
   ],
   "source": [
    "# pets.py\n",
    "# 2-删除包含特定值的所有列表元素\n",
    "# 之前学到，remove()方法，可删除列表中特定值（要删除的值在列表中只出现一次） - 3.2章出现过\n",
    "\n",
    "# 一个宠物列表，其中包含多个‘cat’。要删除所有这些元素，可不断运行一个while循环，直到列表中不再包含‘cat’\n",
    "pets = ['dog','cat','dog','goldfish','cat','rabbit','cat']\n",
    "print(pets)\n",
    "\n",
    "while 'cat' in pets:    # in：首次出现在for语句 - for i in something （for语句中的in貌似也是一种布尔表达式...）\n",
    "                        # 5.2章-布尔表达式：检查特定值是否包含在列表中: 'x' in list_name - True or False\n",
    "    pets.remove('cat')\n",
    "\n",
    "print(pets)"
   ]
  },
  {
   "cell_type": "code",
   "execution_count": 6,
   "metadata": {
    "scrolled": true
   },
   "outputs": [
    {
     "name": "stdout",
     "output_type": "stream",
     "text": [
      "\n",
      "What is your name? tom\n",
      "Which mountain would you like to climeb someday? abs\n",
      "Would you like to let another person response? (yes/no) peter\n",
      "\n",
      "What is your name? bas\n",
      "Which mountain would you like to climeb someday? no\n",
      "Would you like to let another person response? (yes/no) no\n",
      "\n",
      "--- Poll Results ---\n",
      "tom would like to climb abs.\n",
      "bas would like to climb no.\n"
     ]
    }
   ],
   "source": [
    "# mountain_poll.py\n",
    "# 3-使用用户输入来填充字典\n",
    "\n",
    "# 一个调查程序，其中的循环每次执行时都提示输入被调查者的名字和回答。\n",
    "# 将收集到的数据存储在一个字典中，以便将回答同被调查者关联起来\n",
    "responses = {}\n",
    "\n",
    "# 设置一个标志，指出调查是否继续\n",
    "polling_active = True\n",
    "\n",
    "while polling_active:\n",
    "    # 提示输入被调查者的名字和回答\n",
    "    name = input('\\nWhat is your name? ')\n",
    "    response = input('Which mountain would you like to climeb someday? ')\n",
    "    \n",
    "    # 将答卷存储在字典中\n",
    "    responses[name] = response\n",
    "    \n",
    "    # 看看是否还有人要参与调查\n",
    "    # 如果input-yes，则polling_active没有变成False，就在循环内所有语句都执行之后，继续重新开始一轮循环\n",
    "    repeat = input('Would you like to let another person response? (yes/no) ')\n",
    "    if repeat == 'no':\n",
    "        polling_active = False\n",
    "    \n",
    "# 调查结束，显示结果\n",
    "print('\\n--- Poll Results ---')\n",
    "for name, response in responses.items():\n",
    "    print(name + ' would like to climb ' + response + '.')"
   ]
  }
 ],
 "metadata": {
  "kernelspec": {
   "display_name": "Python 3",
   "language": "python",
   "name": "python3"
  },
  "language_info": {
   "codemirror_mode": {
    "name": "ipython",
    "version": 3
   },
   "file_extension": ".py",
   "mimetype": "text/x-python",
   "name": "python",
   "nbconvert_exporter": "python",
   "pygments_lexer": "ipython3",
   "version": "3.7.0"
  }
 },
 "nbformat": 4,
 "nbformat_minor": 2
}
