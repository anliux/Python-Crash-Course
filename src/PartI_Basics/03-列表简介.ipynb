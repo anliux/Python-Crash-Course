{
 "cells": [
  {
   "cell_type": "markdown",
   "metadata": {},
   "source": [
    "# 第三章 列表简介\n",
    "\n",
    "知识点：列表的认识、创建、访问单个元素、修改、添加、删除、字母表排序、反转排序、求列表长度、索引注意事项"
   ]
  },
  {
   "cell_type": "markdown",
   "metadata": {},
   "source": [
    "## 3.1 认识列表\n",
    "\n",
    "### 用方括号（[ ] ）来表示列表，并用逗号来分隔其中的元素，print时包括方括号、引号、逗号等\n",
    "### 由一系列按特定顺序排列的元素组成; 可以将任何东西加入列表中"
   ]
  },
  {
   "cell_type": "markdown",
   "metadata": {},
   "source": [
    "### 小结：\n",
    "\n",
    "#### 列表的格式：listname = [ ,   ,    ,    ,  ] --- 方括号，逗号隔开\n",
    "#### 列表的访问：listname[n] -- 按索引n访问列表\n",
    "#### 索引从0开始（同数组），负数表示倒数第几个"
   ]
  },
  {
   "cell_type": "code",
   "execution_count": 48,
   "metadata": {},
   "outputs": [
    {
     "name": "stdout",
     "output_type": "stream",
     "text": [
      "['trek', 'cannondale', 'redline', 'specialized']\n",
      "trek\n",
      "specialized\n",
      "My first bicycles was a Trek.\n"
     ]
    }
   ],
   "source": [
    "# 列表\n",
    "# bicycles.py\n",
    "\n",
    "bicycles = ['trek','cannondale','redline','specialized']\n",
    "print(bicycles)\n",
    "\n",
    "\n",
    "\n",
    "# 访问列表\n",
    "print(bicycles[0]) # 访问该列表的第一个元素\n",
    "                   # 当你请求获取列表元素时，Python只返回该元素，而不包括方括号和引号\n",
    "\n",
    "\n",
    "\n",
    "# 索引：从0开始；[]中负数表示末尾第几个元素\n",
    "print(bicycles[-1])\n",
    "\n",
    "\n",
    "\n",
    "# 使用列表中的各个值\n",
    "# 例如，可以使用拼接创建消息\n",
    "message = 'My first bicycles was a ' + bicycles[0].title() + '.'\n",
    "print(message)"
   ]
  },
  {
   "cell_type": "markdown",
   "metadata": {},
   "source": [
    "## 3.2 修改、添加、删除元素"
   ]
  },
  {
   "cell_type": "markdown",
   "metadata": {},
   "source": [
    "### 小结：\n",
    "\n",
    "#### 修改：listname[n] = '新' -- 将索引n对应的元素换位'新'\n",
    "#### 添加：listname.append('新') -- 将'新'添加到list的末尾\n",
    "#### 添加应用：动态地创建列表 -- 先创建空列表，然后一系列append添加 -- listname=[]  listname.append('新')\n",
    "#### 插入：listname.insert(n, '新') -- 在listname的索引n处插入新元素'新'\n",
    "#### 删除：del语句；pop()方法；remove()方法    \n",
    "#### pop有返回值，remove没有返回值\n",
    "\n",
    "#### del listname[n]：知道要删除的元素在列表中的位置时使用。删除后无法再访问它。\n",
    "#### a = listname.pop()：类似弹栈，弹出最后一个，并且返回该元素的值；弹出后仍能使用或访问这个值\n",
    "#### a = listname.pop(n)：弹出索引n对应的元素；弹出后仍能使用\n",
    "#### listname.remove('列表中某元素')：只知道要删除元素的值，不知道索引时；移除列表中某个值的第一个匹配项；没有返回值"
   ]
  },
  {
   "cell_type": "code",
   "execution_count": 1,
   "metadata": {},
   "outputs": [
    {
     "name": "stdout",
     "output_type": "stream",
     "text": [
      "原列表motorcycles：\n",
      "['honda', 'yamaha', 'suzuki']\n",
      "\n",
      "修改：\n",
      "['ducati', 'yamaha', 'suzuki']\n",
      "\n",
      "添加1：末尾添加honda\n",
      "['ducati', 'yamaha', 'suzuki', 'honda']\n",
      "\n",
      "新列表motor：\n",
      "['honda', 'yamaha', 'suzuki']\n",
      "\n",
      "添加2：中间插入changhong\n",
      "['ducati', 'yamaha', 'changhong', 'suzuki', 'honda']\n",
      "\n",
      "删除1：del第一个元素ducati\n",
      "['yamaha', 'changhong', 'suzuki', 'honda']\n",
      "\n",
      "The last motorcycle I owned was a Honda.\n",
      "删除2：pop最后一个元素honda\n",
      "['yamaha', 'changhong', 'suzuki']\n",
      "\n",
      "The first motorcycles I owned was a Yamaha.\n",
      "删除3：pop指定位置元素[0]的yamaha\n",
      "['changhong', 'suzuki']\n",
      "\n",
      "删除4：remove删除指定的元素值suzuki\n",
      "['changhong']\n",
      "\n",
      "A Suzuki is too expensive for me.\n",
      "None\n"
     ]
    }
   ],
   "source": [
    "# motorcycles.py\n",
    "motorcycles = ['honda','yamaha','suzuki']\n",
    "print('原列表motorcycles：')\n",
    "print(motorcycles)\n",
    "\n",
    "\n",
    "# 修改：\n",
    "# 指定列表名和要修改的元素的索引，再指定该元素的新值\n",
    "motorcycles[0] = 'ducati'\n",
    "print('\\n修改：')\n",
    "print(motorcycles)\n",
    "\n",
    "\n",
    "\n",
    "# 添加：\n",
    "# 使用方法：末尾-append('新元素')；中间-insert（索引,'新元素'）\n",
    "# 1-末尾添加新元素:append()\n",
    "motorcycles.append('honda')\n",
    "print('\\n添加1：末尾添加honda')\n",
    "print(motorcycles)\n",
    "\n",
    "# 使用这个方法可以让动态地创建列表易如反掌，先创建一个空列表，再使用一系列append()。\n",
    "# 因为通常是程序运行后，才知道要存储哪些数据\n",
    "motor = []\n",
    "motor.append('honda')\n",
    "motor.append('yamaha')\n",
    "motor.append('suzuki')\n",
    "print('\\n新列表motor：')\n",
    "print(motor)\n",
    "\n",
    "# 2-中间插入新元素:insert()\n",
    "motorcycles.insert(2,'changhong')\n",
    "print('\\n添加2：中间插入changhong')\n",
    "print(motorcycles)\n",
    "\n",
    "\n",
    "\n",
    "# 删除：\n",
    "# del语句；pop()方法；remove()方法\n",
    "# del后元素值不可再用，pop和remove之后依然可以用值。(存疑：是不是remove也不行？见最后一个print测试)\n",
    "# 是不是语句不可赋值给变量，而方法可以？？\n",
    "\n",
    "# 1-del语句：知道要删除的元素在列表中的位置时使用。删除后无法再访问它。\n",
    "del motorcycles[0]\n",
    "print('\\n删除1：del第一个元素ducati')\n",
    "print(motorcycles)\n",
    "\n",
    "# 2-pop()方法-弹出：弹出后仍然能使用（或访问）该值\n",
    "last_owned = motorcycles.pop()  # 类似于弹栈 - 弹出最后的，即按时间线来说最后购买的那一款摩托车\n",
    "print('\\nThe last motorcycle I owned was a '+last_owned.title()+'.')\n",
    "print('删除2：pop最后一个元素honda')\n",
    "print(motorcycles)\n",
    "\n",
    "# 3-pop(索引)-删除任意位置的元素，在括号中指定要删除的元素的索引即可。\n",
    "first_owned = motorcycles.pop(0)\n",
    "print('\\nThe first motorcycles I owned was a ' + first_owned.title() + '.')\n",
    "print('删除3：pop指定位置元素[0]的yamaha')\n",
    "print(motorcycles)\n",
    "\n",
    "# 4-remove()-只知道要删除元素的值，不知道元素所处的位置时,删除后依然可以用\n",
    "# 方法remove() - 移除列表中某个值的第一个匹配项。\n",
    "# 如果要删除的值可能在列表中出现多次，就需要使用循环来判断是否删除了所有这样的值。你将在第7章学习如何这样做。\n",
    "# 该方法没有返回值（见最后一句测试。说明移除后仍可用是个伪命题）\n",
    "too_expensive = 'suzuki' \n",
    "a = motorcycles.remove(too_expensive) # 事实上因为remove没有返回值，所以赋值给a没有作用。不必赋值给a\n",
    "print('\\n删除4：remove删除指定的元素值suzuki')\n",
    "print(motorcycles)\n",
    "print('\\nA '+too_expensive.title()+' is too expensive for me.')\n",
    "print(a)  # 返回none啊.."
   ]
  },
  {
   "cell_type": "markdown",
   "metadata": {},
   "source": [
    "## 3.3 组织列表\n",
    "\n",
    "### 各种方式的排序"
   ]
  },
  {
   "cell_type": "markdown",
   "metadata": {},
   "source": [
    "### 小结：\n",
    "\n",
    "#### 不同方式的排序：sort(); sorted(); reverse()\n",
    "#### listname.sort()：永久性排序，字母表顺序，a前z后，大写前小写后\n",
    "#### listname.sort(reverse = True)：永久性排序，字母表逆序\n",
    "#### sorted(listname)：临时性排序，字母表顺序，可赋值给变量后使用\n",
    "#### sorted(listname, reverse = True)：临时性排序，字母表逆序\n",
    "#### listname.reverse()：永久性修改，但随时可以恢复；倒着打印，注意是反转列表顺序，与字母表顺序无关\n",
    "#### len(listname)：返回列表长度，可赋值给变量后使用"
   ]
  },
  {
   "cell_type": "code",
   "execution_count": 5,
   "metadata": {
    "scrolled": false
   },
   "outputs": [
    {
     "name": "stdout",
     "output_type": "stream",
     "text": [
      "按字母表顺序排序：\n",
      "['audi', 'bmw', 'subaru', 'toyota']\n",
      "\n",
      "按字母表逆序排序：\n",
      "['toyota', 'subaru', 'bmw', 'audi']\n",
      "\n",
      "Here is the original list:\n",
      "['bmw', 'audi', 'toyota', 'subaru']\n",
      "\n",
      "Here is the sorted list:\n",
      "['audi', 'bmw', 'subaru', 'toyota']\n",
      "['audi', 'bmw', 'subaru', 'toyota']\n",
      "\n",
      "Here is the reverse alphabetical list:\n",
      "['toyota', 'subaru', 'bmw', 'audi']\n",
      "\n",
      "Here is the original list again:\n",
      "['bmw', 'audi', 'toyota', 'subaru']\n",
      "\n",
      "倒着打印列表演示：\n",
      "['bmw', 'audi', 'toyota', 'subaru']\n",
      "['subaru', 'toyota', 'audi', 'bmw']\n",
      "\n",
      "输出列表长度：\n",
      "4\n",
      "4\n"
     ]
    }
   ],
   "source": [
    "# 1-sort()-永久性；2-sorted()-临时性；\n",
    "# cars.py\n",
    "\n",
    "# sort()-对列表永久性排序（假设所有值都是小写;大小写混合时大写在前）\n",
    "cars = ['bmw','audi','toyota','subaru']\n",
    "print('按字母表顺序排序：')\n",
    "cars.sort()\n",
    "print(cars)\n",
    "\n",
    "# sort(reverse=True)-按字母表逆序排序，永久性\n",
    "print('\\n按字母表逆序排序：')\n",
    "cars.sort(reverse=True)\n",
    "print(cars)\n",
    "\n",
    "\n",
    "\n",
    "# sorted()-对列表进行临时排序\n",
    "cars = ['bmw','audi','toyota','subaru']\n",
    "print('\\nHere is the original list:')\n",
    "print(cars)\n",
    "\n",
    "print('\\nHere is the sorted list:')\n",
    "print(sorted(cars))\n",
    "abc = sorted(cars)\n",
    "print(abc)\n",
    "\n",
    "print('\\nHere is the reverse alphabetical list:')\n",
    "print(sorted(cars,reverse=True)) # 注意这一条：用sorted逆序排序的正确格式\n",
    "\n",
    "print('\\nHere is the original list again:')\n",
    "print(cars)\n",
    "\n",
    "\n",
    "\n",
    "# reverse()-倒着打印列表，永久性修改，但随时可以恢复到原来的排序\n",
    "# 注意：不是按与字母顺序相反的顺序，而是反转列表元素的顺序排列\n",
    "carss = ['bmw','audi','toyota','subaru']\n",
    "print('\\n倒着打印列表演示：')\n",
    "print(carss)\n",
    "\n",
    "carss.reverse()\n",
    "print(carss)\n",
    "\n",
    "\n",
    "\n",
    "# len()-列表长度\n",
    "print('\\n输出列表长度：')\n",
    "print(len(carss))\n",
    "acda = len(carss)\n",
    "print(acda)"
   ]
  },
  {
   "cell_type": "markdown",
   "metadata": {},
   "source": [
    "## 3.4 使用列表索引时避免错误\n",
    "\n",
    "#### 1 - 索引从0开始\n",
    "#### 2 - ‘-1’在任何时候都可以用来指向最后一个元素，除非列表为空才报错\n",
    "#### 3 - 发生索引错误却找不到解决方法时，可将列表或其长度打印出来，可以与自己以为的截然不同。"
   ]
  }
 ],
 "metadata": {
  "kernelspec": {
   "display_name": "Python 3",
   "language": "python",
   "name": "python3"
  },
  "language_info": {
   "codemirror_mode": {
    "name": "ipython",
    "version": 3
   },
   "file_extension": ".py",
   "mimetype": "text/x-python",
   "name": "python",
   "nbconvert_exporter": "python",
   "pygments_lexer": "ipython3",
   "version": "3.7.0"
  }
 },
 "nbformat": 4,
 "nbformat_minor": 2
}
