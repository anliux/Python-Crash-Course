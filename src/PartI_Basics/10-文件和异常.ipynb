{
 "cells": [
  {
   "cell_type": "markdown",
   "metadata": {},
   "source": [
    "# 第十章 文件和异常\n",
    "\n",
    "知识点：open()打开文件并返回文件对象、绝对路径和相对路径、不同系统中路径的斜杠或反斜杠、with关键字与close()、read()读取文件并返回字符串、strip()删除空格、逐行读取、readline()、readliens()、读取文本文件默认为字符串若需要数字需转换、open(filename,'w')、模式实参、写入模式注意覆盖、只能将字符串写入文本文件(必要时str转换)、写入多行(write()语句中添加换行、制表符、空格等)、附加模式'a'(不覆盖原有内容，将新写入添加到末尾)、指定文件名不存在时自动新建并写入、try-except-else代码块(格式、功能等)、split()方法、pass语句(什么都不做语句)、JSON文件的写入和读取(json.dump()和json.load())、及时考虑错误处理(读取文件时考虑FileNotFoundError等可能的错误)、代码重构"
   ]
  },
  {
   "cell_type": "markdown",
   "metadata": {},
   "source": [
    "## 10.1 从文件中读取数据\n",
    "\n",
    "#### rstrip()方法：删除字符串末尾多余的空行（如10.1.1）\n",
    "\n",
    "#### strip()方法：删除字符串两边的空格（如10.1.5）\n",
    "\n",
    "#### readline()-读取每个字符； readlines()-读取每一行 ---- 一般用在for循环中（如10.1.4）"
   ]
  },
  {
   "cell_type": "markdown",
   "metadata": {},
   "source": [
    "### 小结：\n",
    "\n",
    "#### 读取整个文件：\n",
    "#### 函数open()：传入要打开的文件的名称，返回一个‘表示文件的对象’，并存储在指定变量中(file_object)\n",
    "    open()之后Python会在当前执行的文件所在的目录找那个查找指定的文件\n",
    "#### open()是默认打开当前文件夹下的文件，否则需要提供文件路径\n",
    "    Windows系统中，在文件路径中使用反斜杠（ \\ ）而不是斜杠（ / ）\n",
    "    绝对路径：程序在电脑中的完整路径那种路径\n",
    "    相对路径：在当前py程序文件目录下有的文件夹路径，可以直接省略程序文件所在，直接写文件夹名字+文件名\n",
    "#### 当前文件夹下文件打开：格式：with open('filename.txt') as file_object:xxx\n",
    "#### 非当前文件夹下文件打开：相对路径和绝对路径\n",
    "#### 相对路径：省略程序所在路径的部分（绝对路径中前面的部分可以省略）\n",
    "#### 格式：with open('text_files\\filename.txt') as file_object: \n",
    "    程序所在路径下的text_files的文件夹，名为filename.txt的文件时\n",
    "#### 绝对路径：提供完整的路径。注意win系统中使用反斜杠，linux和OS X中使用斜杠\n",
    "#### 格式：绝对路径内容太长可单独存放在变量中先。\n",
    "    file_path = '/home/ehmatthes/other_files/text_files/filename.txt' \n",
    "    with open(file_path) as file_object:\n",
    "\n",
    "#### 关键字with：在不再需要访问文件后将其关闭。\n",
    "    若手动使用close()关闭，可能存在过早或过晚关闭文件导致的错误，用with结构则不存在这样的问题\n",
    "#### 读取文件 -- 格式：abc = file_object.read()\n",
    "    open拿到文件对象后，使用方法read()读取这个文件的全部内容，并作为一个‘长字符串’存储在变量abc中\n",
    "#### rstrip()方法：删除字符串末尾多余的空行\n",
    "#### strip()方法：删除字符串两边的空格(没记错的话应该是这样，lstrip()是删除左边的空格)\n",
    "#### 逐行读取：for循环+line方法（rstrip配合食用）\n",
    "      格式：for line in file_object: # file_object\n",
    "      注：for line in listname: xxx -- 这里listname是按行的，for语句默认逐行读取了，略迷\n",
    "#### 将读取到的各行存储在列表中：\n",
    "      with关键字：open()返回的文件对象只在with代码块内可用\n",
    "      如想在with代码块外访问文件内容，可在with代码块内将文件的各行存储在一个列表中\n",
    "      with open(filename) as file_object:\n",
    "          lines = file_object.readlines() # 读取每一行并存储在变量lines中作为一个列表\n",
    "#### readline() - 读取单个字符，readlines() - 读取每一行\n",
    "#### 读取文本文件时，将其中所有文本都默认为字符串。可按需使用int()或float()将其转换为数字\n",
    "#### 生日在pi中小代码片段"
   ]
  },
  {
   "cell_type": "code",
   "execution_count": 31,
   "metadata": {},
   "outputs": [
    {
     "name": "stdout",
     "output_type": "stream",
     "text": [
      "3.1415926535\n",
      "  8979323846\n",
      "  2643383279\n",
      "3.1415926535\n",
      "  8979323846\n",
      "  2643383279\n"
     ]
    }
   ],
   "source": [
    "# 1-读取整个文件\n",
    "\n",
    "# 在本文件所在目录下新建文本文件pi_digits.txt\n",
    "\n",
    "# file_reader.py\n",
    "with open('pi_digits.txt') as file_object:\n",
    "    \n",
    "    # 函数open()接收一个参数：要打开的文件的名称。返回一个‘表示文件的对象’，并储存在指定变量中\n",
    "    # open()之后Python会在当前执行的文件所在的目录找那个查找指定的文件\n",
    "    # 关键字with：在不再需要访问文件后将其关闭。若手动使用close()关闭，可能存在过早或过晚关闭文件导致的错误，用with结构则不存在这样的问题\n",
    "    \n",
    "    contents = file_object.read()\n",
    "    # 前面拿到文件对象后，这一步使用方法read()读取这个文件的全部内容，并将其作为一个‘长字符串’存储在变量中\n",
    "    \n",
    "    print(contents)\n",
    "    # 据说此处有空行故使用下一行去掉多余的空行，然而好像并不....\n",
    "    \n",
    "    print(contents.rstrip())\n",
    "    # rstrip()方法 - 可以删除字符串末尾多余的空行    "
   ]
  },
  {
   "cell_type": "code",
   "execution_count": null,
   "metadata": {},
   "outputs": [],
   "source": [
    "# 2-文件路径\n",
    "\n",
    "# 只用open()是默认打开当前文件夹下的文件\n",
    "# 要打开与Python程序文件不位于同一个目录中的文件时，需要提供文件路径\n",
    "# 在Windows系统中，在文件路径中使用反斜杠（ \\ ）而不是斜杠（ / ）：\n",
    "\n",
    "# 此处涉及‘绝对文件路径’和‘相对文件路径’两个概念\n",
    "# 绝对路径：程序在电脑中的完整路径那种路径\n",
    "# 相对路径：在当前py程序文件目录下有的文件夹路径，可以直接省略程序文件所在，直接写文件夹名字+文件名\n",
    "\n",
    "with open('text_files\\filename.txt') as file_object:\n",
    "    # 相对路径：假设程序所在路径下有一个叫做text_files的文件夹，里面有个名为filename.txt的文件时\n",
    "    \n",
    "file_path = '/home/ehmatthes/other_files/text_files/filename.txt' # linux和OS X中的绝对路径，使用斜杠\n",
    "with open(file_path) as file_object:\n",
    "    # 绝对路径：提供完整的路径。注意win系统中使用反斜杠"
   ]
  },
  {
   "cell_type": "code",
   "execution_count": 33,
   "metadata": {},
   "outputs": [
    {
     "name": "stdout",
     "output_type": "stream",
     "text": [
      "3.1415926535\n",
      "  8979323846\n",
      "  2643383279\n"
     ]
    }
   ],
   "source": [
    "# 3-逐行读取\n",
    "\n",
    "# 若要以每次一行的方式检查文件，可使用for循环\n",
    "filename = 'pi_digits.txt'\n",
    "\n",
    "with open(filename) as file_object:\n",
    "    for line in file_object:\n",
    "        print(line.rstrip())"
   ]
  },
  {
   "cell_type": "code",
   "execution_count": 37,
   "metadata": {},
   "outputs": [
    {
     "name": "stdout",
     "output_type": "stream",
     "text": [
      "3.1415926535\n",
      "  8979323846\n",
      "  2643383279\n"
     ]
    }
   ],
   "source": [
    "# 4-创建一个包含文件各行内容的列表\n",
    "\n",
    "# with关键字：open()返回的文件对象只在with代码块内可用\n",
    "# 如想在with代码块外访问文件内容，可在with代码块内将文件的各行存储在一个列表中\n",
    "# （这里说的存储在一个列表中，也可以理解为存储在一个变量中吧，大概..）\n",
    "filename = 'pi_digits.txt'\n",
    "with open(filename) as file_object:\n",
    "    lines = file_object.readlines() # readline()-为读取单个字符，加s后为读取每一行\n",
    "    \n",
    "for line in lines:\n",
    "    print(line.rstrip())"
   ]
  },
  {
   "cell_type": "code",
   "execution_count": 39,
   "metadata": {},
   "outputs": [
    {
     "name": "stdout",
     "output_type": "stream",
     "text": [
      "3.141592653589793238462643383279\n",
      "32\n"
     ]
    }
   ],
   "source": [
    "# 5-使用文件的内容\n",
    "\n",
    "# pi_string.py\n",
    "filename = 'pi_digits.txt'\n",
    "\n",
    "with open(filename) as file_object:\n",
    "    lines = file_object.readlines()\n",
    "    \n",
    "pi_string = ''\n",
    "for line in lines:\n",
    "    pi_string += line.strip() # 删除每行左边的空格，使用strip()，字符串len由36变为32\n",
    "                              # strip是左右的空格都删掉吧，这里教材是上面那样写的，事实上就...自行判断\n",
    "    \n",
    "print(pi_string)\n",
    "print(len(pi_string))\n",
    "\n",
    "# 注意!!!\n",
    "# 读取文本文件时，将其中所有文本都默认为字符串。若想将数字作为数字使用，请使用int()或float()将其转换为数字"
   ]
  },
  {
   "cell_type": "code",
   "execution_count": null,
   "metadata": {},
   "outputs": [],
   "source": [
    "# 6-包含一百万位的大型文件\n",
    "\n",
    "# 无需改变程序，只需将导入的文件txt里进行修改，如保留小数点后1000000位之类的\n",
    "\n",
    "# 这一段是想表明：只要系统的内存足够多，Python对可处理的数据量没有任何限制（这个比java的分配内存强，但容易浪费内存叭）"
   ]
  },
  {
   "cell_type": "code",
   "execution_count": 43,
   "metadata": {},
   "outputs": [
    {
     "name": "stdout",
     "output_type": "stream",
     "text": [
      "Enter your birthday, in the form mmddyy:1123\n",
      "Your birthday appears in the first million digits of pi!\n"
     ]
    }
   ],
   "source": [
    "# 7-圆周率中包含你的生日吗\n",
    "\n",
    "# 可将生日表示为一个由数字组成的字符串，再检查这个字符串是否包含在pi_string中\n",
    "\n",
    "filename = 'pi_million_digits.txt'\n",
    "\n",
    "with open(filename) as file_object:\n",
    "    lines = file_object.readlines()\n",
    "    \n",
    "pi_string = ''\n",
    "for line in lines:\n",
    "    pi_string += line.rstrip()\n",
    "    \n",
    "birthday = input('Enter your birthday, in the form mmddyy:')\n",
    "if birthday in pi_string:\n",
    "    print('Your birthday appears in the first million digits of pi!')\n",
    "else:\n",
    "    print('Your birthday does not appear in the first million digits of pi.')"
   ]
  },
  {
   "cell_type": "markdown",
   "metadata": {},
   "source": [
    "## 10.2 写入文件\n",
    "\n",
    "### write()方法：写入"
   ]
  },
  {
   "cell_type": "markdown",
   "metadata": {},
   "source": [
    "### 小结：\n",
    "\n",
    "#### 写入格式：with open(filename,'w') as file_object: file_object.write('xxxxx.')\n",
    "#### open的第一个实参是要打开的文件的名称；第二个实参表示打开这个文件所用的模式\n",
    "#### 模式实参：读取模式'r'，写入模式'w'，附加模式'a'，读取+写入模式'r+'\n",
    "#### 省略了模式实参时，将以默认的只读模式打开文件   \n",
    "#### 当要写入的文件不存在时，函数open()将自动创建它\n",
    "#### w模式要小心：如果指定文件已存在，在返回文件对象前清空（覆盖？？）该文件\n",
    "#### 只能将字符串写入文本文件中。\n",
    "        若要将数值数据存储到文本文件中，必须先使用str()将其转换为字符串\n",
    "#### 写入多行：write()不会在写入的文本末尾添加换行符，需要在语句中包含换行符、制表符、空格等\n",
    "####     \n",
    "#### 附加到文件：\n",
    "#### 用附加模式'a'打开文件：写入到文件的行都将添加到文件末尾。\n",
    "#### 如果指定的文件不存在，将创建一个空文件"
   ]
  },
  {
   "cell_type": "code",
   "execution_count": 44,
   "metadata": {},
   "outputs": [],
   "source": [
    "# 1-写入空文件\n",
    "# write_message.py\n",
    "\n",
    "filename = 'programming.txt'\n",
    "\n",
    "with open(filename,'w') as file_object:\n",
    "    # open的第一个实参是要打开的文件的名称；第二个实参w表示要以‘写入模式’打开这个文件\n",
    "    # 打开文件时，可指定：读取模式'r'，写入模式'w'，附加模式'a'，读取+写入模式'r+'\n",
    "    # 省略了模式实参时，将以默认的只读模式打开文件\n",
    "    \n",
    "    # 当要写入的文件不存在时（比如本例子），函数open()将自动创建它\n",
    "    # w模式要小心：如果指定文件已存在，Python将在返回文件对象前清空（覆盖？？）该文件\n",
    "    \n",
    "    file_object.write('I love programming.')\n",
    "    \n",
    "# 注意：只能将字符串写入文本文件中。若要将数值数据存储到文本文件中，必须先使用str()将其转换为字符串"
   ]
  },
  {
   "cell_type": "code",
   "execution_count": 46,
   "metadata": {},
   "outputs": [],
   "source": [
    "# 2-写入多行\n",
    "\n",
    "# write()不会在写入的文本末尾添加换行符\n",
    "# 要让每个字符串都单独占一行，需要在write()语句中包含换行符\n",
    "\n",
    "filename = 'programming.txt'\n",
    "\n",
    "with open(filename,'w') as file_object:\n",
    "    file_object.write('I love programming.\\n')\n",
    "    file_object.write('I love creating new games.\\n')\n",
    "    \n",
    "# 像显示到终端的输出一样，还可以使用空格、制表符和空行来设置这些输出格式。"
   ]
  },
  {
   "cell_type": "code",
   "execution_count": 48,
   "metadata": {},
   "outputs": [],
   "source": [
    "# 3-附加到文件\n",
    "\n",
    "# 用附加模式打开文件，Python不会在返回文件对象前清空文件。写入到文件的行都将添加到文件末尾。\n",
    "# 如果指定的文件不存在，Python将为你创建一个空文件\n",
    "\n",
    "# write_message.py\n",
    "\n",
    "filename = 'programming.txt'\n",
    "\n",
    "with open(filename,'a') as file_object:\n",
    "    file_object.write('I also love finding meaning in large datasets.\\n')\n",
    "    file_object.write('I love creating apps that can run in a browser.\\n')\n",
    "    \n",
    "# 结果是：文件原来的内容还在，后面紧接着是刚添加的内容。"
   ]
  },
  {
   "cell_type": "markdown",
   "metadata": {},
   "source": [
    "## 10.3 异常\n",
    "\n",
    "#### 当发生让Python不知所措的错误时，它都会创建一个异常对象。\n",
    "#### 如果你编写了处理该异常的代码，程序将继续运行。\n",
    "#### 否则，程序将停止，并显示一个traceback，其中包含有关异常的报告\n",
    "\n",
    "### try-except-else代码块：出现异常，程序也将继续运行，并显示编写好的友好的错误信息。\n",
    "\n",
    "### split()方法：根据一个字符串，按照空格创建一个单词列表"
   ]
  },
  {
   "cell_type": "markdown",
   "metadata": {},
   "source": [
    "### 小结：\n",
    "\n",
    "#### try-except-else代码块：类似于if-else代码块，可帮助程序友好、安全地执行\n",
    "#### 安全：将可能发生错误的除法部分放到try-except代码块中，防止恶意崩坏\n",
    "#### 格式：try: xxx    except xxxError: yyy    else: zzz\n",
    "           尝试执行xxx：如果xxx错误，则yyy；否则，zzz\n",
    "           try顺序执行：\n",
    "               如果出现except错误，执行except语句；\n",
    "               如果没有出现except错误，跳过except部分，继续执行(若有else，执行else语句)；\n",
    "           try必执行，except相当于if xx，else可省略\n",
    "####   \n",
    "#### split()方法：将字符串按照空格划分，创建为单词列表(字符列表)(没有空格按一个单词创建)\n",
    "#### 格式：a = strname.split()  --  根据strname中的字符串生成单词列表\n",
    "####   \n",
    "#### 多个文件：def封装功能并配合for循环食用\n",
    "#### pass语句：可在代码块中使用来让Python什么都不要做\n",
    "        eg：except xxxError: pass\n",
    "           则预设错误出现时，什么都不做，继续执行程序的其他部分"
   ]
  },
  {
   "cell_type": "code",
   "execution_count": 50,
   "metadata": {},
   "outputs": [
    {
     "ename": "ZeroDivisionError",
     "evalue": "division by zero",
     "output_type": "error",
     "traceback": [
      "\u001b[1;31m---------------------------------------------------------------------------\u001b[0m",
      "\u001b[1;31mZeroDivisionError\u001b[0m                         Traceback (most recent call last)",
      "\u001b[1;32m<ipython-input-50-e2a7f46f1e5f>\u001b[0m in \u001b[0;36m<module>\u001b[1;34m\u001b[0m\n\u001b[0;32m      5\u001b[0m \u001b[1;31m# 将一个数字除以0\u001b[0m\u001b[1;33m\u001b[0m\u001b[1;33m\u001b[0m\u001b[0m\n\u001b[0;32m      6\u001b[0m \u001b[1;33m\u001b[0m\u001b[0m\n\u001b[1;32m----> 7\u001b[1;33m \u001b[0mprint\u001b[0m\u001b[1;33m(\u001b[0m\u001b[1;36m5\u001b[0m\u001b[1;33m/\u001b[0m\u001b[1;36m0\u001b[0m\u001b[1;33m)\u001b[0m\u001b[1;33m\u001b[0m\u001b[0m\n\u001b[0m\u001b[0;32m      8\u001b[0m \u001b[1;31m# ZeroDivisionError: division by zero\u001b[0m\u001b[1;33m\u001b[0m\u001b[1;33m\u001b[0m\u001b[0m\n",
      "\u001b[1;31mZeroDivisionError\u001b[0m: division by zero"
     ]
    }
   ],
   "source": [
    "# 1-处理ZeroDivisionError异常\n",
    "# 只是演示错误。后一小节开始介绍如何处理错误\n",
    "\n",
    "# division.py\n",
    "# 将一个数字除以0\n",
    "\n",
    "print(5/0)\n",
    "# ZeroDivisionError: division by zero"
   ]
  },
  {
   "cell_type": "code",
   "execution_count": 51,
   "metadata": {},
   "outputs": [
    {
     "name": "stdout",
     "output_type": "stream",
     "text": [
      "You cant divide by zero!\n"
     ]
    }
   ],
   "source": [
    "# 2-try-except代码块\n",
    "\n",
    "# 可能发生错误时，可编写一个try-except代码块来处理可能引发的异常。即告诉它如果引发了指定的异常，该怎么做。\n",
    "\n",
    "# 有点像if-else的意思\n",
    "try:\n",
    "    print(5/0)\n",
    "except ZeroDivisionError:\n",
    "    print('You cant divide by zero!')"
   ]
  },
  {
   "cell_type": "code",
   "execution_count": 52,
   "metadata": {},
   "outputs": [
    {
     "name": "stdout",
     "output_type": "stream",
     "text": [
      "Give me two numbers, and Ill divide them.\n",
      "Enter 'q' to quit.\n",
      "\n",
      "First number:12\n",
      "Second number:3\n",
      "4.0\n",
      "\n",
      "First number:q\n"
     ]
    }
   ],
   "source": [
    "# 3-使用异常避免崩溃\n",
    "# 捕获错误后程序继续运行的示例\n",
    "\n",
    "# division.py\n",
    "# 创建一个只执行除法运算的简单计算器\n",
    "\n",
    "print('Give me two numbers, and Ill divide them.')\n",
    "print(\"Enter 'q' to quit.\")\n",
    "\n",
    "while True:\n",
    "    first_number = input('\\nFirst number:')\n",
    "    if first_number == 'q':\n",
    "        break\n",
    "    second_number = input('Second number:')\n",
    "    if second_number == 'q':\n",
    "        break\n",
    "    answer = int(first_number)/int(second_number)\n",
    "    print(answer)\n",
    "\n",
    "# 这种裸代码是不安全的，当用户输入错误或怀有恶意是程序将崩溃"
   ]
  },
  {
   "cell_type": "code",
   "execution_count": 54,
   "metadata": {},
   "outputs": [
    {
     "name": "stdout",
     "output_type": "stream",
     "text": [
      "Give me two numbers, and Ill divide them.\n",
      "Enter 'q' to quit.\n",
      "\n",
      "First number:1234\n",
      "Second number:0\n",
      "You cant divide by 0!\n",
      "4.0\n",
      "\n",
      "First number:q\n"
     ]
    }
   ],
   "source": [
    "# 4-else代码块\n",
    "\n",
    "# 将可能发生错误的除法部分放到try-except代码块中\n",
    "# else代码块：\n",
    "\n",
    "print('Give me two numbers, and Ill divide them.')\n",
    "print(\"Enter 'q' to quit.\")\n",
    "\n",
    "while True:\n",
    "    first_number = input('\\nFirst number:')\n",
    "    if first_number == 'q':\n",
    "        break\n",
    "    second_number = input('Second number:')\n",
    "    if second_number == 'q':\n",
    "        break\n",
    "    try:\n",
    "        answer = int(first_number)/int(second_number)\n",
    "    except ZeroDivisionError:\n",
    "        print('You cant divide by 0!')\n",
    "    print(answer)\n",
    "\n",
    "# 这一条里的answer竟然还保存着上一个cell里的答案4.0....服了。。。。"
   ]
  },
  {
   "cell_type": "code",
   "execution_count": 57,
   "metadata": {},
   "outputs": [
    {
     "name": "stdout",
     "output_type": "stream",
     "text": [
      "Sorry, the file alice.txt does not exist.\n"
     ]
    }
   ],
   "source": [
    "# 5-处理FileNotFoundError异常\n",
    "\n",
    "# alice.py\n",
    "\n",
    "filename = 'alice.txt'\n",
    "try:\n",
    "    with open(filename) as f_obj:\n",
    "        contents = f_obj.read()\n",
    "except FileNotFoundError:\n",
    "    msg = \"Sorry, the file \" + filename + \" does not exist.\"\n",
    "    print(msg)"
   ]
  },
  {
   "cell_type": "code",
   "execution_count": 1,
   "metadata": {},
   "outputs": [
    {
     "name": "stdout",
     "output_type": "stream",
     "text": [
      "['Alice', 'in', 'Wonderland']\n",
      "['AliceInWonderland']\n",
      "The file alice.txt has about 29461 words.\n"
     ]
    }
   ],
   "source": [
    "# 6-分析文本\n",
    "\n",
    "# 提取童话《爱丽丝梦游仙境》并尝试计算它包含多少个单词\n",
    "\n",
    "# split()方法：根据一个字符串创建一个单词列表\n",
    "title = 'Alice in Wonderland'\n",
    "s = title.split()\n",
    "print(s)\n",
    "# ['Alice', 'in', 'Wonderland']\n",
    "\n",
    "# 测试：只有一个单词的情况下，生成只含一个单词的列表\n",
    "title2 = 'AliceInWonderland'\n",
    "ss = title2.split()\n",
    "print(ss)\n",
    "\n",
    "\n",
    "# alice.py\n",
    "filename = 'alice.txt'\n",
    "\n",
    "try:\n",
    "    with open(filename) as f_obj:\n",
    "        contents = f_obj.read()\n",
    "except FileNotFoundError:\n",
    "    msg = 'Sorry, the file ' + filename + ' does not exist.'\n",
    "    print(msg)\n",
    "else:\n",
    "    # 计算文件大致包含多少个单词\n",
    "    words = contents.split()\n",
    "    num_words = len(words)\n",
    "    print('The file ' + filename + ' has about ' + str(num_words) + ' words.')"
   ]
  },
  {
   "cell_type": "code",
   "execution_count": 63,
   "metadata": {
    "scrolled": true
   },
   "outputs": [
    {
     "name": "stdout",
     "output_type": "stream",
     "text": [
      "This file alice.txt has about 29461 words.\n",
      "This file alice.txt has about 29461 words.\n",
      "This file siddhartha.txt has about 42172 words.\n",
      "Sorry, the file moby_dick.txt dose not exist.\n",
      "This file little_women.txt has about 189079 words.\n"
     ]
    }
   ],
   "source": [
    "# 7-使用多个文件\n",
    "\n",
    "# 将代码的大部分移动到一个名为count_words()的函数中，这样对多本书进行分析时更容易\n",
    "# word_count.py\n",
    "\n",
    "def count_words(filename):\n",
    "    \"\"\"计算一个文件大致包含多少个单词\"\"\"\n",
    "    try:\n",
    "        with open(filename) as f_obj:\n",
    "            contents = f_obj.read()\n",
    "    except FileNotFoundError:\n",
    "        msg = 'Sorry, the file ' + filename + ' dose not exist.'\n",
    "        print(msg)\n",
    "    else:\n",
    "        # 计算文件大致包含多少个单词\n",
    "        words = contents.split()\n",
    "        num_words = len(words)\n",
    "        print('This file ' + filename + ' has about ' + str(num_words) + ' words.')\n",
    "        \n",
    "filename = 'alice.txt'\n",
    "count_words(filename)\n",
    "\n",
    "\n",
    "# 测试一下多个文件\n",
    "filenames = ['alice.txt','siddhartha.txt','moby_dick.txt','little_women.txt']\n",
    "for filename in filenames:\n",
    "    count_words(filename)\n",
    "    # 故意缺少某个文件的情况下，也丝毫不影响这个程序处理其他文件"
   ]
  },
  {
   "cell_type": "code",
   "execution_count": 65,
   "metadata": {},
   "outputs": [
    {
     "name": "stdout",
     "output_type": "stream",
     "text": [
      "This file alice.txt has about 29461 words.\n",
      "This file siddhartha.txt has about 42172 words.\n",
      "This file little_women.txt has about 189079 words.\n"
     ]
    }
   ],
   "source": [
    "# 8-失败时一声不吭\n",
    "# 有时会希望程序在发生异常时一声不吭\n",
    "\n",
    "# pass语句，可在代码块中使用来让Python什么都不要做\n",
    "\n",
    "def count_words(filename):\n",
    "    \"\"\"计算一个文件大致包含多少个单词\"\"\"\n",
    "    try:\n",
    "        with open(filename) as f_obj:\n",
    "            contents = f_obj.read()\n",
    "    except FileNotFoundError:\n",
    "        pass \n",
    "        # 与上一个程序的唯一不同之处。发生异常时，将什么都不做\n",
    "        # 最终用户将看到存在的文件每个分别包含多少单词，没找到的文件没有任何提示 \n",
    "    else:\n",
    "        # 计算文件大致包含多少个单词\n",
    "        words = contents.split()\n",
    "        num_words = len(words)\n",
    "        print('This file ' + filename + ' has about ' + str(num_words) + ' words.')\n",
    "        \n",
    "# 测试一下多个文件\n",
    "filenames = ['alice.txt','siddhartha.txt','moby_dick.txt','little_women.txt']\n",
    "for filename in filenames:\n",
    "    count_words(filename)"
   ]
  },
  {
   "cell_type": "markdown",
   "metadata": {},
   "source": [
    "### 编写得很好且经过详尽测试的代码不容易出现内部错误，如语法或逻辑错误\n",
    "\n",
    "### 但只要程序依赖于外部因素，如用户输入、存在指定的文件、有网络链接，就有可能出现异常。\n",
    "\n",
    "### 凭借经验可判断该在程序的什么地方包含异常处理块，以及出现错误时该向用户提供多少相关的信息。"
   ]
  },
  {
   "cell_type": "markdown",
   "metadata": {},
   "source": [
    "## 10.4 存储数据"
   ]
  },
  {
   "cell_type": "markdown",
   "metadata": {},
   "source": [
    "JSON(JavaScript Object Notation)格式最初是为JavaScript开发的，随后成了一种常见格式，被包括Python在内的众多语言采用。"
   ]
  },
  {
   "cell_type": "markdown",
   "metadata": {},
   "source": [
    "### 小结：\n",
    "\n",
    "#### JSON：一种在程序之间共享数据的简单方式\n",
    "#### 使用前需要导入json模块：import json\n",
    "#### json的写入和读取：json.dump()--写入；json.load()--读取\n",
    "    注：菜鸟教程里的是复数，括号里的参数也很多设置dumps，loads\n",
    "#### 写入格式：\n",
    "    with open(filename, 'w') as f_obj: # 以写入模式打开这个文件。若文件不存在，将新建这个文件。\n",
    "        json.dump(listname, f_obj) # 使用函数json.dump()将列表listname存储到文件numbers.json中\n",
    "#### 读取格式：\n",
    "    with open(filename) as f_obj:\n",
    "        a = json.load(f_obj) # 将读取到的json文件内容存储到变量a中\n",
    "#### open()--如果文件不存在，读取模式不会创建新文件会报错，写入模式会创建新文件\n",
    "#### 为保护程序，需要将FileNotFoundError写入try-except代码块中\n",
    "#### 重构：多个功能时，可重构，将不同功能def封装到单个函数中"
   ]
  },
  {
   "cell_type": "code",
   "execution_count": 70,
   "metadata": {},
   "outputs": [],
   "source": [
    "# 1-使用json.dump()和json.load()\n",
    "# 一种在程序之间共享数据的简单方式\n",
    "\n",
    "\n",
    "# 编写一个存储一组数字的简短程序，再编写一个将这些数组读取到内存中的程序\n",
    "# 第一个程序使用json.dump()来存储这组数字，第二个程序使用json.load()\n",
    "\n",
    "# number_write.py\n",
    "import json # 导入json模块\n",
    "\n",
    "numbers = [2, 3, 5, 7, 11, 13]\n",
    "\n",
    "filename = 'numbers.json' # 指定要将该数字列表存储到其中的文件的名称\n",
    "with open(filename, 'w') as f_obj: # 以写入模式打开这个文件。若文件不存在，将新建这个文件。\n",
    "    json.dump(numbers, f_obj) # 使用函数json.dump()将数字列表存储到文件numbers.json中\n",
    "    \n",
    "    # 这个程序没有输出，但打开文件numbers.json将看到其中的内容"
   ]
  },
  {
   "cell_type": "code",
   "execution_count": 71,
   "metadata": {},
   "outputs": [
    {
     "name": "stdout",
     "output_type": "stream",
     "text": [
      "[2, 3, 5, 7, 11, 13]\n"
     ]
    }
   ],
   "source": [
    "# number_reader.py\n",
    "# 使用json.load()将这个列表读取到内存中\n",
    "\n",
    "import json\n",
    "\n",
    "filename = 'numbers.json'\n",
    "with open(filename) as f_obj:\n",
    "    number = json.load(f_obj)\n",
    "    \n",
    "print(numbers)"
   ]
  },
  {
   "cell_type": "code",
   "execution_count": 72,
   "metadata": {},
   "outputs": [
    {
     "name": "stdout",
     "output_type": "stream",
     "text": [
      "What is your name? Adam\n",
      "We'll remember you when you come back, Adam!\n"
     ]
    }
   ],
   "source": [
    "# 2-保存和读取用户生成的数据\n",
    "\n",
    "# 用户首次运行程序时被提示输入自己的名字，再次运行时就记住他了\n",
    "# remember_me.py\n",
    "\n",
    "import json\n",
    "username = input('What is your name? ')\n",
    "\n",
    "filename = 'username.json' \n",
    "with open(filename, 'w') as f_obj: # 写入操作，当文件不存在的情况下，创建新文件\n",
    "    json.dump(username, f_obj) # 调用json.dump()，将用户名和一个文件对象传递给它，从而将用户名存储到文件中\n",
    "    print(\"We'll remember you when you come back, \" + username + '!')"
   ]
  },
  {
   "cell_type": "code",
   "execution_count": 73,
   "metadata": {},
   "outputs": [
    {
     "name": "stdout",
     "output_type": "stream",
     "text": [
      "Welcome back, Adam!\n"
     ]
    }
   ],
   "source": [
    "# greet_user.py\n",
    "# 继续编写一个程序，向其名字被存储的用户发出问候\n",
    "\n",
    "import json\n",
    "\n",
    "filename = 'username.json'\n",
    "\n",
    "with open(filename) as f_obj:\n",
    "    username = json.load(f_obj)\n",
    "    print(\"Welcome back, \" + username + '!')"
   ]
  },
  {
   "cell_type": "code",
   "execution_count": 76,
   "metadata": {},
   "outputs": [
    {
     "name": "stdout",
     "output_type": "stream",
     "text": [
      "Welcome back, Alice!\n"
     ]
    }
   ],
   "source": [
    "# 将以上两个代码整合到同一个文件中时\n",
    "# remember_me.py\n",
    "\n",
    "# try-except:首先尝试恢复用户名，如果文件不存在，就在except代码块中提示用户输入，并将其存储，以便再次运行时能够获取\n",
    "\n",
    "import json\n",
    "\n",
    "# 如果以前存储了用户名，就加载它\n",
    "# 否则，就提示用户输入用户名并存储它\n",
    "filename = 'usernames.json'\n",
    "try:\n",
    "    with open(filename) as f_obj: # 这里不是写入模式，故文件不存在时不创建，只报错找不到文件\n",
    "        username = json.load(f_obj)\n",
    "except FileNotFoundError:\n",
    "    username = input('What is your name?  ')\n",
    "    with open(filename, 'w') as f_obj: # 这里是写入模式，在文件不存在的情况下会新建一个文件\n",
    "        json.dump(username, f_obj)\n",
    "        print(\"We'll remember you when you come back, \" + username + \"!\")\n",
    "else:\n",
    "    print(\"Welcome back, \" + username + '!')"
   ]
  },
  {
   "cell_type": "code",
   "execution_count": 81,
   "metadata": {
    "scrolled": true
   },
   "outputs": [
    {
     "name": "stdout",
     "output_type": "stream",
     "text": [
      "Welcome back, Adam!\n"
     ]
    }
   ],
   "source": [
    "# 3-重构\n",
    "# 重构：将可正确运行的代码划分为一系列完成具体工作的函数。重构让代码更清晰、更易于理解、更容易扩展。\n",
    "\n",
    "# remember_me.py\n",
    "# 将问候用户的所有代码都放在函数greet_user()中\n",
    "\n",
    "import json\n",
    "\n",
    "def get_stored_username():\n",
    "    \"\"\"如果存储了用户名，就获取它\"\"\"\n",
    "    filename = 'username.json'\n",
    "    try:\n",
    "        with open(filename) as f_obj:\n",
    "            username = json.load(f_obj)\n",
    "    except FileNotFoundError:\n",
    "        return None\n",
    "    else:\n",
    "        return username\n",
    "\n",
    "def get_new_username():\n",
    "    \"\"\"提示用户输入用户名\"\"\"\n",
    "    username = input('What is your name? ')\n",
    "    filename = 'username.json'\n",
    "    with open(filename, 'w') as f_obj:\n",
    "        json.dump(username, f_obj)\n",
    "    return username\n",
    "    \n",
    "def greet_user():\n",
    "    \"\"\"问候用户，并指出其名字\"\"\"\n",
    "    username = get_stored_username()\n",
    "    if username:\n",
    "        print('Welcome back, ' + username + '!')\n",
    "    else:\n",
    "        username = get_new_username()\n",
    "        print(\"We'll remember you when you come back, \" + username + '!')\n",
    "        \n",
    "greet_user()"
   ]
  }
 ],
 "metadata": {
  "kernelspec": {
   "display_name": "Python 3",
   "language": "python",
   "name": "python3"
  },
  "language_info": {
   "codemirror_mode": {
    "name": "ipython",
    "version": 3
   },
   "file_extension": ".py",
   "mimetype": "text/x-python",
   "name": "python",
   "nbconvert_exporter": "python",
   "pygments_lexer": "ipython3",
   "version": "3.7.0"
  }
 },
 "nbformat": 4,
 "nbformat_minor": 2
}
