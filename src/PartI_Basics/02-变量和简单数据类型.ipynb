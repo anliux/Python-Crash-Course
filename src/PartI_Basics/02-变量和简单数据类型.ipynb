{
 "cells": [
  {
   "cell_type": "markdown",
   "metadata": {},
   "source": [
    "# 第二章 变量和简单数据类型\n",
    "\n",
    "知识点：认识变量、变量名规则、单双引号、字符串（大小写、拼接、空白）、数字（简单计算-除法、次方）、注释（单行多行）"
   ]
  },
  {
   "cell_type": "markdown",
   "metadata": {},
   "source": [
    "## 2.1 变量\n",
    "\n",
    "### python变量名：\n",
    "大写无妨，尽量用小写，字母数字下划线，数字不能开头，中间不能空格，并且慎用小写字母L和大写字母O(与数字0,1非常相似)\n",
    "\n",
    "### Python约定的文件名：\n",
    "使用小写字母和下划线"
   ]
  },
  {
   "cell_type": "code",
   "execution_count": 5,
   "metadata": {},
   "outputs": [
    {
     "name": "stdout",
     "output_type": "stream",
     "text": [
      "Hello Python World!\n",
      "Hello Python Crash Course World!\n"
     ]
    }
   ],
   "source": [
    "# 变量\n",
    "# hello_world.py\n",
    "\n",
    "message = 'Hello Python World!'\n",
    "print(message)\n",
    "\n",
    "message = 'Hello Python Crash Course World!'\n",
    "print(message)"
   ]
  },
  {
   "cell_type": "markdown",
   "metadata": {},
   "source": [
    "## 2.2 字符串\n",
    "\n",
    "### 单引号双引号均可，灵活使用有助于撇号的使用，单双均可在外"
   ]
  },
  {
   "cell_type": "markdown",
   "metadata": {},
   "source": [
    "### 小结：\n",
    "\n",
    "#### title() - 改为首字母大写、其余小写\n",
    "#### upper() - 改为所有字母大写\n",
    "#### lower() - 改为所有字母小写\n",
    "#### + ：拼接字符串\n",
    "#### 制表符：\\t\n",
    "#### 换行： \\n\n",
    "#### strip() - 删除空白\n",
    "#### rstrip() - 删除右边的空白\n",
    "#### lstrip() - 删除左边的空白\n",
    "#### 单双引号的灵活使用：普通用单；双嵌套单，英语中常用的缩写一撇等等"
   ]
  },
  {
   "cell_type": "code",
   "execution_count": 120,
   "metadata": {
    "scrolled": true
   },
   "outputs": [
    {
     "name": "stdout",
     "output_type": "stream",
     "text": [
      "Ada Lovelace\n",
      "ADA LOVELACE\n",
      "ada lovelace\n",
      "ada lovelace\n",
      "Hello,Ada Lovelace!\n",
      "Hello,Ada Lovelace!\n",
      "\tPython\n",
      "Language:\n",
      "Python\n",
      "C\n",
      "JavaScript\n",
      "Language:\n",
      "\tPython\n",
      "\tC\n",
      "\tJavaScript\n",
      " Python\n"
     ]
    }
   ],
   "source": [
    "# 字符串\n",
    "# name.py\n",
    "\n",
    "\n",
    "# 字符串大小写\n",
    "name = 'ADA loVelace'\n",
    "print(name.title()) # title() - 改为首字母大写、其余小写\n",
    "print(name.upper()) # upper() - 改为所有字母大写\n",
    "print(name.lower()) # lower() - 改为所有字母小写，很有用\n",
    "\n",
    "\n",
    "\n",
    "# 字符串合并/拼接\n",
    "first_name = 'ada'\n",
    "last_name = 'lovelace'\n",
    "full_name = first_name + ' ' + last_name # ''里的是姓和名之间的空格\n",
    "    # +合并字符串：拼接\n",
    "print(full_name) # 简单输出拼接成的全名\n",
    "print('Hello,' + full_name.title() + '!')  # 使用全名并设置为合适的格式，以显示一条格式良好的问候语\n",
    "\n",
    "# 或者使用拼接来创建消息，并把整条消息存储在一个变量中\n",
    "message = 'Hello,' + full_name.title() + '!'\n",
    "print(message)\n",
    "\n",
    "\n",
    "\n",
    "# 字符串添加空白 - 制表符或换行\n",
    "# 制表符：\\t\n",
    "# 换行： \\n\n",
    "print('\\tPython') # 行首制表符\n",
    "print('Language:\\nPython\\nC\\nJavaScript') # 换号（不过可读性可真差。。。）\n",
    "print('Language:\\n\\tPython\\n\\tC\\n\\tJavaScript')  # 同时包含制表符和换行符 - 使用单行字符串生成四行输出\n",
    "\n",
    "\n",
    "\n",
    "# 字符串删除空白\n",
    "# 方法：strip() - 删除空白；rstrip() - 删除右边的空白；lstrip() - 删除左边的空白\n",
    "favorite_language = ' Python '\n",
    "print(favorite_language.rstrip()) # 这种只是暂时删除，下次用到还是有空格。永久删除需要将删除空格后的值存储在变量中"
   ]
  },
  {
   "cell_type": "code",
   "execution_count": 21,
   "metadata": {},
   "outputs": [
    {
     "name": "stdout",
     "output_type": "stream",
     "text": [
      "One of Python's strengths is its diverse community.\n"
     ]
    }
   ],
   "source": [
    "# 字符串\n",
    "# apostrophe.py\n",
    "\n",
    "\n",
    "# 字符串单引号双引号的正确使用\n",
    "message = \"One of Python's strengths is its diverse community.\"\n",
    "print(message)"
   ]
  },
  {
   "cell_type": "markdown",
   "metadata": {},
   "source": [
    "## 2.3 数字"
   ]
  },
  {
   "cell_type": "markdown",
   "metadata": {},
   "source": [
    "### 小结：\n",
    "\n",
    "#### py3的float不能精确显示（见最后一个0.1 + 0.2=0.30000000000000004）\n",
    "#### 整数相除，结果为float类型（Python2的整数相除为int型，同其他语言）\n",
    "#### 两个星号  * ：乘方，相当于^\n",
    "#### 用+号连接str和int时，将int转为str：当int x, str(x)后在加号连接"
   ]
  },
  {
   "cell_type": "code",
   "execution_count": 34,
   "metadata": {
    "scrolled": true
   },
   "outputs": [
    {
     "name": "stdout",
     "output_type": "stream",
     "text": [
      "0.3333333333333333\n",
      "9\n",
      "1000000\n",
      "0.2\n",
      "0.30000000000000004\n"
     ]
    }
   ],
   "source": [
    "# 整数：加减乘除，乘方-两个乘号\n",
    "\n",
    "print(1/3) \n",
    "    # 注意：python中整数除法与其他语言不同，不是强制砍掉小数部分\n",
    "    # 注意：python2中，整数除法的规则与其他语言一致，直接砍掉小数部分（不四舍五入），故需至少一个操作数为浮点数\n",
    "\n",
    "print(3 ** 2)\n",
    "print(10 ** 6)\n",
    "\n",
    "# 浮点数：没什么特别的，注意小数位数可能是不确定的\n",
    "print(0.1 + 0.1)\n",
    "print(0.1 + 0.2)"
   ]
  },
  {
   "cell_type": "code",
   "execution_count": 36,
   "metadata": {},
   "outputs": [
    {
     "name": "stdout",
     "output_type": "stream",
     "text": [
      "Happy 23rd Birthday!\n"
     ]
    }
   ],
   "source": [
    "# 使用函数str()避免类型错误\n",
    "# birthday.py\n",
    "\n",
    "age = 23\n",
    "message = 'Happy ' + str(age) + 'rd Birthday!'\n",
    "print(message)"
   ]
  },
  {
   "cell_type": "markdown",
   "metadata": {},
   "source": [
    "## 2.4 注释\n",
    "\n",
    "### 小结：\n",
    "#### 单行：井号开头\n",
    "#### 多行：三个单引号或双引号分别在段首尾，为了好看最好另起一行（多行好像是文档注释，会生成什么文件吗...）"
   ]
  },
  {
   "cell_type": "code",
   "execution_count": 98,
   "metadata": {},
   "outputs": [
    {
     "name": "stdout",
     "output_type": "stream",
     "text": [
      "Hello Python People!\n"
     ]
    }
   ],
   "source": [
    "# comment.py\n",
    "# 向大家问好\n",
    "\n",
    "'''\n",
    "这里是:\n",
    "多行注释\n",
    "\n",
    "'''\n",
    "print('Hello Python People!')"
   ]
  },
  {
   "cell_type": "markdown",
   "metadata": {},
   "source": [
    "## 2.5 python之禅\n",
    "### 键入 import this 会显示"
   ]
  },
  {
   "cell_type": "markdown",
   "metadata": {},
   "source": [
    "* 美胜于丑。\n",
    "* 显式优于隐式。\n",
    "* 简单胜于复杂。\n",
    "* 复杂总比复杂好。\n",
    "* 平的比嵌套的好。\n",
    "* 稀疏胜于稠密。\n",
    "* 可读性计数。\n",
    "* 特殊情况不足以打破规则。\n",
    "* 尽管实用性胜过纯洁性。\n",
    "* 错误永远不会悄悄地过去。\n",
    "* 除非明确沉默。\n",
    "* 面对歧义，拒绝猜测的诱惑。\n",
    "* 应该有一种——最好只有一种——显而易见的方法来做到这一点。\n",
    "* 不过，如果不是荷兰语的话，这种方式一开始可能并不明显。\n",
    "* 现在总比没有好。\n",
    "* 虽然从来没有比现在更好。\n",
    "* 如果实现很难解释，那是个坏主意。\n",
    "* 如果实现很容易解释，这可能是一个好主意。\n",
    "* 名称空间是一个非常好的主意——让我们做更多的事情吧！"
   ]
  },
  {
   "cell_type": "code",
   "execution_count": 38,
   "metadata": {
    "scrolled": true
   },
   "outputs": [
    {
     "name": "stdout",
     "output_type": "stream",
     "text": [
      "The Zen of Python, by Tim Peters\n",
      "\n",
      "Beautiful is better than ugly.\n",
      "Explicit is better than implicit.\n",
      "Simple is better than complex.\n",
      "Complex is better than complicated.\n",
      "Flat is better than nested.\n",
      "Sparse is better than dense.\n",
      "Readability counts.\n",
      "Special cases aren't special enough to break the rules.\n",
      "Although practicality beats purity.\n",
      "Errors should never pass silently.\n",
      "Unless explicitly silenced.\n",
      "In the face of ambiguity, refuse the temptation to guess.\n",
      "There should be one-- and preferably only one --obvious way to do it.\n",
      "Although that way may not be obvious at first unless you're Dutch.\n",
      "Now is better than never.\n",
      "Although never is often better than *right* now.\n",
      "If the implementation is hard to explain, it's a bad idea.\n",
      "If the implementation is easy to explain, it may be a good idea.\n",
      "Namespaces are one honking great idea -- let's do more of those!\n"
     ]
    }
   ],
   "source": [
    "import this"
   ]
  }
 ],
 "metadata": {
  "kernelspec": {
   "display_name": "Python 3",
   "language": "python",
   "name": "python3"
  },
  "language_info": {
   "codemirror_mode": {
    "name": "ipython",
    "version": 3
   },
   "file_extension": ".py",
   "mimetype": "text/x-python",
   "name": "python",
   "nbconvert_exporter": "python",
   "pygments_lexer": "ipython3",
   "version": "3.7.0"
  }
 },
 "nbformat": 4,
 "nbformat_minor": 2
}
