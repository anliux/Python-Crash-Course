{
 "cells": [
  {
   "cell_type": "markdown",
   "metadata": {},
   "source": [
    "# 第五章 if语句\n",
    "\n",
    "知识点：if语句，if-else，if-elif，多个if，各种if嵌套，条件测试（布尔表达式），比较数值大小，多个条件（and，or），检测特定值是/不包含在列表中/列表是否为空/一个列表是否在另一个列表中，if格式（空格增加可读性）"
   ]
  },
  {
   "cell_type": "markdown",
   "metadata": {},
   "source": [
    "## 5.1 一个简单示例"
   ]
  },
  {
   "cell_type": "markdown",
   "metadata": {},
   "source": [
    "### 小结：\n",
    "\n",
    "#### if语句格式：if xxx:  xxx   else: xxx"
   ]
  },
  {
   "cell_type": "code",
   "execution_count": 115,
   "metadata": {},
   "outputs": [
    {
     "name": "stdout",
     "output_type": "stream",
     "text": [
      "Audi\n",
      "BMW\n",
      "Subaru\n",
      "Toyota\n"
     ]
    }
   ],
   "source": [
    "# cars.py\n",
    "cars = ['audi','bmw','subaru','toyota']\n",
    "\n",
    "for car in cars:\n",
    "    if car == 'bmw':\n",
    "        print(car.upper())\n",
    "    else:\n",
    "        print(car.title())"
   ]
  },
  {
   "cell_type": "markdown",
   "metadata": {},
   "source": [
    "## 5.2 条件测试(布尔表达式)\n",
    "\n",
    "### 每条if 语句的核心都是一个值为True 或False 的表达式，这种表达式被称为条件测试"
   ]
  },
  {
   "cell_type": "markdown",
   "metadata": {},
   "source": [
    "### 小结：\n",
    "\n",
    "#### if 条件测试(布尔表达式，就是一个为True 或者 False的表达式)\n",
    "#### 数值大小比较：正常比较，如> >= < <=\n",
    "#### 检查多个条件：and 或者 or组合，符合数学中的“与”和“或”的规则\n",
    "#### 检查特定值是否包含在列表中: 'x' in list_name - 结果：True or False\n",
    "#### 检查特定值是否不包含在列表中：关键字 not in -  'x' not in list_name - 结果：True or False，不包含时返回True"
   ]
  },
  {
   "cell_type": "code",
   "execution_count": 124,
   "metadata": {},
   "outputs": [
    {
     "name": "stdout",
     "output_type": "stream",
     "text": [
      "True\n",
      "False\n",
      "True\n"
     ]
    }
   ],
   "source": [
    "# 1-检查是否相等\n",
    "# 先赋值，后判断是否为某个值\n",
    "car = 'Audi'\n",
    "print(car == 'Audi')\n",
    "\n",
    "\n",
    "\n",
    "# 2-检查是否相等时考虑大小写\n",
    "print(car == 'audi')\n",
    "\n",
    "# 如果大小写很重要，这种行为有其优点。如果大小写不重要，只想检查变量的值，可将变量值转换为小写再比较\n",
    "# lower()不会修改存储在变量car中的值，因此这样比较时不会影响原来的变量\n",
    "# 例子：网站注册用户名时，确保无论大小写都是独一无二的才可以通过\n",
    "print(car.lower() == 'audi')"
   ]
  },
  {
   "cell_type": "code",
   "execution_count": 125,
   "metadata": {},
   "outputs": [
    {
     "name": "stdout",
     "output_type": "stream",
     "text": [
      "Hold the anchovies!\n"
     ]
    }
   ],
   "source": [
    "# toppings.py\n",
    "# 把要求的披萨配料存储在一个变量中，顾客要求的配料是否是意式小银鱼（anchovies）\n",
    "\n",
    "# 3-检查是否不相等\n",
    "requested_topping = 'mushrooms'\n",
    "if requested_topping != 'anchovies':\n",
    "    print('Hold the anchovies!')"
   ]
  },
  {
   "cell_type": "code",
   "execution_count": 134,
   "metadata": {},
   "outputs": [
    {
     "name": "stdout",
     "output_type": "stream",
     "text": [
      "True\n",
      "That is not the correct answer. Please try again!\n",
      "False\n",
      "False\n",
      "False\n",
      "True\n",
      "False\n"
     ]
    }
   ],
   "source": [
    "# 4-比较数字\n",
    "# 检查一个人是否是18岁：\n",
    "age = 18\n",
    "print(age == 18)\n",
    "\n",
    "# magic_number.py\n",
    "# 检查两个数字是否不等\n",
    "answer = 17\n",
    "if answer != 42:\n",
    "    print('That is not the correct answer. Please try again!')\n",
    "\n",
    "    \n",
    "    \n",
    "# 在if 语句中可使用各种数学比较，这让你能够直接检查关心的条件\n",
    "# 条件语句中可包含各种数学比较，如> >= < <=\n",
    "print(age == 19)\n",
    "print(age > 21)\n",
    "print(age <= 13)\n",
    "\n",
    "\n",
    "\n",
    "# 5-检查多个条件：and 或者 or组合多个条件\n",
    "\n",
    "\n",
    "\n",
    "# 6-检查特定值是否包含在列表中: 'x' in list_name - True or False\n",
    "requested_toppings = ['mushroom','onions','pineapple']\n",
    "a = 'mushroom' in requested_toppings\n",
    "print(a)\n",
    "b = 'pepperoni' in requested_toppings\n",
    "print(b)"
   ]
  },
  {
   "cell_type": "code",
   "execution_count": 137,
   "metadata": {},
   "outputs": [
    {
     "name": "stdout",
     "output_type": "stream",
     "text": [
      "Marie,you can post a response if you wish.\n"
     ]
    }
   ],
   "source": [
    "# banned_user.py\n",
    "# 7-检查特定值是否不包含在列表中：关键字 not in - 不包含时返回True\n",
    "# 例如：如果有一个列表，其中包含被禁止在论坛发言的用户\n",
    "banned_users = ['andrew','carolina','david']\n",
    "user = 'marie'\n",
    "\n",
    "if user not in banned_users:\n",
    "    print(user.title()+',you can post a response if you wish.')\n",
    "# 如果user在禁言名单，什么都不显示\n",
    "\n",
    "\n",
    "\n",
    "# 8-布尔表达式：条件测试的别名（反倒是我没听过条件测试哈哈）\n",
    "# 布尔值通常用于记录条件，如游戏是否正在运行，或用户是否可以编辑网站的特定内容\n",
    "game_active = True\n",
    "can_edit = False"
   ]
  },
  {
   "cell_type": "markdown",
   "metadata": {},
   "source": [
    "## 5.3 if语句"
   ]
  },
  {
   "cell_type": "markdown",
   "metadata": {},
   "source": [
    "### 小结：\n",
    "\n",
    "#### if-else结构\n",
    "#### if嵌套：if-elif-...-else结构\n",
    "#### 测试多个条件：if... if... if..."
   ]
  },
  {
   "cell_type": "code",
   "execution_count": 142,
   "metadata": {},
   "outputs": [
    {
     "name": "stdout",
     "output_type": "stream",
     "text": [
      "You are old enough to vote!\n",
      "Have you registered to vote yet?\n"
     ]
    }
   ],
   "source": [
    "# voting.py\n",
    "# if-else结构非常适用于执行两种操作之一的情形\n",
    "\n",
    "age = 19\n",
    "if age >= 18:\n",
    "    print('You are old enough to vote!')\n",
    "    print('Have you registered to vote yet?')\n",
    "else:\n",
    "    print('Sorry, you are too young to vote.')\n",
    "    print('Please register to vote as soon as you turn 18!')"
   ]
  },
  {
   "cell_type": "code",
   "execution_count": 146,
   "metadata": {},
   "outputs": [
    {
     "name": "stdout",
     "output_type": "stream",
     "text": [
      "Your admission cost is $5.\n"
     ]
    }
   ],
   "source": [
    "# amusement_park.py\n",
    "# if-elif-else结构适用于两个以上情形\n",
    "# 可根据需要使用任意数量的elif代码块，例如给老年人打折，可再添加一个条件测试\n",
    "\n",
    "age = 12\n",
    "if age < 4:\n",
    "    price = 0\n",
    "elif age< 18:\n",
    "    price = 5\n",
    "elif age < 65:\n",
    "    price = 10\n",
    "else: # 或者elif age >= 65 \n",
    "      # 省略else代码块，用elif来处理特定的情形更清晰\n",
    "      # else：一条包罗万象的语句，可能会引入无效甚至恶意的数据。如果知道最终要测试的条件，应考虑使用elif代替else\n",
    "    price =10\n",
    "print('Your admission cost is $'+str(price)+'.') # 前面遇到过这种typeError，这里把整数类型转换成str"
   ]
  },
  {
   "cell_type": "code",
   "execution_count": 1,
   "metadata": {},
   "outputs": [
    {
     "name": "stdout",
     "output_type": "stream",
     "text": [
      "Adding mushrooms.\n",
      "Adding extra cheese.\n"
     ]
    }
   ],
   "source": [
    "# toppings.py\n",
    "# 测试多个条件\n",
    "\n",
    "# 披萨店示例：如果顾客点了两种配料，就需要确保在其披萨中包含这些配料\n",
    "requested_toppings = ['mushrooms','extra cheese']\n",
    "\n",
    "if 'mushrooms' in requested_toppings:\n",
    "    print('Adding mushrooms.')\n",
    "if 'pepperoni' in requested_toppings:\n",
    "    print('Adding pepperoni.')\n",
    "if 'extra cheese' in requested_toppings:\n",
    "    print('Adding extra cheese.')\n",
    "\n",
    "# 这一条可能是要说明一个非常浅显的道理，就是如果用if-else，当符合前一个条件时，后面的统统不执行了，某些情形不适用。\n",
    "\n",
    "# 只想执行一个代码块，就使用if-elif-else结构；\n",
    "# 如果要运行多个代码块，就使用一系列独立的if语句"
   ]
  },
  {
   "cell_type": "markdown",
   "metadata": {},
   "source": [
    "\n",
    "## 5.4 使用if语句处理列表"
   ]
  },
  {
   "cell_type": "markdown",
   "metadata": {},
   "source": [
    "### 小结：\n",
    "\n",
    "#### 检查特殊元素：for a in listname: if a == 'sth' (如果b列表中包含sth，就怎样)\n",
    "#### 检查列表不是空的：if listname: ... \n",
    "#### 检查一个列表a是否在另一个列表b中：for a in a_list: if a in b_list: ..."
   ]
  },
  {
   "cell_type": "code",
   "execution_count": 4,
   "metadata": {},
   "outputs": [
    {
     "name": "stdout",
     "output_type": "stream",
     "text": [
      "Adding mushrooms.\n",
      "Sorry, we are out of green peppers right now.\n",
      "Adding extra cheese.\n",
      "\n",
      "Finished making your pizza!\n",
      "\n",
      "Are you sure you want a plain pizza?\n",
      "\n",
      "\n",
      "Adding mushrooms.\n",
      "Sorry, we dont have french fries.\n",
      "Adding extra cheese.\n",
      "\n",
      "Finished making your pizza!\n"
     ]
    }
   ],
   "source": [
    "# toppings.py\n",
    "# 披萨店示例 - 制作披萨时，用户的点单系统，每添加一种配料都打印一条消息。\n",
    "# 创建一个列表，在其中包含顾客点的配料，并使用一个循环来指出添加到披萨中的配料。\n",
    "\n",
    "\n",
    "# 检查特殊元素\n",
    "# 如果青椒用完了，就显示一条消息，指出不能点青椒的原因。\n",
    "requested_toppings = ['mushrooms','green peppers','extra cheese']\n",
    "\n",
    "for requested_topping in requested_toppings:\n",
    "    if requested_topping == 'green peppers':\n",
    "        print('Sorry, we are out of green peppers right now.')\n",
    "    else:\n",
    "        print('Adding ' + requested_topping+'.')\n",
    "\n",
    "print('\\nFinished making your pizza!')\n",
    "\n",
    "\n",
    "\n",
    "# 确定列表不是空的\n",
    "# Python将在列表至少包含一个元素时返回True\n",
    "requested_toppings = []\n",
    "\n",
    "if requested_toppings: # 列表为空，返回Flase，执行else的内容\n",
    "    for requested_toppings in requested_toppings:\n",
    "        print('\\nAdding '+requested_topping+'.')\n",
    "    print('\\nFinished making your pizza!')\n",
    "else:\n",
    "    print('\\nAre you sure you want a plain pizza?')\n",
    "    print('\\n')\n",
    "\n",
    "    \n",
    "    \n",
    "# 使用多个列表\n",
    "# 第一个列表包含比萨店供应的配料，第二个包含顾客点的配料。\n",
    "# 对requested_toppings中的每个元素，都检查它是否是比萨店供应的配料，再决定是否在比萨中添加它。\n",
    "available_toppings = ['mushrooms','olives','green peppers','pepperoni','pineapple','extra cheese']\n",
    "requested_toppings = ['mushrooms','french fries','extra cheese']\n",
    "for requested_topping in requested_toppings:\n",
    "    if requested_topping in available_toppings:\n",
    "        print('Adding ' + requested_topping + '.')\n",
    "    else:\n",
    "        print('Sorry, we dont have ' + requested_topping + '.')\n",
    "\n",
    "print('\\nFinished making your pizza!')"
   ]
  },
  {
   "cell_type": "markdown",
   "metadata": {},
   "source": [
    "## 5.5 设置if语句的格式\n",
    "\n",
    "#### 在诸如== 、>= 和<= 等比较运算符两边各添加一个空格，例如，if age < 4: 要比if age<4: 好。"
   ]
  }
 ],
 "metadata": {
  "kernelspec": {
   "display_name": "Python 3",
   "language": "python",
   "name": "python3"
  },
  "language_info": {
   "codemirror_mode": {
    "name": "ipython",
    "version": 3
   },
   "file_extension": ".py",
   "mimetype": "text/x-python",
   "name": "python",
   "nbconvert_exporter": "python",
   "pygments_lexer": "ipython3",
   "version": "3.7.0"
  }
 },
 "nbformat": 4,
 "nbformat_minor": 2
}
